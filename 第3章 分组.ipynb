{
 "cells": [
  {
   "cell_type": "markdown",
   "metadata": {},
   "source": [
    "<h1><center>第3章 分组</center></h1>"
   ]
  },
  {
   "cell_type": "code",
   "execution_count": 2,
   "metadata": {},
   "outputs": [],
   "source": [
    "import pandas as pd\n",
    "import numpy as np"
   ]
  },
  {
   "cell_type": "markdown",
   "metadata": {},
   "source": [
    "### 一、SAC过程\n",
    "#### 1. 所谓SAC过程，指的是分组操作中的split-apply-combine过程，其中split指基于某一些规则，将数据拆成若干组，apply是指对每一组独立地使用函数，combine指将每一组的结果组合成某一类数据结构。\n",
    "#### 2. 在apply过程中，我们实际往往会遇到四类问题：整合（Aggregation）——即分组计算统计量（如求均值、求每组元素个数），变换（Transformation）——即分组对每个单元的数据进行操作（如元素标准化），过滤（Filtration）——即按照某些规则筛选出一些组（如选出组内某一指标小于50的组），综合问题——即前面提及的三种问题的混合。"
   ]
  },
  {
   "cell_type": "markdown",
   "metadata": {},
   "source": [
    "### 二、groupby函数\n",
    "#### 1. 分组函数的基本内容："
   ]
  },
  {
   "cell_type": "code",
   "execution_count": 3,
   "metadata": {},
   "outputs": [
    {
     "data": {
      "text/html": [
       "<div>\n",
       "<style scoped>\n",
       "    .dataframe tbody tr th:only-of-type {\n",
       "        vertical-align: middle;\n",
       "    }\n",
       "\n",
       "    .dataframe tbody tr th {\n",
       "        vertical-align: top;\n",
       "    }\n",
       "\n",
       "    .dataframe thead th {\n",
       "        text-align: right;\n",
       "    }\n",
       "</style>\n",
       "<table border=\"1\" class=\"dataframe\">\n",
       "  <thead>\n",
       "    <tr style=\"text-align: right;\">\n",
       "      <th></th>\n",
       "      <th></th>\n",
       "      <th>Score1</th>\n",
       "      <th>Score2</th>\n",
       "    </tr>\n",
       "    <tr>\n",
       "      <th>Name</th>\n",
       "      <th>Day_num</th>\n",
       "      <th></th>\n",
       "      <th></th>\n",
       "    </tr>\n",
       "  </thead>\n",
       "  <tbody>\n",
       "    <tr>\n",
       "      <th rowspan=\"5\" valign=\"top\">Bob</th>\n",
       "      <th>day1</th>\n",
       "      <td>10</td>\n",
       "      <td>1.17</td>\n",
       "    </tr>\n",
       "    <tr>\n",
       "      <th>day2</th>\n",
       "      <td>8</td>\n",
       "      <td>0.60</td>\n",
       "    </tr>\n",
       "    <tr>\n",
       "      <th>day3</th>\n",
       "      <td>14</td>\n",
       "      <td>0.61</td>\n",
       "    </tr>\n",
       "    <tr>\n",
       "      <th>day4</th>\n",
       "      <td>6</td>\n",
       "      <td>1.13</td>\n",
       "    </tr>\n",
       "    <tr>\n",
       "      <th>day5</th>\n",
       "      <td>5</td>\n",
       "      <td>1.50</td>\n",
       "    </tr>\n",
       "  </tbody>\n",
       "</table>\n",
       "</div>"
      ],
      "text/plain": [
       "              Score1  Score2\n",
       "Name Day_num                \n",
       "Bob  day1         10    1.17\n",
       "     day2          8    0.60\n",
       "     day3         14    0.61\n",
       "     day4          6    1.13\n",
       "     day5          5    1.50"
      ]
     },
     "execution_count": 3,
     "metadata": {},
     "output_type": "execute_result"
    }
   ],
   "source": [
    "# groupby对象只是一个容器，它本身不会返回任何东西，只有当相应的方法被调用时才会返回对应结果\n",
    "# [表1] 第一列为名字，有两个人，第二列为第几天，一共四天，第三列到第五列为不同类型的数据\n",
    "df1 = pd.read_csv('data/ch3.csv')\n",
    "# 1.1 根据某一列分组\n",
    "group_single = df1.groupby('Name')\n",
    "group_single.get_group('Bob')\n",
    "# 1.2 根据某几列分组\n",
    "group_mul = df1.groupby(['Name','Day_num'])\n",
    "group_mul.get_group(('Bob','day1'))\n",
    "# 1.3 组的大小、数量及其遍历\n",
    "group_single.size() #组的大小\n",
    "group_single.ngroups\n",
    "for name,group in group_single:\n",
    "    #print(name)\n",
    "    #print(group)\n",
    "    pass\n",
    "group_mul.size()\n",
    "group_mul.ngroups\n",
    "for name,group in group_mul:\n",
    "    #print(name)\n",
    "    #print(group)\n",
    "    pass\n",
    "# 1.4 groupby函数中的level参数\n",
    "# level参数针对的是MultiIndex型\n",
    "# df1.groupby('Name',level=0).sum() # 此时指定level为默认索引\n",
    "# df1.groupby('Name',level=1).sum() # 报错，因为只有单层索引\n",
    "\n",
    "df1_mul_index = df1.set_index(['Name','Day_num'])\n",
    "df1_mul_index.groupby(level=1).sum()\n",
    "df1_mul_index.groupby(level=[0,1]).sum() # level=['Name','Day_num']结果也是一样的\n",
    "df1_mul_index.groupby(['Name','Day_num']).sum().head() # 事实上直接使用索引进行传入也是一样的"
   ]
  },
  {
   "cell_type": "markdown",
   "metadata": {},
   "source": [
    "#### 2. 分组对象的一些重要说明："
   ]
  },
  {
   "cell_type": "code",
   "execution_count": 5,
   "metadata": {},
   "outputs": [
    {
     "data": {
      "text/plain": [
       "Bob A        1.52\n",
       "Bob not A    5.16\n",
       "Tom A        4.18\n",
       "Tom not A    3.43\n",
       "Name: Score2, dtype: float64"
      ]
     },
     "execution_count": 5,
     "metadata": {},
     "output_type": "execute_result"
    }
   ],
   "source": [
    "# 事实上不一定要传入某一列作为分组对象，只要索引长度与df分割方向的长度相同即可，下面举两个例子：\n",
    "# (a) 按照某个函数规则分组（比如奇数索引和偶数索引）\n",
    "df1.groupby(lambda x:x%2==0).groups\n",
    "'''\n",
    "如果运行下面的程序，我们可以猜想，传入函数的机制就是传入了索引，因此如果传入了'col'列，那么就相当于对该列按索引取元素分组\n",
    "def f(x):\n",
    "    print(x)\n",
    "    print(type(x))\n",
    "df1.groupby(f).groups\n",
    "_df1 = pd.read_csv('data/ch3.csv',index_col='Name')\n",
    "def f(x):\n",
    "    print(x)\n",
    "    print(type(x))\n",
    "_df1.groupby(f).groups\n",
    "# _df1.groupby(lambda x:x%2==0).groups # 这一行报错，因为索引不是数值类型\n",
    "'''\n",
    "# (b) 多层索引\n",
    "_df1 = pd.read_csv('data/ch3.csv',index_col=['Name','Score3'])\n",
    "# 对所有第五列分数为A的分组，计算两人第四列分数的总和\n",
    "_df1.groupby(lambda x:'%s'%x[0]+' %s'%('A' if x[1][0]=='A' else 'not A'))['Score2'].sum()"
   ]
  },
  {
   "cell_type": "markdown",
   "metadata": {},
   "source": [
    "#### 3. 分组对象的所有属性或方法"
   ]
  },
  {
   "cell_type": "code",
   "execution_count": 4,
   "metadata": {},
   "outputs": [
    {
     "name": "stdout",
     "output_type": "stream",
     "text": [
      "['Day_num', 'Name', 'Score1', 'Score2', 'Score3', 'agg', 'aggregate', 'all', 'any', 'apply', 'backfill', 'bfill', 'boxplot', 'corr', 'corrwith', 'count', 'cov', 'cumcount', 'cummax', 'cummin', 'cumprod', 'cumsum', 'describe', 'diff', 'dtypes', 'expanding', 'ffill', 'fillna', 'filter', 'first', 'get_group', 'groups', 'head', 'hist', 'idxmax', 'idxmin', 'indices', 'last', 'mad', 'max', 'mean', 'median', 'min', 'ndim', 'ngroup', 'ngroups', 'nth', 'nunique', 'ohlc', 'pad', 'pct_change', 'pipe', 'plot', 'prod', 'quantile', 'rank', 'resample', 'rolling', 'sem', 'shift', 'size', 'skew', 'std', 'sum', 'tail', 'take', 'transform', 'tshift', 'var']\n"
     ]
    }
   ],
   "source": [
    "print([attr for attr in dir(group_single) if not attr.startswith('_')])"
   ]
  },
  {
   "cell_type": "markdown",
   "metadata": {},
   "source": [
    "### 三、整合操作（Aggregation）\n",
    "#### 1. 常见的整合函数（这些函数的特点都是返回单个标量值）：<br>\n",
    "    mean()\t    组内均值<br>\n",
    "    sum()\t    组内综合<br>\n",
    "    size()\t    组容量<br>\n",
    "    count()\t    组非缺失值个数<br>\n",
    "    std()\t    组标准差<br>\n",
    "    var()\t    组方差<br>\n",
    "    sem()\t    组内标准误差（$\\frac{组内标准差}{\\sqrt{组内非缺失值个数}}$）<br>\n",
    "    describe()\t组内统计信息汇总<br>\n",
    "    first()\t    组内第一个元素<br>\n",
    "    last()\t    组内最后一个元素<br>\n",
    "    nth()\t    组内第n个元素<br>\n",
    "    min()\t    组内最小值<br>\n",
    "    max()       组内最大值"
   ]
  },
  {
   "cell_type": "code",
   "execution_count": 5,
   "metadata": {},
   "outputs": [
    {
     "data": {
      "text/html": [
       "<div>\n",
       "<style scoped>\n",
       "    .dataframe tbody tr th:only-of-type {\n",
       "        vertical-align: middle;\n",
       "    }\n",
       "\n",
       "    .dataframe tbody tr th {\n",
       "        vertical-align: top;\n",
       "    }\n",
       "\n",
       "    .dataframe thead th {\n",
       "        text-align: right;\n",
       "    }\n",
       "</style>\n",
       "<table border=\"1\" class=\"dataframe\">\n",
       "  <thead>\n",
       "    <tr style=\"text-align: right;\">\n",
       "      <th></th>\n",
       "      <th>Name</th>\n",
       "      <th>Score1</th>\n",
       "      <th>Score2</th>\n",
       "    </tr>\n",
       "  </thead>\n",
       "  <tbody>\n",
       "    <tr>\n",
       "      <th>0</th>\n",
       "      <td>Bob</td>\n",
       "      <td>8</td>\n",
       "      <td>0.86</td>\n",
       "    </tr>\n",
       "    <tr>\n",
       "      <th>1</th>\n",
       "      <td>Tom</td>\n",
       "      <td>5</td>\n",
       "      <td>0.88</td>\n",
       "    </tr>\n",
       "  </tbody>\n",
       "</table>\n",
       "</div>"
      ],
      "text/plain": [
       "  Name  Score1  Score2\n",
       "0  Bob       8    0.86\n",
       "1  Tom       5    0.88"
      ]
     },
     "execution_count": 5,
     "metadata": {},
     "output_type": "execute_result"
    }
   ],
   "source": [
    "grouped = df1[['Score1','Score2','Name']].groupby('Name')\n",
    "grouped.max()\n",
    "# 调用reset_index或设置as_index=False可以返回不带行索引的整合数据\n",
    "df1[['Score1','Score2','Name']].groupby('Name').max().reset_index()\n",
    "df1[['Score1','Score2','Name']].groupby('Name',as_index=False).max()"
   ]
  },
  {
   "cell_type": "code",
   "execution_count": 6,
   "metadata": {},
   "outputs": [
    {
     "data": {
      "text/plain": [
       "array([[ True,  True],\n",
       "       [ True,  True]])"
      ]
     },
     "execution_count": 6,
     "metadata": {},
     "output_type": "execute_result"
    }
   ],
   "source": [
    "# 验证标准误差的计算公式：\n",
    "grouped.std().values/np.sqrt(grouped.count().values) == grouped.sem().values"
   ]
  },
  {
   "cell_type": "markdown",
   "metadata": {},
   "source": [
    "#### 2. 同时使用多个整合函数："
   ]
  },
  {
   "cell_type": "code",
   "execution_count": 7,
   "metadata": {},
   "outputs": [
    {
     "data": {
      "text/html": [
       "<div>\n",
       "<style scoped>\n",
       "    .dataframe tbody tr th:only-of-type {\n",
       "        vertical-align: middle;\n",
       "    }\n",
       "\n",
       "    .dataframe tbody tr th {\n",
       "        vertical-align: top;\n",
       "    }\n",
       "\n",
       "    .dataframe thead th {\n",
       "        text-align: right;\n",
       "    }\n",
       "</style>\n",
       "<table border=\"1\" class=\"dataframe\">\n",
       "  <thead>\n",
       "    <tr style=\"text-align: right;\">\n",
       "      <th>Name</th>\n",
       "      <th>Bob</th>\n",
       "      <th>Tom</th>\n",
       "    </tr>\n",
       "  </thead>\n",
       "  <tbody>\n",
       "    <tr>\n",
       "      <th>mean</th>\n",
       "      <td>2.488571</td>\n",
       "      <td>2.414643</td>\n",
       "    </tr>\n",
       "    <tr>\n",
       "      <th>std</th>\n",
       "      <td>0.977015</td>\n",
       "      <td>0.547055</td>\n",
       "    </tr>\n",
       "    <tr>\n",
       "      <th>sum</th>\n",
       "      <td>34.840000</td>\n",
       "      <td>33.805000</td>\n",
       "    </tr>\n",
       "  </tbody>\n",
       "</table>\n",
       "</div>"
      ],
      "text/plain": [
       "Name        Bob        Tom\n",
       "mean   2.488571   2.414643\n",
       "std    0.977015   0.547055\n",
       "sum   34.840000  33.805000"
      ]
     },
     "execution_count": 7,
     "metadata": {},
     "output_type": "execute_result"
    }
   ],
   "source": [
    "agged = grouped.agg(['sum','mean','std'])\n",
    "grouped.agg([('rename_sum','sum'),('rename_mean','mean')]) # 可以用元组重命名\n",
    "grouped.agg({'Score1':['mean','max'],'Score2':'median'}) # 指定哪些函数作用哪些列\n",
    "# 由于返回的还是DataFrame，我们尝试按照三个统计指标，在列（axis参数设置为1，默认为0）的第二层索引上进行分割：\n",
    "agged.groupby(axis=1,level=1).mean().T"
   ]
  },
  {
   "cell_type": "markdown",
   "metadata": {},
   "source": [
    "#### 3. 使用自定义函数："
   ]
  },
  {
   "cell_type": "code",
   "execution_count": 8,
   "metadata": {},
   "outputs": [
    {
     "data": {
      "text/html": [
       "<div>\n",
       "<style scoped>\n",
       "    .dataframe tbody tr th:only-of-type {\n",
       "        vertical-align: middle;\n",
       "    }\n",
       "\n",
       "    .dataframe tbody tr th {\n",
       "        vertical-align: top;\n",
       "    }\n",
       "\n",
       "    .dataframe thead th {\n",
       "        text-align: right;\n",
       "    }\n",
       "</style>\n",
       "<table border=\"1\" class=\"dataframe\">\n",
       "  <thead>\n",
       "    <tr style=\"text-align: right;\">\n",
       "      <th></th>\n",
       "      <th></th>\n",
       "      <th>min_score1</th>\n",
       "      <th>max_score1</th>\n",
       "      <th>range_score2</th>\n",
       "    </tr>\n",
       "    <tr>\n",
       "      <th>Name</th>\n",
       "      <th>Day_num</th>\n",
       "      <th></th>\n",
       "      <th></th>\n",
       "      <th></th>\n",
       "    </tr>\n",
       "  </thead>\n",
       "  <tbody>\n",
       "    <tr>\n",
       "      <th rowspan=\"5\" valign=\"top\">Bob</th>\n",
       "      <th>day1</th>\n",
       "      <td>0</td>\n",
       "      <td>5</td>\n",
       "      <td>0.11</td>\n",
       "    </tr>\n",
       "    <tr>\n",
       "      <th>day2</th>\n",
       "      <td>0</td>\n",
       "      <td>4</td>\n",
       "      <td>0.10</td>\n",
       "    </tr>\n",
       "    <tr>\n",
       "      <th>day3</th>\n",
       "      <td>2</td>\n",
       "      <td>8</td>\n",
       "      <td>0.13</td>\n",
       "    </tr>\n",
       "    <tr>\n",
       "      <th>day4</th>\n",
       "      <td>0</td>\n",
       "      <td>3</td>\n",
       "      <td>0.43</td>\n",
       "    </tr>\n",
       "    <tr>\n",
       "      <th>day5</th>\n",
       "      <td>1</td>\n",
       "      <td>3</td>\n",
       "      <td>0.22</td>\n",
       "    </tr>\n",
       "  </tbody>\n",
       "</table>\n",
       "</div>"
      ],
      "text/plain": [
       "              min_score1  max_score1  range_score2\n",
       "Name Day_num                                      \n",
       "Bob  day1              0           5          0.11\n",
       "     day2              0           4          0.10\n",
       "     day3              2           8          0.13\n",
       "     day4              0           3          0.43\n",
       "     day5              1           3          0.22"
      ]
     },
     "execution_count": 8,
     "metadata": {},
     "output_type": "execute_result"
    }
   ],
   "source": [
    "grouped = df1[['Score1','Score2','Name','Day_num']].groupby(['Name','Day_num'])\n",
    "# 定义极差函数：\n",
    "def R(df):\n",
    "    # 这里的df相当于分组对象中的某一个组\n",
    "    return df.max()-df.min()\n",
    "grouped.agg(R)\n",
    "# 使用lambda表达式也是合法的：\n",
    "grouped.agg(lambda x:x.max()-x.min())\n",
    "# 对新指标列取新名字(此处不难发现可以对同一个列进行多次聚合，但是不能使用lambda函数，会报错)：\n",
    "grouped.agg(min_score1=pd.NamedAgg(column='Score1', aggfunc=R),\n",
    "            max_score1=pd.NamedAgg(column='Score1', aggfunc='max'),\n",
    "            range_score2=pd.NamedAgg(column='Score2', aggfunc=R)).head()"
   ]
  },
  {
   "cell_type": "markdown",
   "metadata": {},
   "source": [
    "### 四、变换操作（Transformation）\n",
    "#### 1. transform函数针对的是组内的每一个元素，每组返回的长度需要与组大小一致，分组标准化就是一种非常常见的变换操作："
   ]
  },
  {
   "cell_type": "code",
   "execution_count": 9,
   "metadata": {},
   "outputs": [],
   "source": [
    "index = np.random.randint(0,4,300)\n",
    "index2 = np.random.randint(0,4,300)\n",
    "column = np.random.rand((300))"
   ]
  },
  {
   "cell_type": "code",
   "execution_count": 10,
   "metadata": {},
   "outputs": [
    {
     "data": {
      "text/html": [
       "<div>\n",
       "<style scoped>\n",
       "    .dataframe tbody tr th:only-of-type {\n",
       "        vertical-align: middle;\n",
       "    }\n",
       "\n",
       "    .dataframe tbody tr th {\n",
       "        vertical-align: top;\n",
       "    }\n",
       "\n",
       "    .dataframe thead th {\n",
       "        text-align: right;\n",
       "    }\n",
       "</style>\n",
       "<table border=\"1\" class=\"dataframe\">\n",
       "  <thead>\n",
       "    <tr style=\"text-align: right;\">\n",
       "      <th></th>\n",
       "      <th></th>\n",
       "      <th>col1</th>\n",
       "      <th>col2</th>\n",
       "    </tr>\n",
       "  </thead>\n",
       "  <tbody>\n",
       "    <tr>\n",
       "      <th rowspan=\"4\" valign=\"top\">0</th>\n",
       "      <th>0</th>\n",
       "      <td>7.293841</td>\n",
       "      <td>0</td>\n",
       "    </tr>\n",
       "    <tr>\n",
       "      <th>1</th>\n",
       "      <td>10.937373</td>\n",
       "      <td>24</td>\n",
       "    </tr>\n",
       "    <tr>\n",
       "      <th>2</th>\n",
       "      <td>11.143768</td>\n",
       "      <td>56</td>\n",
       "    </tr>\n",
       "    <tr>\n",
       "      <th>3</th>\n",
       "      <td>6.445654</td>\n",
       "      <td>42</td>\n",
       "    </tr>\n",
       "    <tr>\n",
       "      <th>1</th>\n",
       "      <th>0</th>\n",
       "      <td>11.660789</td>\n",
       "      <td>0</td>\n",
       "    </tr>\n",
       "  </tbody>\n",
       "</table>\n",
       "</div>"
      ],
      "text/plain": [
       "          col1  col2\n",
       "0 0   7.293841     0\n",
       "  1  10.937373    24\n",
       "  2  11.143768    56\n",
       "  3   6.445654    42\n",
       "1 0  11.660789     0"
      ]
     },
     "execution_count": 10,
     "metadata": {},
     "output_type": "execute_result"
    }
   ],
   "source": [
    "df2 = pd.DataFrame({'col1':column,'col2':index})\n",
    "df2.groupby([index2,index]).sum().head()"
   ]
  },
  {
   "cell_type": "code",
   "execution_count": 11,
   "metadata": {},
   "outputs": [
    {
     "data": {
      "text/html": [
       "<div>\n",
       "<style scoped>\n",
       "    .dataframe tbody tr th:only-of-type {\n",
       "        vertical-align: middle;\n",
       "    }\n",
       "\n",
       "    .dataframe tbody tr th {\n",
       "        vertical-align: top;\n",
       "    }\n",
       "\n",
       "    .dataframe thead th {\n",
       "        text-align: right;\n",
       "    }\n",
       "</style>\n",
       "<table border=\"1\" class=\"dataframe\">\n",
       "  <thead>\n",
       "    <tr style=\"text-align: right;\">\n",
       "      <th></th>\n",
       "      <th>col</th>\n",
       "    </tr>\n",
       "  </thead>\n",
       "  <tbody>\n",
       "    <tr>\n",
       "      <th>0</th>\n",
       "      <td>1.0</td>\n",
       "    </tr>\n",
       "    <tr>\n",
       "      <th>1</th>\n",
       "      <td>1.0</td>\n",
       "    </tr>\n",
       "    <tr>\n",
       "      <th>2</th>\n",
       "      <td>1.0</td>\n",
       "    </tr>\n",
       "    <tr>\n",
       "      <th>3</th>\n",
       "      <td>1.0</td>\n",
       "    </tr>\n",
       "  </tbody>\n",
       "</table>\n",
       "</div>"
      ],
      "text/plain": [
       "   col\n",
       "0  1.0\n",
       "1  1.0\n",
       "2  1.0\n",
       "3  1.0"
      ]
     },
     "execution_count": 11,
     "metadata": {},
     "output_type": "execute_result"
    }
   ],
   "source": [
    "df2 = pd.DataFrame({'col':column},index=index)\n",
    "transformed = df2.groupby(index).transform(lambda x:(x-x.mean())/x.std())\n",
    "df2.groupby(index).mean()\n",
    "df2.groupby(index).var()\n",
    "transformed.groupby(index).mean()\n",
    "transformed.groupby(index).var()"
   ]
  },
  {
   "cell_type": "code",
   "execution_count": 12,
   "metadata": {},
   "outputs": [
    {
     "data": {
      "text/html": [
       "<div>\n",
       "<style scoped>\n",
       "    .dataframe tbody tr th:only-of-type {\n",
       "        vertical-align: middle;\n",
       "    }\n",
       "\n",
       "    .dataframe tbody tr th {\n",
       "        vertical-align: top;\n",
       "    }\n",
       "\n",
       "    .dataframe thead th {\n",
       "        text-align: right;\n",
       "    }\n",
       "</style>\n",
       "<table border=\"1\" class=\"dataframe\">\n",
       "  <thead>\n",
       "    <tr style=\"text-align: right;\">\n",
       "      <th></th>\n",
       "      <th>col</th>\n",
       "    </tr>\n",
       "  </thead>\n",
       "  <tbody>\n",
       "    <tr>\n",
       "      <th>0</th>\n",
       "      <td>0.967134</td>\n",
       "    </tr>\n",
       "    <tr>\n",
       "      <th>0</th>\n",
       "      <td>0.967134</td>\n",
       "    </tr>\n",
       "    <tr>\n",
       "      <th>0</th>\n",
       "      <td>0.967134</td>\n",
       "    </tr>\n",
       "    <tr>\n",
       "      <th>0</th>\n",
       "      <td>0.967134</td>\n",
       "    </tr>\n",
       "    <tr>\n",
       "      <th>0</th>\n",
       "      <td>0.967134</td>\n",
       "    </tr>\n",
       "  </tbody>\n",
       "</table>\n",
       "</div>"
      ],
      "text/plain": [
       "        col\n",
       "0  0.967134\n",
       "0  0.967134\n",
       "0  0.967134\n",
       "0  0.967134\n",
       "0  0.967134"
      ]
     },
     "execution_count": 12,
     "metadata": {},
     "output_type": "execute_result"
    }
   ],
   "source": [
    "# 如果返回的是标量，那么transform方法的每个组都会被广播为这个标量值：\n",
    "df2.groupby(index).transform('max').sort_index()\n",
    "# 同样也可以使用lambda函数和自定义函数符号：\n",
    "df2.groupby(index).transform(lambda x:x.max()-x.min()).sort_index()\n",
    "df2.groupby(index).transform(R).sort_index().head()"
   ]
  },
  {
   "cell_type": "markdown",
   "metadata": {},
   "source": [
    "#### 2. 除了标准化外，另一个常见操作是对于缺失值的组内均值填充："
   ]
  },
  {
   "cell_type": "code",
   "execution_count": 13,
   "metadata": {},
   "outputs": [],
   "source": [
    "index = np.random.randint(0,4,300)\n",
    "column = np.random.rand((300))\n",
    "column[np.random.randint(0,300,20)] = [np.nan]*20 # 随机挑选20个位置设为缺失值\n",
    "df2 = pd.DataFrame({'col':column},index=index)"
   ]
  },
  {
   "cell_type": "code",
   "execution_count": 14,
   "metadata": {},
   "outputs": [
    {
     "data": {
      "text/html": [
       "<div>\n",
       "<style scoped>\n",
       "    .dataframe tbody tr th:only-of-type {\n",
       "        vertical-align: middle;\n",
       "    }\n",
       "\n",
       "    .dataframe tbody tr th {\n",
       "        vertical-align: top;\n",
       "    }\n",
       "\n",
       "    .dataframe thead th {\n",
       "        text-align: right;\n",
       "    }\n",
       "</style>\n",
       "<table border=\"1\" class=\"dataframe\">\n",
       "  <thead>\n",
       "    <tr style=\"text-align: right;\">\n",
       "      <th></th>\n",
       "      <th>col</th>\n",
       "    </tr>\n",
       "  </thead>\n",
       "  <tbody>\n",
       "    <tr>\n",
       "      <th>0</th>\n",
       "      <td>True</td>\n",
       "    </tr>\n",
       "    <tr>\n",
       "      <th>1</th>\n",
       "      <td>True</td>\n",
       "    </tr>\n",
       "    <tr>\n",
       "      <th>2</th>\n",
       "      <td>True</td>\n",
       "    </tr>\n",
       "    <tr>\n",
       "      <th>3</th>\n",
       "      <td>True</td>\n",
       "    </tr>\n",
       "  </tbody>\n",
       "</table>\n",
       "</div>"
      ],
      "text/plain": [
       "    col\n",
       "0  True\n",
       "1  True\n",
       "2  True\n",
       "3  True"
      ]
     },
     "execution_count": 14,
     "metadata": {},
     "output_type": "execute_result"
    }
   ],
   "source": [
    "df2['col'].hasnans # 判断是否有缺失值\n",
    "transformed = df2.groupby(index).transform(lambda x: x.fillna(x.mean()))\n",
    "transformed['col'].hasnans # 判断是否没有缺失值\n",
    "mean1 = df2.groupby(index).mean()\n",
    "mean2 = transformed.groupby(index).mean()\n",
    "mean1-mean2<1e-15 # 判断均值是否相同（均值填充缺失值不影响均值）"
   ]
  },
  {
   "cell_type": "markdown",
   "metadata": {},
   "source": [
    "## 五、过滤操作（Filteration）\n",
    "#### 1. 通过过滤操作能够筛选具备某些条件的组，比如选出Score2最大值不超过0.8的组："
   ]
  },
  {
   "cell_type": "code",
   "execution_count": 15,
   "metadata": {},
   "outputs": [
    {
     "data": {
      "text/html": [
       "<div>\n",
       "<style scoped>\n",
       "    .dataframe tbody tr th:only-of-type {\n",
       "        vertical-align: middle;\n",
       "    }\n",
       "\n",
       "    .dataframe tbody tr th {\n",
       "        vertical-align: top;\n",
       "    }\n",
       "\n",
       "    .dataframe thead th {\n",
       "        text-align: right;\n",
       "    }\n",
       "</style>\n",
       "<table border=\"1\" class=\"dataframe\">\n",
       "  <thead>\n",
       "    <tr style=\"text-align: right;\">\n",
       "      <th></th>\n",
       "      <th>Name</th>\n",
       "      <th>Score1</th>\n",
       "      <th>Score2</th>\n",
       "      <th>Score3</th>\n",
       "    </tr>\n",
       "    <tr>\n",
       "      <th>Day_num</th>\n",
       "      <th></th>\n",
       "      <th></th>\n",
       "      <th></th>\n",
       "      <th></th>\n",
       "    </tr>\n",
       "  </thead>\n",
       "  <tbody>\n",
       "    <tr>\n",
       "      <th>day2</th>\n",
       "      <td>Tom</td>\n",
       "      <td>5</td>\n",
       "      <td>0.88</td>\n",
       "      <td>B-</td>\n",
       "    </tr>\n",
       "    <tr>\n",
       "      <th>day5</th>\n",
       "      <td>Tom</td>\n",
       "      <td>5</td>\n",
       "      <td>0.88</td>\n",
       "      <td>B-</td>\n",
       "    </tr>\n",
       "    <tr>\n",
       "      <th>day7</th>\n",
       "      <td>Tom</td>\n",
       "      <td>7</td>\n",
       "      <td>0.88</td>\n",
       "      <td>B-</td>\n",
       "    </tr>\n",
       "  </tbody>\n",
       "</table>\n",
       "</div>"
      ],
      "text/plain": [
       "        Name  Score1  Score2 Score3\n",
       "Day_num                            \n",
       "day2     Tom       5    0.88     B-\n",
       "day5     Tom       5    0.88     B-\n",
       "day7     Tom       7    0.88     B-"
      ]
     },
     "execution_count": 15,
     "metadata": {},
     "output_type": "execute_result"
    }
   ],
   "source": [
    "df3 = pd.read_csv('data/ch3.csv')\n",
    "# df3.groupby('Day_num').filter(lambda x:print(x))\n",
    "# 从上面的打印内容可以看出，filter内传入的都是根据分层的数据子框，因此我们可以使用框的操作\n",
    "df3.groupby('Day_num').filter(lambda x:x['Score2'].max()>=0.8).groupby('Day_num').max()\n",
    "# filter返回的还是DataFrame，因此可以继续调用groupby"
   ]
  },
  {
   "cell_type": "markdown",
   "metadata": {},
   "source": [
    "### 六、apply函数"
   ]
  },
  {
   "cell_type": "markdown",
   "metadata": {},
   "source": [
    "#### 1. 灵活性："
   ]
  },
  {
   "cell_type": "code",
   "execution_count": 16,
   "metadata": {
    "scrolled": false
   },
   "outputs": [
    {
     "data": {
      "text/html": [
       "<div>\n",
       "<style scoped>\n",
       "    .dataframe tbody tr th:only-of-type {\n",
       "        vertical-align: middle;\n",
       "    }\n",
       "\n",
       "    .dataframe tbody tr th {\n",
       "        vertical-align: top;\n",
       "    }\n",
       "\n",
       "    .dataframe thead th {\n",
       "        text-align: right;\n",
       "    }\n",
       "</style>\n",
       "<table border=\"1\" class=\"dataframe\">\n",
       "  <thead>\n",
       "    <tr style=\"text-align: right;\">\n",
       "      <th></th>\n",
       "      <th>col1</th>\n",
       "      <th>col2</th>\n",
       "    </tr>\n",
       "    <tr>\n",
       "      <th>Day_num</th>\n",
       "      <th></th>\n",
       "      <th></th>\n",
       "    </tr>\n",
       "  </thead>\n",
       "  <tbody>\n",
       "    <tr>\n",
       "      <th>day1</th>\n",
       "      <td>1.0</td>\n",
       "      <td>0.0900</td>\n",
       "    </tr>\n",
       "    <tr>\n",
       "      <th>day1</th>\n",
       "      <td>-1.0</td>\n",
       "      <td>0.2300</td>\n",
       "    </tr>\n",
       "    <tr>\n",
       "      <th>day2</th>\n",
       "      <td>-0.5</td>\n",
       "      <td>-0.1825</td>\n",
       "    </tr>\n",
       "    <tr>\n",
       "      <th>day2</th>\n",
       "      <td>0.5</td>\n",
       "      <td>0.4475</td>\n",
       "    </tr>\n",
       "    <tr>\n",
       "      <th>day3</th>\n",
       "      <td>2.0</td>\n",
       "      <td>-0.0750</td>\n",
       "    </tr>\n",
       "  </tbody>\n",
       "</table>\n",
       "</div>"
      ],
      "text/plain": [
       "         col1    col2\n",
       "Day_num              \n",
       "day1      1.0  0.0900\n",
       "day1     -1.0  0.2300\n",
       "day2     -0.5 -0.1825\n",
       "day2      0.5  0.4475\n",
       "day3      2.0 -0.0750"
      ]
     },
     "execution_count": 16,
     "metadata": {},
     "output_type": "execute_result"
    }
   ],
   "source": [
    "#df3.groupby('Day_num').apply(lambda x:print(x))\n",
    "# 从上面打印内容可以看出，apply传入的内容同样是数据库但不同之处在于下面：\n",
    "#df3.groupby('Day_num').filter(lambda x:x.describe) # 这条语句报错，因为filter只会接受返回布尔值\n",
    "df3.groupby('Day_num').apply(lambda x:x.describe())\n",
    "# 因此，apply是更为灵活的函数，它的返回值也非常灵活\n",
    "# (a)每个组返回标量\n",
    "df3.groupby('Day_num').apply(lambda x:x['Score1'].max()+x['Score2'].min())\n",
    "# (b)每个组返回序列\n",
    "df3.groupby('Day_num').apply(lambda x:x['Score1']-x['Score2'])\n",
    "# (c)每个组返回数据框\n",
    "df3 = pd.read_csv('data/ch3.csv')\n",
    "df_applied = df3.groupby('Day_num').apply(lambda x:pd.DataFrame({'col1':x['Score1']-x['Score1'].mean()\n",
    "                                                                ,'col2':x['Score2']-x['Score2'].mean()}))\n",
    "df_applied.index = df3['Day_num']\n",
    "df_applied.head()"
   ]
  },
  {
   "cell_type": "markdown",
   "metadata": {},
   "source": [
    "#### 2. 同时统计多个指标："
   ]
  },
  {
   "cell_type": "code",
   "execution_count": 17,
   "metadata": {},
   "outputs": [
    {
     "data": {
      "text/html": [
       "<div>\n",
       "<style scoped>\n",
       "    .dataframe tbody tr th:only-of-type {\n",
       "        vertical-align: middle;\n",
       "    }\n",
       "\n",
       "    .dataframe tbody tr th {\n",
       "        vertical-align: top;\n",
       "    }\n",
       "\n",
       "    .dataframe thead th {\n",
       "        text-align: right;\n",
       "    }\n",
       "</style>\n",
       "<table border=\"1\" class=\"dataframe\">\n",
       "  <thead>\n",
       "    <tr style=\"text-align: right;\">\n",
       "      <th></th>\n",
       "      <th>sum</th>\n",
       "      <th>var</th>\n",
       "      <th>mean</th>\n",
       "    </tr>\n",
       "    <tr>\n",
       "      <th>Name</th>\n",
       "      <th></th>\n",
       "      <th></th>\n",
       "      <th></th>\n",
       "    </tr>\n",
       "  </thead>\n",
       "  <tbody>\n",
       "    <tr>\n",
       "      <th>Bob</th>\n",
       "      <td>63.0</td>\n",
       "      <td>3.038462</td>\n",
       "      <td>4.500000</td>\n",
       "    </tr>\n",
       "    <tr>\n",
       "      <th>Tom</th>\n",
       "      <td>60.0</td>\n",
       "      <td>0.681319</td>\n",
       "      <td>4.285714</td>\n",
       "    </tr>\n",
       "  </tbody>\n",
       "</table>\n",
       "</div>"
      ],
      "text/plain": [
       "       sum       var      mean\n",
       "Name                          \n",
       "Bob   63.0  3.038462  4.500000\n",
       "Tom   60.0  0.681319  4.285714"
      ]
     },
     "execution_count": 17,
     "metadata": {},
     "output_type": "execute_result"
    }
   ],
   "source": [
    "from collections import OrderedDict\n",
    "def f(df):\n",
    "    data = OrderedDict()\n",
    "    data['sum'] = df['Score1'].sum()\n",
    "    data['var'] = df['Score1'].var()\n",
    "    data['mean'] = df['Score1'].mean()\n",
    "    return pd.Series(data)\n",
    "group_single.apply(f)"
   ]
  },
  {
   "cell_type": "markdown",
   "metadata": {},
   "source": [
    "### 七、常用技巧\n",
    "#### 1. 查看每一组的第一行或最后一行："
   ]
  },
  {
   "cell_type": "code",
   "execution_count": 18,
   "metadata": {},
   "outputs": [
    {
     "data": {
      "text/html": [
       "<div>\n",
       "<style scoped>\n",
       "    .dataframe tbody tr th:only-of-type {\n",
       "        vertical-align: middle;\n",
       "    }\n",
       "\n",
       "    .dataframe tbody tr th {\n",
       "        vertical-align: top;\n",
       "    }\n",
       "\n",
       "    .dataframe thead th {\n",
       "        text-align: right;\n",
       "    }\n",
       "</style>\n",
       "<table border=\"1\" class=\"dataframe\">\n",
       "  <thead>\n",
       "    <tr style=\"text-align: right;\">\n",
       "      <th></th>\n",
       "      <th></th>\n",
       "      <th>Score1</th>\n",
       "      <th>Score2</th>\n",
       "      <th>Score3</th>\n",
       "    </tr>\n",
       "    <tr>\n",
       "      <th>Name</th>\n",
       "      <th>Day_num</th>\n",
       "      <th></th>\n",
       "      <th></th>\n",
       "      <th></th>\n",
       "    </tr>\n",
       "  </thead>\n",
       "  <tbody>\n",
       "    <tr>\n",
       "      <th rowspan=\"5\" valign=\"top\">Bob</th>\n",
       "      <th>day1</th>\n",
       "      <td>5</td>\n",
       "      <td>0.53</td>\n",
       "      <td>B</td>\n",
       "    </tr>\n",
       "    <tr>\n",
       "      <th>day2</th>\n",
       "      <td>4</td>\n",
       "      <td>0.35</td>\n",
       "      <td>B-</td>\n",
       "    </tr>\n",
       "    <tr>\n",
       "      <th>day3</th>\n",
       "      <td>6</td>\n",
       "      <td>0.24</td>\n",
       "      <td>C+</td>\n",
       "    </tr>\n",
       "    <tr>\n",
       "      <th>day4</th>\n",
       "      <td>3</td>\n",
       "      <td>0.78</td>\n",
       "      <td>C+</td>\n",
       "    </tr>\n",
       "    <tr>\n",
       "      <th>day5</th>\n",
       "      <td>3</td>\n",
       "      <td>0.86</td>\n",
       "      <td>B</td>\n",
       "    </tr>\n",
       "  </tbody>\n",
       "</table>\n",
       "</div>"
      ],
      "text/plain": [
       "              Score1  Score2 Score3\n",
       "Name Day_num                       \n",
       "Bob  day1          5    0.53      B\n",
       "     day2          4    0.35     B-\n",
       "     day3          6    0.24     C+\n",
       "     day4          3    0.78     C+\n",
       "     day5          3    0.86      B"
      ]
     },
     "execution_count": 18,
     "metadata": {},
     "output_type": "execute_result"
    }
   ],
   "source": [
    "group_mul.head(1)\n",
    "group_mul.tail(1)\n",
    "group_mul.tail(1).head() # 对最后一行的表而言，查看该表的前几行\n",
    "group_mul.first() # 区别在于是否分组\n",
    "group_mul.last().head()"
   ]
  },
  {
   "cell_type": "markdown",
   "metadata": {},
   "source": [
    "#### 2. 带参数的整合函数："
   ]
  },
  {
   "cell_type": "code",
   "execution_count": 19,
   "metadata": {},
   "outputs": [
    {
     "data": {
      "text/html": [
       "<div>\n",
       "<style scoped>\n",
       "    .dataframe tbody tr th:only-of-type {\n",
       "        vertical-align: middle;\n",
       "    }\n",
       "\n",
       "    .dataframe tbody tr th {\n",
       "        vertical-align: top;\n",
       "    }\n",
       "\n",
       "    .dataframe thead th {\n",
       "        text-align: right;\n",
       "    }\n",
       "</style>\n",
       "<table border=\"1\" class=\"dataframe\">\n",
       "  <thead>\n",
       "    <tr style=\"text-align: right;\">\n",
       "      <th></th>\n",
       "      <th></th>\n",
       "      <th>if_in_5_6</th>\n",
       "      <th>mean</th>\n",
       "    </tr>\n",
       "    <tr>\n",
       "      <th>Name</th>\n",
       "      <th>Day_num</th>\n",
       "      <th></th>\n",
       "      <th></th>\n",
       "    </tr>\n",
       "  </thead>\n",
       "  <tbody>\n",
       "    <tr>\n",
       "      <th rowspan=\"5\" valign=\"top\">Bob</th>\n",
       "      <th>day1</th>\n",
       "      <td>True</td>\n",
       "      <td>5.0</td>\n",
       "    </tr>\n",
       "    <tr>\n",
       "      <th>day2</th>\n",
       "      <td>False</td>\n",
       "      <td>4.0</td>\n",
       "    </tr>\n",
       "    <tr>\n",
       "      <th>day3</th>\n",
       "      <td>False</td>\n",
       "      <td>7.0</td>\n",
       "    </tr>\n",
       "    <tr>\n",
       "      <th>day4</th>\n",
       "      <td>False</td>\n",
       "      <td>3.0</td>\n",
       "    </tr>\n",
       "    <tr>\n",
       "      <th>day5</th>\n",
       "      <td>False</td>\n",
       "      <td>2.5</td>\n",
       "    </tr>\n",
       "  </tbody>\n",
       "</table>\n",
       "</div>"
      ],
      "text/plain": [
       "              if_in_5_6  mean\n",
       "Name Day_num                 \n",
       "Bob  day1          True   5.0\n",
       "     day2         False   4.0\n",
       "     day3         False   7.0\n",
       "     day4         False   3.0\n",
       "     day5         False   2.5"
      ]
     },
     "execution_count": 19,
     "metadata": {},
     "output_type": "execute_result"
    }
   ],
   "source": [
    "#判断是否组内'Score1'所有的值都在5-6之间：\n",
    "def f(s,low,high):\n",
    "    return s.between(low,high).min()\n",
    "group_mul['Score1'].agg(f,5,6)\n",
    "#如果要呈现多个整合函数结果，那么参数无法直接传递，此时要使用wrapper方法：\n",
    "def agg_f(f,name,*args,**kwargs):\n",
    "    def wrapper(x):\n",
    "        return f(x,*args,**kwargs)\n",
    "    wrapper.__name__ = name\n",
    "    return wrapper\n",
    "new_f = agg_f(f,'if_in_5_6',5,6)\n",
    "group_mul['Score1'].agg([new_f,'mean']).head()"
   ]
  },
  {
   "cell_type": "markdown",
   "metadata": {},
   "source": [
    "#### 3. 连续变量分组："
   ]
  },
  {
   "cell_type": "code",
   "execution_count": 20,
   "metadata": {},
   "outputs": [
    {
     "data": {
      "text/plain": [
       "Score2\n",
       "(-inf, 0.3]     9\n",
       "(0.3, 0.5]      4\n",
       "(0.5, 0.8]     11\n",
       "(0.8, inf]      4\n",
       "Name: Score1, dtype: int64"
      ]
     },
     "execution_count": 20,
     "metadata": {},
     "output_type": "execute_result"
    }
   ],
   "source": [
    "bins = [-np.inf,0.3,0.5,0.8,np.inf ]\n",
    "cuts = pd.cut(df1['Score2'],bins=bins) #可选label添加自定义标签\n",
    "df1.groupby(cuts)['Score1'].count()"
   ]
  },
  {
   "cell_type": "markdown",
   "metadata": {},
   "source": [
    "### 八、问题与练习"
   ]
  },
  {
   "cell_type": "markdown",
   "metadata": {},
   "source": [
    "#### 1. rolling和expanding方法从原理上说都是一种transform方法，请问它们有什么区别？"
   ]
  },
  {
   "cell_type": "markdown",
   "metadata": {},
   "source": [
    "#### 2. 什么是fillna的前向/后向填充，如何实现？"
   ]
  },
  {
   "cell_type": "markdown",
   "metadata": {},
   "source": [
    "#### 3. 下面的代码实现了什么功能？请仿照设计一个它的groupby版本。"
   ]
  },
  {
   "cell_type": "code",
   "execution_count": 21,
   "metadata": {},
   "outputs": [],
   "source": [
    "s = pd.Series ([0, 1, 1, 0, 1, 1, 1, 0])\n",
    "s1 = s.cumsum()\n",
    "result = s.mul(s1).diff().where(lambda x: x < 0).ffill().add(s1,fill_value =0)"
   ]
  },
  {
   "cell_type": "markdown",
   "metadata": {},
   "source": [
    "#### 4. 如何计算组内0.25分位数与0.75分位数？要求显示在同一张表上。"
   ]
  },
  {
   "cell_type": "markdown",
   "metadata": {},
   "source": [
    "#### 5. idxmax和nunique是什么函数，它具有哪些功能和应用？"
   ]
  },
  {
   "cell_type": "markdown",
   "metadata": {},
   "source": [
    "#### 【综合练习一】： 现有一份关于diamonds的数据集，列分别记录了克拉数、颜色、开采深度、价格，请解决下列问题：\n",
    "#### (a) 在所有重量超过1克拉的钻石中，价格的极差是多少？\n",
    "#### (b) 若以开采深度的0.2\\0.4\\0.6\\0.8分位数为分组依据，每一组中钻石颜色最多的是哪一种？该种颜色是组内平均而言单位重量最贵的吗？\n",
    "#### (c) 以重量分组(0-0.5,0.5-1,1-1.5,1.5-2,2+)，按递增的深度为索引排序，求每组中连续的递增价格序列长度的最大值。（参考问题3）\n",
    "#### (d) 请按颜色分组，分别计算价格关于克拉数的回归系数。（单变量的简单线性回归，并只使用Pandas和Numpy完成）"
   ]
  },
  {
   "cell_type": "markdown",
   "metadata": {},
   "source": [
    "#### 【综合练习二】：有一份关于美国10年至17年的非法药物数据集，列分别记录了年份、州（5个）、县、药物类型、报告数量，请解决下列问题：\n",
    "#### (a) 按照年份统计，哪个县的报告数量最多？这个县所属的州在当年也是报告数最多的吗？\n",
    "#### (b) 从14年到15年，Heroin的数量增加最多的是哪一个州？它在这个州是所有药物中增幅最大的吗？若不是，请找出符合该条件的药物。\n",
    "#### (c) 图是建立模型的重要方法，将所有州的所有县视作图的顶点，那么整个图就能用一张横纵索引为县的表记录现在以如下规则建立图的边：从10年到17年，如果存在3种药物报告数在县i的减少数量超过该药全部报告数的20%，同时这3种药在县j增加了该药全部报告数的60%，就在第i行第j列的数据框中记做1，否则记做0，请制作一张符合如上要求的DataFrame并以csv格式保存在当前文件夹。"
   ]
  }
 ],
 "metadata": {
  "kernelspec": {
   "display_name": "Python 3",
   "language": "python",
   "name": "python3"
  },
  "language_info": {
   "codemirror_mode": {
    "name": "ipython",
    "version": 3
   },
   "file_extension": ".py",
   "mimetype": "text/x-python",
   "name": "python",
   "nbconvert_exporter": "python",
   "pygments_lexer": "ipython3",
   "version": "3.7.6"
  }
 },
 "nbformat": 4,
 "nbformat_minor": 2
}
