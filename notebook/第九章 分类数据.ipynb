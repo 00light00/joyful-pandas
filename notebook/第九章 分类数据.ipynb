{
 "metadata": {
  "language_info": {
   "codemirror_mode": {
    "name": "ipython",
    "version": 3
   },
   "file_extension": ".py",
   "mimetype": "text/x-python",
   "name": "python",
   "nbconvert_exporter": "python",
   "pygments_lexer": "ipython3",
   "version": "3.7.9-final"
  },
  "orig_nbformat": 2,
  "kernelspec": {
   "name": "Python 3.7.9 64-bit ('ML': conda)",
   "display_name": "Python 3.7.9 64-bit ('ML': conda)",
   "metadata": {
    "interpreter": {
     "hash": "539eeca01c4a82e9e0248c7d96d3e95516d644c0bbc096dd3e480eeded1964cf"
    }
   }
  }
 },
 "nbformat": 4,
 "nbformat_minor": 2,
 "cells": [
  {
   "cell_type": "code",
   "execution_count": 1,
   "metadata": {},
   "outputs": [],
   "source": [
    "import pandas as pd\n",
    "import numpy as np"
   ]
  },
  {
   "cell_type": "code",
   "execution_count": 10,
   "metadata": {},
   "outputs": [],
   "source": [
    "df = pd.read_csv('../data/learn_pandas.csv')"
   ]
  },
  {
   "cell_type": "code",
   "execution_count": 35,
   "metadata": {},
   "outputs": [
    {
     "output_type": "execute_result",
     "data": {
      "text/plain": [
       "                                   Grade  Height  Weight\n",
       "School                                                  \n",
       "Fudan University                Freshman   156.0    49.0\n",
       "Fudan University                  Junior     NaN    48.0\n",
       "Fudan University                  Senior   151.7    38.0\n",
       "Fudan University               Sophomore     NaN    41.0\n",
       "Peking University               Freshman   166.5    70.0\n",
       "Peking University                 Junior   164.8     NaN\n",
       "Peking University                 Senior   148.7    41.0\n",
       "Peking University              Sophomore   151.6    43.0\n",
       "Shanghai Jiao Tong University   Freshman   158.9    46.0\n",
       "Shanghai Jiao Tong University     Junior   165.6    51.0\n",
       "Shanghai Jiao Tong University     Senior   188.9    89.0\n",
       "Shanghai Jiao Tong University  Sophomore   160.1    48.0\n",
       "Tsinghua University             Freshman   158.0    51.0\n",
       "Tsinghua University               Junior   161.9    50.0\n",
       "Tsinghua University               Senior   165.3    57.0\n",
       "Tsinghua University            Sophomore   175.0    79.0"
      ],
      "text/html": "<div>\n<style scoped>\n    .dataframe tbody tr th:only-of-type {\n        vertical-align: middle;\n    }\n\n    .dataframe tbody tr th {\n        vertical-align: top;\n    }\n\n    .dataframe thead th {\n        text-align: right;\n    }\n</style>\n<table border=\"1\" class=\"dataframe\">\n  <thead>\n    <tr style=\"text-align: right;\">\n      <th></th>\n      <th>Grade</th>\n      <th>Height</th>\n      <th>Weight</th>\n    </tr>\n    <tr>\n      <th>School</th>\n      <th></th>\n      <th></th>\n      <th></th>\n    </tr>\n  </thead>\n  <tbody>\n    <tr>\n      <th>Fudan University</th>\n      <td>Freshman</td>\n      <td>156.0</td>\n      <td>49.0</td>\n    </tr>\n    <tr>\n      <th>Fudan University</th>\n      <td>Junior</td>\n      <td>NaN</td>\n      <td>48.0</td>\n    </tr>\n    <tr>\n      <th>Fudan University</th>\n      <td>Senior</td>\n      <td>151.7</td>\n      <td>38.0</td>\n    </tr>\n    <tr>\n      <th>Fudan University</th>\n      <td>Sophomore</td>\n      <td>NaN</td>\n      <td>41.0</td>\n    </tr>\n    <tr>\n      <th>Peking University</th>\n      <td>Freshman</td>\n      <td>166.5</td>\n      <td>70.0</td>\n    </tr>\n    <tr>\n      <th>Peking University</th>\n      <td>Junior</td>\n      <td>164.8</td>\n      <td>NaN</td>\n    </tr>\n    <tr>\n      <th>Peking University</th>\n      <td>Senior</td>\n      <td>148.7</td>\n      <td>41.0</td>\n    </tr>\n    <tr>\n      <th>Peking University</th>\n      <td>Sophomore</td>\n      <td>151.6</td>\n      <td>43.0</td>\n    </tr>\n    <tr>\n      <th>Shanghai Jiao Tong University</th>\n      <td>Freshman</td>\n      <td>158.9</td>\n      <td>46.0</td>\n    </tr>\n    <tr>\n      <th>Shanghai Jiao Tong University</th>\n      <td>Junior</td>\n      <td>165.6</td>\n      <td>51.0</td>\n    </tr>\n    <tr>\n      <th>Shanghai Jiao Tong University</th>\n      <td>Senior</td>\n      <td>188.9</td>\n      <td>89.0</td>\n    </tr>\n    <tr>\n      <th>Shanghai Jiao Tong University</th>\n      <td>Sophomore</td>\n      <td>160.1</td>\n      <td>48.0</td>\n    </tr>\n    <tr>\n      <th>Tsinghua University</th>\n      <td>Freshman</td>\n      <td>158.0</td>\n      <td>51.0</td>\n    </tr>\n    <tr>\n      <th>Tsinghua University</th>\n      <td>Junior</td>\n      <td>161.9</td>\n      <td>50.0</td>\n    </tr>\n    <tr>\n      <th>Tsinghua University</th>\n      <td>Senior</td>\n      <td>165.3</td>\n      <td>57.0</td>\n    </tr>\n    <tr>\n      <th>Tsinghua University</th>\n      <td>Sophomore</td>\n      <td>175.0</td>\n      <td>79.0</td>\n    </tr>\n  </tbody>\n</table>\n</div>"
     },
     "metadata": {},
     "execution_count": 35
    }
   ],
   "source": [
    "df[['School', 'Grade', 'Height', 'Weight']].drop_duplicates(['Grade', 'School']).set_index(['Grade', 'School']).unstack(0).stack(-1).reset_index('Grade')"
   ]
  }
 ]
}