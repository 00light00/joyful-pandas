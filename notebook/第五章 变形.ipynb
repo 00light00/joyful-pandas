{
 "metadata": {
  "language_info": {
   "codemirror_mode": {
    "name": "ipython",
    "version": 3
   },
   "file_extension": ".py",
   "mimetype": "text/x-python",
   "name": "python",
   "nbconvert_exporter": "python",
   "pygments_lexer": "ipython3",
   "version": "3.7.9-final"
  },
  "orig_nbformat": 2,
  "kernelspec": {
   "name": "pycharm-f7427e7c",
   "display_name": "PyCharm (pythonProject)"
  }
 },
 "nbformat": 4,
 "nbformat_minor": 2,
 "cells": [
  {
   "cell_type": "code",
   "execution_count": 1,
   "metadata": {},
   "outputs": [],
   "source": [
    "import pandas as pd\n",
    "import numpy as np"
   ]
  },
  {
   "cell_type": "code",
   "execution_count": 45,
   "metadata": {},
   "outputs": [],
   "source": [
    "df = pd.read_csv('../data/learn_pandas.csv')"
   ]
  },
  {
   "cell_type": "code",
   "execution_count": 33,
   "metadata": {},
   "outputs": [
    {
     "output_type": "execute_result",
     "data": {
      "text/plain": [
       "                              Height               Test_Number          \n",
       "Transfer                         NaN      N      Y         NaN    N    Y\n",
       "School                                                                  \n",
       "Fudan University               159.3    NaN  177.2         1.0  2.0  1.0\n",
       "Peking University                NaN  166.5    NaN         1.0  1.0  1.0\n",
       "Shanghai Jiao Tong University    NaN  158.9    NaN         2.0  1.0  NaN\n",
       "Tsinghua University            162.1  158.0  157.4         1.0  1.0  1.0"
      ],
      "text/html": "<div>\n<style scoped>\n    .dataframe tbody tr th:only-of-type {\n        vertical-align: middle;\n    }\n\n    .dataframe tbody tr th {\n        vertical-align: top;\n    }\n\n    .dataframe thead tr th {\n        text-align: left;\n    }\n\n    .dataframe thead tr:last-of-type th {\n        text-align: right;\n    }\n</style>\n<table border=\"1\" class=\"dataframe\">\n  <thead>\n    <tr>\n      <th></th>\n      <th colspan=\"3\" halign=\"left\">Height</th>\n      <th colspan=\"3\" halign=\"left\">Test_Number</th>\n    </tr>\n    <tr>\n      <th>Transfer</th>\n      <th>NaN</th>\n      <th>N</th>\n      <th>Y</th>\n      <th>NaN</th>\n      <th>N</th>\n      <th>Y</th>\n    </tr>\n    <tr>\n      <th>School</th>\n      <th></th>\n      <th></th>\n      <th></th>\n      <th></th>\n      <th></th>\n      <th></th>\n    </tr>\n  </thead>\n  <tbody>\n    <tr>\n      <th>Fudan University</th>\n      <td>159.3</td>\n      <td>NaN</td>\n      <td>177.2</td>\n      <td>1.0</td>\n      <td>2.0</td>\n      <td>1.0</td>\n    </tr>\n    <tr>\n      <th>Peking University</th>\n      <td>NaN</td>\n      <td>166.5</td>\n      <td>NaN</td>\n      <td>1.0</td>\n      <td>1.0</td>\n      <td>1.0</td>\n    </tr>\n    <tr>\n      <th>Shanghai Jiao Tong University</th>\n      <td>NaN</td>\n      <td>158.9</td>\n      <td>NaN</td>\n      <td>2.0</td>\n      <td>1.0</td>\n      <td>NaN</td>\n    </tr>\n    <tr>\n      <th>Tsinghua University</th>\n      <td>162.1</td>\n      <td>158.0</td>\n      <td>157.4</td>\n      <td>1.0</td>\n      <td>1.0</td>\n      <td>1.0</td>\n    </tr>\n  </tbody>\n</table>\n</div>"
     },
     "metadata": {},
     "execution_count": 33
    }
   ],
   "source": [
    "df[['School','Height','Transfer','Test_Number']].drop_duplicates(['School','Transfer']).reset_index(drop=True).set_index(['School', 'Transfer']).unstack()"
   ]
  },
  {
   "cell_type": "code",
   "execution_count": 66,
   "metadata": {},
   "outputs": [
    {
     "output_type": "stream",
     "name": "stdout",
     "text": [
      "8.7 ms ± 133 µs per loop (mean ± std. dev. of 7 runs, 100 loops each)\n"
     ]
    }
   ],
   "source": [
    "%timeit pd.crosstab(df.School, df.Transfer, values=df.Height, aggfunc='skew')"
   ]
  },
  {
   "cell_type": "code",
   "execution_count": 67,
   "metadata": {},
   "outputs": [
    {
     "output_type": "stream",
     "name": "stdout",
     "text": [
      "7.52 ms ± 55.3 µs per loop (mean ± std. dev. of 7 runs, 100 loops each)\n"
     ]
    }
   ],
   "source": [
    "%timeit data.pivot_table(index='School', columns='Transfer', values='Height', aggfunc='skew')"
   ]
  },
  {
   "cell_type": "code",
   "execution_count": 61,
   "metadata": {},
   "outputs": [
    {
     "output_type": "execute_result",
     "data": {
      "text/plain": [
       "Transfer                          N    Y\n",
       "School                                  \n",
       "Fudan University               32.0  1.0\n",
       "Peking University              27.0  1.0\n",
       "Shanghai Jiao Tong University  52.0  NaN\n",
       "Tsinghua University            56.0  4.0"
      ],
      "text/html": "<div>\n<style scoped>\n    .dataframe tbody tr th:only-of-type {\n        vertical-align: middle;\n    }\n\n    .dataframe tbody tr th {\n        vertical-align: top;\n    }\n\n    .dataframe thead th {\n        text-align: right;\n    }\n</style>\n<table border=\"1\" class=\"dataframe\">\n  <thead>\n    <tr style=\"text-align: right;\">\n      <th>Transfer</th>\n      <th>N</th>\n      <th>Y</th>\n    </tr>\n    <tr>\n      <th>School</th>\n      <th></th>\n      <th></th>\n    </tr>\n  </thead>\n  <tbody>\n    <tr>\n      <th>Fudan University</th>\n      <td>32.0</td>\n      <td>1.0</td>\n    </tr>\n    <tr>\n      <th>Peking University</th>\n      <td>27.0</td>\n      <td>1.0</td>\n    </tr>\n    <tr>\n      <th>Shanghai Jiao Tong University</th>\n      <td>52.0</td>\n      <td>NaN</td>\n    </tr>\n    <tr>\n      <th>Tsinghua University</th>\n      <td>56.0</td>\n      <td>4.0</td>\n    </tr>\n  </tbody>\n</table>\n</div>"
     },
     "metadata": {},
     "execution_count": 61
    }
   ],
   "source": [
    "data = df[['School', 'Transfer', 'Height']]\n",
    "data.pivot_table(index='School', columns='Transfer', values='Height', aggfunc='count')"
   ]
  },
  {
   "cell_type": "code",
   "execution_count": 43,
   "metadata": {},
   "outputs": [
    {
     "output_type": "execute_result",
     "data": {
      "text/plain": [
       "         A         B      \n",
       "       cat       cat   dog\n",
       "       big  big  big small\n",
       "col_1  1.0  1.0  1.0   1.0\n",
       "col_2  1.0  1.0  1.0   1.0"
      ],
      "text/html": "<div>\n<style scoped>\n    .dataframe tbody tr th:only-of-type {\n        vertical-align: middle;\n    }\n\n    .dataframe tbody tr th {\n        vertical-align: top;\n    }\n\n    .dataframe thead tr th {\n        text-align: left;\n    }\n</style>\n<table border=\"1\" class=\"dataframe\">\n  <thead>\n    <tr>\n      <th></th>\n      <th colspan=\"2\" halign=\"left\">A</th>\n      <th colspan=\"2\" halign=\"left\">B</th>\n    </tr>\n    <tr>\n      <th></th>\n      <th colspan=\"2\" halign=\"left\">cat</th>\n      <th>cat</th>\n      <th>dog</th>\n    </tr>\n    <tr>\n      <th></th>\n      <th>big</th>\n      <th>big</th>\n      <th>big</th>\n      <th>small</th>\n    </tr>\n  </thead>\n  <tbody>\n    <tr>\n      <th>col_1</th>\n      <td>1.0</td>\n      <td>1.0</td>\n      <td>1.0</td>\n      <td>1.0</td>\n    </tr>\n    <tr>\n      <th>col_2</th>\n      <td>1.0</td>\n      <td>1.0</td>\n      <td>1.0</td>\n      <td>1.0</td>\n    </tr>\n  </tbody>\n</table>\n</div>"
     },
     "metadata": {},
     "execution_count": 43
    }
   ],
   "source": [
    "df = pd.DataFrame(np.ones((4,2)),\n",
    "                     index = pd.Index([('A', 'cat', 'big'),\n",
    "                                       ('A', 'dog', 'small'),\n",
    "                                       ('B', 'cat', 'big'),\n",
    "                                       ('B', 'dog', 'small')]),\n",
    "                     columns=['col_1', 'col_2'])\n",
    "my_index = df.index.to_list()\n",
    "my_index[1] = my_index[0]\n",
    "df.index = pd.Index(my_index)\n",
    "df.T"
   ]
  },
  {
   "cell_type": "code",
   "execution_count": null,
   "metadata": {},
   "outputs": [],
   "source": []
  },
  {
   "cell_type": "code",
   "execution_count": 5,
   "metadata": {},
   "outputs": [],
   "source": [
    "df = pd.read_csv('../data/learn_pandas.csv')"
   ]
  },
  {
   "cell_type": "code",
   "execution_count": 45,
   "metadata": {},
   "outputs": [
    {
     "output_type": "execute_result",
     "data": {
      "text/plain": [
       "   Class       Name  Chinese  Math\n",
       "0      1  San Zhang       80    90\n",
       "1      2      Si Li       75    85"
      ],
      "text/html": "<div>\n<style scoped>\n    .dataframe tbody tr th:only-of-type {\n        vertical-align: middle;\n    }\n\n    .dataframe tbody tr th {\n        vertical-align: top;\n    }\n\n    .dataframe thead th {\n        text-align: right;\n    }\n</style>\n<table border=\"1\" class=\"dataframe\">\n  <thead>\n    <tr style=\"text-align: right;\">\n      <th></th>\n      <th>Class</th>\n      <th>Name</th>\n      <th>Chinese</th>\n      <th>Math</th>\n    </tr>\n  </thead>\n  <tbody>\n    <tr>\n      <th>0</th>\n      <td>1</td>\n      <td>San Zhang</td>\n      <td>80</td>\n      <td>90</td>\n    </tr>\n    <tr>\n      <th>1</th>\n      <td>2</td>\n      <td>Si Li</td>\n      <td>75</td>\n      <td>85</td>\n    </tr>\n  </tbody>\n</table>\n</div>"
     },
     "metadata": {},
     "execution_count": 45
    }
   ],
   "source": [
    "df = pd.DataFrame({'Class':[1,2],'Name':['San Zhang', 'Si Li'], 'Chinese':[80, 75], 'Math':[90, 85]})\n",
    "df = df.melt(id_vars=['Class', 'Name'], value_vars=['Chinese', 'Math'], var_name='Subject', value_name='Grade')\n",
    "df.pivot(index=['Class', 'Name'], columns='Subject', values='Grade').reset_index().rename_axis(columns={'Subject':''})"
   ]
  },
  {
   "cell_type": "code",
   "execution_count": 61,
   "metadata": {},
   "outputs": [],
   "source": [
    "df = pd.DataFrame({'Class':[1,1,2,2],\n",
    "                   'Name':['San Zhang', 'San Zhang', 'Si Li', 'Si Li'],\n",
    "                   'Subject':['Chinese', 'Math', 'Chinese', 'Math'],\n",
    "                   'Grade':[80, 75, 90, 85]})\n",
    "df2 = df.pivot(index = 'Name', columns = 'Subject', values = 'Grade')\n",
    "df2.dfi.export('df1.png')"
   ]
  },
  {
   "cell_type": "code",
   "execution_count": 28,
   "metadata": {},
   "outputs": [
    {
     "output_type": "execute_result",
     "data": {
      "text/plain": [
       "                  Grade                     rank                 \n",
       "Subject         Chinese       Math       Chinese       Math      \n",
       "Examination         Mid Final  Mid Final     Mid Final  Mid Final\n",
       "Class Name                                                       \n",
       "1     San Zhang      80    75   90    85      10    15   20     7\n",
       "2     Si Li          85    65   92    88      21    15    6     2"
      ],
      "text/html": "<div>\n<style scoped>\n    .dataframe tbody tr th:only-of-type {\n        vertical-align: middle;\n    }\n\n    .dataframe tbody tr th {\n        vertical-align: top;\n    }\n\n    .dataframe thead tr th {\n        text-align: left;\n    }\n\n    .dataframe thead tr:last-of-type th {\n        text-align: right;\n    }\n</style>\n<table border=\"1\" class=\"dataframe\">\n  <thead>\n    <tr>\n      <th></th>\n      <th></th>\n      <th colspan=\"4\" halign=\"left\">Grade</th>\n      <th colspan=\"4\" halign=\"left\">rank</th>\n    </tr>\n    <tr>\n      <th></th>\n      <th>Subject</th>\n      <th colspan=\"2\" halign=\"left\">Chinese</th>\n      <th colspan=\"2\" halign=\"left\">Math</th>\n      <th colspan=\"2\" halign=\"left\">Chinese</th>\n      <th colspan=\"2\" halign=\"left\">Math</th>\n    </tr>\n    <tr>\n      <th></th>\n      <th>Examination</th>\n      <th>Mid</th>\n      <th>Final</th>\n      <th>Mid</th>\n      <th>Final</th>\n      <th>Mid</th>\n      <th>Final</th>\n      <th>Mid</th>\n      <th>Final</th>\n    </tr>\n    <tr>\n      <th>Class</th>\n      <th>Name</th>\n      <th></th>\n      <th></th>\n      <th></th>\n      <th></th>\n      <th></th>\n      <th></th>\n      <th></th>\n      <th></th>\n    </tr>\n  </thead>\n  <tbody>\n    <tr>\n      <th>1</th>\n      <th>San Zhang</th>\n      <td>80</td>\n      <td>75</td>\n      <td>90</td>\n      <td>85</td>\n      <td>10</td>\n      <td>15</td>\n      <td>20</td>\n      <td>7</td>\n    </tr>\n    <tr>\n      <th>2</th>\n      <th>Si Li</th>\n      <td>85</td>\n      <td>65</td>\n      <td>92</td>\n      <td>88</td>\n      <td>21</td>\n      <td>15</td>\n      <td>6</td>\n      <td>2</td>\n    </tr>\n  </tbody>\n</table>\n</div>"
     },
     "metadata": {},
     "execution_count": 28
    }
   ],
   "source": [
    "df = pd.DataFrame({'Class':[1, 1, 2, 2, 1, 1, 2, 2],\n",
    "                   'Name':['San Zhang', 'San Zhang', 'Si Li', 'Si Li',\n",
    "                           'San Zhang', 'San Zhang', 'Si Li', 'Si Li'],\n",
    "                   'Examination': ['Mid', 'Final', 'Mid', 'Final',\n",
    "                                   'Mid', 'Final', 'Mid', 'Final'],\n",
    "                   'Subject':['Chinese', 'Chinese', 'Chinese', 'Chinese',\n",
    "                              'Math', 'Math', 'Math', 'Math'],\n",
    "                   'Grade':[80, 75, 85, 65, 90, 85, 92, 88],\n",
    "                   'rank':[10, 15, 21, 15, 20, 7, 6, 2]})\n",
    "df2 = df.pivot(index = ['Class', 'Name'],\n",
    "               columns = ['Subject','Examination'],\n",
    "               values = ['Grade','rank'])\n",
    "df2"
   ]
  },
  {
   "cell_type": "code",
   "execution_count": 31,
   "metadata": {},
   "outputs": [
    {
     "output_type": "execute_result",
     "data": {
      "text/plain": [
       "   Class       Name Examination  Subject  Grade  rank\n",
       "0      1  San Zhang         Mid  Chinese     80    10\n",
       "1      1  San Zhang       Final  Chinese     75    15\n",
       "2      2      Si Li         Mid  Chinese     85    21\n",
       "3      2      Si Li       Final  Chinese     65    15\n",
       "4      1  San Zhang         Mid     Math     90    20\n",
       "5      1  San Zhang       Final     Math     85     7\n",
       "6      2      Si Li         Mid     Math     92     6\n",
       "7      2      Si Li       Final     Math     88     2"
      ],
      "text/html": "<div>\n<style scoped>\n    .dataframe tbody tr th:only-of-type {\n        vertical-align: middle;\n    }\n\n    .dataframe tbody tr th {\n        vertical-align: top;\n    }\n\n    .dataframe thead th {\n        text-align: right;\n    }\n</style>\n<table border=\"1\" class=\"dataframe\">\n  <thead>\n    <tr style=\"text-align: right;\">\n      <th></th>\n      <th>Class</th>\n      <th>Name</th>\n      <th>Examination</th>\n      <th>Subject</th>\n      <th>Grade</th>\n      <th>rank</th>\n    </tr>\n  </thead>\n  <tbody>\n    <tr>\n      <th>0</th>\n      <td>1</td>\n      <td>San Zhang</td>\n      <td>Mid</td>\n      <td>Chinese</td>\n      <td>80</td>\n      <td>10</td>\n    </tr>\n    <tr>\n      <th>1</th>\n      <td>1</td>\n      <td>San Zhang</td>\n      <td>Final</td>\n      <td>Chinese</td>\n      <td>75</td>\n      <td>15</td>\n    </tr>\n    <tr>\n      <th>2</th>\n      <td>2</td>\n      <td>Si Li</td>\n      <td>Mid</td>\n      <td>Chinese</td>\n      <td>85</td>\n      <td>21</td>\n    </tr>\n    <tr>\n      <th>3</th>\n      <td>2</td>\n      <td>Si Li</td>\n      <td>Final</td>\n      <td>Chinese</td>\n      <td>65</td>\n      <td>15</td>\n    </tr>\n    <tr>\n      <th>4</th>\n      <td>1</td>\n      <td>San Zhang</td>\n      <td>Mid</td>\n      <td>Math</td>\n      <td>90</td>\n      <td>20</td>\n    </tr>\n    <tr>\n      <th>5</th>\n      <td>1</td>\n      <td>San Zhang</td>\n      <td>Final</td>\n      <td>Math</td>\n      <td>85</td>\n      <td>7</td>\n    </tr>\n    <tr>\n      <th>6</th>\n      <td>2</td>\n      <td>Si Li</td>\n      <td>Mid</td>\n      <td>Math</td>\n      <td>92</td>\n      <td>6</td>\n    </tr>\n    <tr>\n      <th>7</th>\n      <td>2</td>\n      <td>Si Li</td>\n      <td>Final</td>\n      <td>Math</td>\n      <td>88</td>\n      <td>2</td>\n    </tr>\n  </tbody>\n</table>\n</div>"
     },
     "metadata": {},
     "execution_count": 31
    }
   ],
   "source": [
    "df2 = df.pivot(index = ['Class', 'Name'],\n",
    "               columns = ['Subject','Examination'],\n",
    "               values = ['Grade','rank'])\n",
    "df2.columns = df2.columns.map(lambda x:'_'.join(x))\n",
    "df2 = df2.reset_index()\n",
    "df2 = pd.wide_to_long(df2, stubnames=['Grade', 'rank'],\n",
    "                           i = ['Class', 'Name'],\n",
    "                           j = 'Subject_Examination',\n",
    "                           sep = '_',\n",
    "                           suffix = '.+')\n",
    "df2 = df2.reset_index()\n",
    "df2[['Subject', 'Examination']] = df2.Subject_Examination.str.split('_', expand=True)\n",
    "df2 = df2.drop(columns='Subject_Examination')\n",
    "df2 = df[['Class', 'Name', 'Examination', 'Subject', 'Grade', 'rank']].sort_values('Subject')\n",
    "df2"
   ]
  },
  {
   "cell_type": "code",
   "execution_count": 21,
   "metadata": {},
   "outputs": [
    {
     "output_type": "execute_result",
     "data": {
      "text/plain": [
       "   Class       Name Subject_Examination  Grade  rank\n",
       "0      1  San Zhang         Chinese_Mid     80    10\n",
       "1      1  San Zhang       Chinese_Final     75    15\n",
       "2      1  San Zhang            Math_Mid     90    20\n",
       "3      1  San Zhang          Math_Final     85     7\n",
       "4      2      Si Li         Chinese_Mid     85    21\n",
       "5      2      Si Li       Chinese_Final     65    15\n",
       "6      2      Si Li            Math_Mid     92     6\n",
       "7      2      Si Li          Math_Final     88     2"
      ],
      "text/html": "<div>\n<style scoped>\n    .dataframe tbody tr th:only-of-type {\n        vertical-align: middle;\n    }\n\n    .dataframe tbody tr th {\n        vertical-align: top;\n    }\n\n    .dataframe thead th {\n        text-align: right;\n    }\n</style>\n<table border=\"1\" class=\"dataframe\">\n  <thead>\n    <tr style=\"text-align: right;\">\n      <th></th>\n      <th>Class</th>\n      <th>Name</th>\n      <th>Subject_Examination</th>\n      <th>Grade</th>\n      <th>rank</th>\n    </tr>\n  </thead>\n  <tbody>\n    <tr>\n      <th>0</th>\n      <td>1</td>\n      <td>San Zhang</td>\n      <td>Chinese_Mid</td>\n      <td>80</td>\n      <td>10</td>\n    </tr>\n    <tr>\n      <th>1</th>\n      <td>1</td>\n      <td>San Zhang</td>\n      <td>Chinese_Final</td>\n      <td>75</td>\n      <td>15</td>\n    </tr>\n    <tr>\n      <th>2</th>\n      <td>1</td>\n      <td>San Zhang</td>\n      <td>Math_Mid</td>\n      <td>90</td>\n      <td>20</td>\n    </tr>\n    <tr>\n      <th>3</th>\n      <td>1</td>\n      <td>San Zhang</td>\n      <td>Math_Final</td>\n      <td>85</td>\n      <td>7</td>\n    </tr>\n    <tr>\n      <th>4</th>\n      <td>2</td>\n      <td>Si Li</td>\n      <td>Chinese_Mid</td>\n      <td>85</td>\n      <td>21</td>\n    </tr>\n    <tr>\n      <th>5</th>\n      <td>2</td>\n      <td>Si Li</td>\n      <td>Chinese_Final</td>\n      <td>65</td>\n      <td>15</td>\n    </tr>\n    <tr>\n      <th>6</th>\n      <td>2</td>\n      <td>Si Li</td>\n      <td>Math_Mid</td>\n      <td>92</td>\n      <td>6</td>\n    </tr>\n    <tr>\n      <th>7</th>\n      <td>2</td>\n      <td>Si Li</td>\n      <td>Math_Final</td>\n      <td>88</td>\n      <td>2</td>\n    </tr>\n  </tbody>\n</table>\n</div>"
     },
     "metadata": {},
     "execution_count": 21
    }
   ],
   "source": [
    "df2"
   ]
  },
  {
   "cell_type": "code",
   "execution_count": 3,
   "metadata": {},
   "outputs": [],
   "source": [
    "df = pd.DataFrame({'Class':[1,2],\n",
    "                   'Name':['San Zhang', 'Si Li'],\n",
    "                   'Chinese':[80, 90],\n",
    "                   'Math':[80, 75]})\n",
    "df_melted = df.melt(id_vars = ['Class', 'Name'],\n",
    "        value_vars = ['Chinese', 'Math'],\n",
    "        var_name = 'Subject',\n",
    "        value_name = 'Grade')"
   ]
  },
  {
   "cell_type": "code",
   "execution_count": 9,
   "metadata": {},
   "outputs": [
    {
     "output_type": "error",
     "ename": "SyntaxError",
     "evalue": "invalid syntax (<ipython-input-9-2e007a100d8a>, line 1)",
     "traceback": [
      "\u001b[1;36m  File \u001b[1;32m\"<ipython-input-9-2e007a100d8a>\"\u001b[1;36m, line \u001b[1;32m1\u001b[0m\n\u001b[1;33m    df_melted.pivot(index = ['Class', 'Name'], columns='Subject', values='Grade').\u001b[0m\n\u001b[1;37m                                                                                  ^\u001b[0m\n\u001b[1;31mSyntaxError\u001b[0m\u001b[1;31m:\u001b[0m invalid syntax\n"
     ]
    }
   ],
   "source": [
    "df_melted.pivot(index = ['Class', 'Name'], columns='Subject', values='Grade').reset_index().rename_axis(columns={'Subject':''})"
   ]
  },
  {
   "cell_type": "code",
   "execution_count": 1,
   "metadata": {},
   "outputs": [
    {
     "output_type": "stream",
     "name": "stdout",
     "text": [
      "1.1.3\n"
     ]
    },
    {
     "output_type": "execute_result",
     "data": {
      "text/plain": [
       "Subject          Chinese  Math\n",
       "Class Name                    \n",
       "1     San Zhang       80    75\n",
       "2     Si Li           90    85"
      ],
      "text/html": "<div>\n<style scoped>\n    .dataframe tbody tr th:only-of-type {\n        vertical-align: middle;\n    }\n\n    .dataframe tbody tr th {\n        vertical-align: top;\n    }\n\n    .dataframe thead th {\n        text-align: right;\n    }\n</style>\n<table border=\"1\" class=\"dataframe\">\n  <thead>\n    <tr style=\"text-align: right;\">\n      <th></th>\n      <th>Subject</th>\n      <th>Chinese</th>\n      <th>Math</th>\n    </tr>\n    <tr>\n      <th>Class</th>\n      <th>Name</th>\n      <th></th>\n      <th></th>\n    </tr>\n  </thead>\n  <tbody>\n    <tr>\n      <th>1</th>\n      <th>San Zhang</th>\n      <td>80</td>\n      <td>75</td>\n    </tr>\n    <tr>\n      <th>2</th>\n      <th>Si Li</th>\n      <td>90</td>\n      <td>85</td>\n    </tr>\n  </tbody>\n</table>\n</div>"
     },
     "metadata": {},
     "execution_count": 1
    }
   ],
   "source": [
    "import pandas as pd\n",
    "import numpy as np\n",
    "pd.DataFrame({'Class':[1,1,2,2],\n",
    "                      'Name':['San Zhang','San Zhang','Si Li','Si Li'],\n",
    "                      'Subject':['Chinese','Math','Chinese','Math'],\n",
    "                      'Grade':[80,75,90,85]}).pivot(index=['Class','Name'], columns='Subject', values='Grade')"
   ]
  },
  {
   "cell_type": "code",
   "execution_count": 35,
   "metadata": {},
   "outputs": [
    {
     "output_type": "execute_result",
     "data": {
      "text/plain": [
       "                             Chinese  Math\n",
       "Class Name      Examination               \n",
       "1     San Zhang Mid               80    90\n",
       "                Final             80    90\n",
       "2     Si Li     Mid               75    85\n",
       "                Final             75    85"
      ],
      "text/html": "<div>\n<style scoped>\n    .dataframe tbody tr th:only-of-type {\n        vertical-align: middle;\n    }\n\n    .dataframe tbody tr th {\n        vertical-align: top;\n    }\n\n    .dataframe thead th {\n        text-align: right;\n    }\n</style>\n<table border=\"1\" class=\"dataframe\">\n  <thead>\n    <tr style=\"text-align: right;\">\n      <th></th>\n      <th></th>\n      <th></th>\n      <th>Chinese</th>\n      <th>Math</th>\n    </tr>\n    <tr>\n      <th>Class</th>\n      <th>Name</th>\n      <th>Examination</th>\n      <th></th>\n      <th></th>\n    </tr>\n  </thead>\n  <tbody>\n    <tr>\n      <th rowspan=\"2\" valign=\"top\">1</th>\n      <th rowspan=\"2\" valign=\"top\">San Zhang</th>\n      <th>Mid</th>\n      <td>80</td>\n      <td>90</td>\n    </tr>\n    <tr>\n      <th>Final</th>\n      <td>80</td>\n      <td>90</td>\n    </tr>\n    <tr>\n      <th rowspan=\"2\" valign=\"top\">2</th>\n      <th rowspan=\"2\" valign=\"top\">Si Li</th>\n      <th>Mid</th>\n      <td>75</td>\n      <td>85</td>\n    </tr>\n    <tr>\n      <th>Final</th>\n      <td>75</td>\n      <td>85</td>\n    </tr>\n  </tbody>\n</table>\n</div>"
     },
     "metadata": {},
     "execution_count": 35
    }
   ],
   "source": [
    "df = pd.DataFrame({'Class':[1,2],'Name':['San Zhang', 'Si Li'],\n",
    "                   'Chinese_Mid':[80, 75], 'Math_Mid':[90, 85],\n",
    "                   'Chinese_Final':[80, 75], 'Math_Final':[90, 85]})\n",
    "pd.wide_to_long(df, stubnames=['Chinese', 'Math'], i = ['Class', 'Name'], j='Examination', sep='_', suffix='.+')"
   ]
  },
  {
   "cell_type": "code",
   "execution_count": 49,
   "metadata": {},
   "outputs": [
    {
     "output_type": "execute_result",
     "data": {
      "text/plain": [
       "   Class       Name  Subject  Grade\n",
       "0      1  San Zhang  Chinese     80\n",
       "1      1  San Zhang     Math     80\n",
       "2      2      Si Li  Chinese     90\n",
       "3      2      Si Li     Math     75"
      ],
      "text/html": "<div>\n<style scoped>\n    .dataframe tbody tr th:only-of-type {\n        vertical-align: middle;\n    }\n\n    .dataframe tbody tr th {\n        vertical-align: top;\n    }\n\n    .dataframe thead th {\n        text-align: right;\n    }\n</style>\n<table border=\"1\" class=\"dataframe\">\n  <thead>\n    <tr style=\"text-align: right;\">\n      <th></th>\n      <th>Class</th>\n      <th>Name</th>\n      <th>Subject</th>\n      <th>Grade</th>\n    </tr>\n  </thead>\n  <tbody>\n    <tr>\n      <th>0</th>\n      <td>1</td>\n      <td>San Zhang</td>\n      <td>Chinese</td>\n      <td>80</td>\n    </tr>\n    <tr>\n      <th>1</th>\n      <td>1</td>\n      <td>San Zhang</td>\n      <td>Math</td>\n      <td>80</td>\n    </tr>\n    <tr>\n      <th>2</th>\n      <td>2</td>\n      <td>Si Li</td>\n      <td>Chinese</td>\n      <td>90</td>\n    </tr>\n    <tr>\n      <th>3</th>\n      <td>2</td>\n      <td>Si Li</td>\n      <td>Math</td>\n      <td>75</td>\n    </tr>\n  </tbody>\n</table>\n</div>"
     },
     "metadata": {},
     "execution_count": 49
    }
   ],
   "source": [
    "df = pd.DataFrame({'Class':[1,2],\n",
    "                  'Name':['San Zhang', 'Si Li'],\n",
    "                 'Grade_Chinese':[80, 90],\n",
    "                 'Grade_Math':[80, 75]})\n",
    "pd.wide_to_long(df, stubnames='Grade',\n",
    "                    i = ['Class', 'Name'],\n",
    "                    j = 'Subject',\n",
    "                     sep = '_',\n",
    "                     suffix = '.+').reset_index()"
   ]
  },
  {
   "cell_type": "code",
   "execution_count": 34,
   "metadata": {},
   "outputs": [],
   "source": [
    "#import dataframe_image as dfi\n",
    "df2.dfi.export('df1.png')"
   ]
  }
 ]
}