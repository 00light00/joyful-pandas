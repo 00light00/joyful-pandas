{
 "metadata": {
  "language_info": {
   "codemirror_mode": {
    "name": "ipython",
    "version": 3
   },
   "file_extension": ".py",
   "mimetype": "text/x-python",
   "name": "python",
   "nbconvert_exporter": "python",
   "pygments_lexer": "ipython3",
   "version": "3.7.9-final"
  },
  "orig_nbformat": 2,
  "kernelspec": {
   "name": "pycharm-f7427e7c",
   "display_name": "PyCharm (pythonProject)"
  }
 },
 "nbformat": 4,
 "nbformat_minor": 2,
 "cells": [
  {
   "source": [
    "<center><h1>第四章 分组</h1></center>"
   ],
   "cell_type": "markdown",
   "metadata": {}
  },
  {
   "cell_type": "code",
   "execution_count": 1,
   "metadata": {},
   "outputs": [
    {
     "output_type": "execute_result",
     "data": {
      "text/plain": [
       "                          School      Grade            Name  Gender  Height  \\\n",
       "0  Shanghai Jiao Tong University   Freshman    Gaopeng Yang  Female   158.9   \n",
       "1              Peking University   Freshman  Changqiang You    Male   166.5   \n",
       "2  Shanghai Jiao Tong University     Senior         Mei Sun    Male   188.9   \n",
       "3               Fudan University  Sophomore    Xiaojuan Sun  Female     NaN   \n",
       "4               Fudan University  Sophomore     Gaojuan You    Male   174.0   \n",
       "\n",
       "   Weight Transfer  Test_Number  Test_Time Time_Record  \n",
       "0    46.0        N            1  2019/10/5     0:04:34  \n",
       "1    70.0        N            1   2019/9/4     0:04:20  \n",
       "2    89.0        N            2  2019/9/12     0:05:22  \n",
       "3    41.0        N            2   2020/1/3     0:04:08  \n",
       "4    74.0        N            2  2019/11/6     0:05:22  "
      ],
      "text/html": "<div>\n<style scoped>\n    .dataframe tbody tr th:only-of-type {\n        vertical-align: middle;\n    }\n\n    .dataframe tbody tr th {\n        vertical-align: top;\n    }\n\n    .dataframe thead th {\n        text-align: right;\n    }\n</style>\n<table border=\"1\" class=\"dataframe\">\n  <thead>\n    <tr style=\"text-align: right;\">\n      <th></th>\n      <th>School</th>\n      <th>Grade</th>\n      <th>Name</th>\n      <th>Gender</th>\n      <th>Height</th>\n      <th>Weight</th>\n      <th>Transfer</th>\n      <th>Test_Number</th>\n      <th>Test_Time</th>\n      <th>Time_Record</th>\n    </tr>\n  </thead>\n  <tbody>\n    <tr>\n      <th>0</th>\n      <td>Shanghai Jiao Tong University</td>\n      <td>Freshman</td>\n      <td>Gaopeng Yang</td>\n      <td>Female</td>\n      <td>158.9</td>\n      <td>46.0</td>\n      <td>N</td>\n      <td>1</td>\n      <td>2019/10/5</td>\n      <td>0:04:34</td>\n    </tr>\n    <tr>\n      <th>1</th>\n      <td>Peking University</td>\n      <td>Freshman</td>\n      <td>Changqiang You</td>\n      <td>Male</td>\n      <td>166.5</td>\n      <td>70.0</td>\n      <td>N</td>\n      <td>1</td>\n      <td>2019/9/4</td>\n      <td>0:04:20</td>\n    </tr>\n    <tr>\n      <th>2</th>\n      <td>Shanghai Jiao Tong University</td>\n      <td>Senior</td>\n      <td>Mei Sun</td>\n      <td>Male</td>\n      <td>188.9</td>\n      <td>89.0</td>\n      <td>N</td>\n      <td>2</td>\n      <td>2019/9/12</td>\n      <td>0:05:22</td>\n    </tr>\n    <tr>\n      <th>3</th>\n      <td>Fudan University</td>\n      <td>Sophomore</td>\n      <td>Xiaojuan Sun</td>\n      <td>Female</td>\n      <td>NaN</td>\n      <td>41.0</td>\n      <td>N</td>\n      <td>2</td>\n      <td>2020/1/3</td>\n      <td>0:04:08</td>\n    </tr>\n    <tr>\n      <th>4</th>\n      <td>Fudan University</td>\n      <td>Sophomore</td>\n      <td>Gaojuan You</td>\n      <td>Male</td>\n      <td>174.0</td>\n      <td>74.0</td>\n      <td>N</td>\n      <td>2</td>\n      <td>2019/11/6</td>\n      <td>0:05:22</td>\n    </tr>\n  </tbody>\n</table>\n</div>"
     },
     "metadata": {},
     "execution_count": 1
    }
   ],
   "source": [
    "import numpy as np\n",
    "import pandas as pd\n",
    "df = pd.read_csv('../data/learn_pandas.csv')\n",
    "df.head()"
   ]
  },
  {
   "cell_type": "code",
   "execution_count": 10,
   "metadata": {},
   "outputs": [
    {
     "output_type": "execute_result",
     "data": {
      "text/plain": [
       "      Weight  Gender\n",
       "1001    60.0     NaN\n",
       "1002    80.0     NaN\n",
       "1003    70.0     NaN\n",
       "1004     NaN     NaN"
      ],
      "text/html": "<div>\n<style scoped>\n    .dataframe tbody tr th:only-of-type {\n        vertical-align: middle;\n    }\n\n    .dataframe tbody tr th {\n        vertical-align: top;\n    }\n\n    .dataframe thead th {\n        text-align: right;\n    }\n</style>\n<table border=\"1\" class=\"dataframe\">\n  <thead>\n    <tr style=\"text-align: right;\">\n      <th></th>\n      <th>Weight</th>\n      <th>Gender</th>\n    </tr>\n  </thead>\n  <tbody>\n    <tr>\n      <th>1001</th>\n      <td>60.0</td>\n      <td>NaN</td>\n    </tr>\n    <tr>\n      <th>1002</th>\n      <td>80.0</td>\n      <td>NaN</td>\n    </tr>\n    <tr>\n      <th>1003</th>\n      <td>70.0</td>\n      <td>NaN</td>\n    </tr>\n    <tr>\n      <th>1004</th>\n      <td>NaN</td>\n      <td>NaN</td>\n    </tr>\n  </tbody>\n</table>\n</div>"
     },
     "metadata": {},
     "execution_count": 10
    }
   ],
   "source": [
    "pd.DataFrame({\"Weight\":[60,70,80],\"Height\":[176,180,179]}, index=['1001','1003','1002']).reindex(index=['1001','1002','1003','1004'],columns=['Weight','Gender'])"
   ]
  },
  {
   "cell_type": "code",
   "execution_count": 17,
   "metadata": {},
   "outputs": [
    {
     "output_type": "execute_result",
     "data": {
      "text/plain": [
       "MultiIndex([('a', 'cat'),\n",
       "            ('a', 'dog'),\n",
       "            ('b', 'cat'),\n",
       "            ('b', 'dog')],\n",
       "           names=['First', 'Second'])"
      ]
     },
     "metadata": {},
     "execution_count": 17
    }
   ],
   "source": [
    "my_list1 = ['a','b']\n",
    "my_list2 = ['cat','dog']\n",
    "pd.MultiIndex.from_product([my_list1,\n",
    "                            my_list2],\n",
    "                           names=['First','Second'])"
   ]
  }
 ]
}