{
 "metadata": {
  "language_info": {
   "codemirror_mode": {
    "name": "ipython",
    "version": 3
   },
   "file_extension": ".py",
   "mimetype": "text/x-python",
   "name": "python",
   "nbconvert_exporter": "python",
   "pygments_lexer": "ipython3",
   "version": "3.7.9-final"
  },
  "orig_nbformat": 2,
  "kernelspec": {
   "name": "Python 3.7.9 64-bit ('ML': conda)",
   "display_name": "Python 3.7.9 64-bit ('ML': conda)",
   "metadata": {
    "interpreter": {
     "hash": "539eeca01c4a82e9e0248c7d96d3e95516d644c0bbc096dd3e480eeded1964cf"
    }
   }
  }
 },
 "nbformat": 4,
 "nbformat_minor": 2,
 "cells": [
  {
   "cell_type": "code",
   "execution_count": 1,
   "metadata": {},
   "outputs": [],
   "source": [
    "import numpy as np\n",
    "import pandas as pd"
   ]
  },
  {
   "cell_type": "code",
   "execution_count": 2,
   "metadata": {},
   "outputs": [
    {
     "output_type": "execute_result",
     "data": {
      "text/plain": [
       "1"
      ]
     },
     "metadata": {},
     "execution_count": 2
    }
   ],
   "source": [
    "pd.Series([np.nan,1]).count()"
   ]
  },
  {
   "cell_type": "code",
   "execution_count": null,
   "metadata": {},
   "outputs": [],
   "source": []
  },
  {
   "cell_type": "code",
   "execution_count": 2,
   "metadata": {},
   "outputs": [
    {
     "output_type": "execute_result",
     "data": {
      "text/plain": [
       "'1.1.3'"
      ]
     },
     "metadata": {},
     "execution_count": 2
    }
   ],
   "source": [
    "pd.__version__"
   ]
  },
  {
   "cell_type": "code",
   "execution_count": 17,
   "metadata": {},
   "outputs": [],
   "source": [
    "import xpinyin\n",
    "x = xpinyin.Pinyin()\n"
   ]
  },
  {
   "cell_type": "code",
   "execution_count": 27,
   "metadata": {},
   "outputs": [],
   "source": [
    "np.random.seed(4)\n",
    "School = np.random.choice(['Tsinghua University',\n",
    "                           'Peking University',\n",
    "                           'Fudan University',\n",
    "                           'Shanghai Jiao Tong University'], 200, p = [0.4, 0.15, 0.2, 0.25])\n",
    "Grade = np.random.choice(['Freshman', 'Sophomore', 'Junior', 'Senior'], 200, p = [0.3, 0.15, 0.25, 0.3])\n",
    "Last_name = list('赵钱孙李周吴郑王冯陈褚卫蒋沈韩杨朱秦尤许何吕施张')\n",
    "Last_name_pro = np.random.randint(0,10,24)\n",
    "Last_name_pro = Last_name_pro / Last_name_pro.sum()\n",
    "Last_name = np.random.choice(Last_name, 200, p = Last_name_pro.tolist())\n",
    "Last_name = pd.Series([x.get_pinyin(i) for i in Last_name]).str.capitalize().values.tolist()\n",
    "Mid, End = np.random.choice(list('艳晓高长成小春'), 200), np.random.choice(list('强鹏峰丽娟梅全'), 200)\n",
    "Mid = pd.Series([x.get_pinyin(i) for i in Mid]).str.capitalize().values.tolist()\n",
    "End = pd.Series([x.get_pinyin(i) for i in End]).values.tolist()\n",
    "Name = [''.join([j, k, ' ', i]) if np.random.rand() > 0.3 else ''.join([str.capitalize(k), ' ', i]) for i, j, k in zip(Last_name, Mid, End)]\n",
    "Gender = np.random.choice(['Male', 'Female'], 200, p = [0.3, 0.7])\n",
    "Height = np.where(Gender == 'Male', np.random.randn(200) * 7 + 173, np.random.randn(200) * 5 + 160).round(1)\n",
    "Weight = np.where(Gender == 'Male', Height - 105 + np.random.rand(200) * 10, Height - 115 + np.random.rand(200) * 8).round()\n",
    "Height = np.where(np.random.choice([1, 2], 200, p = [0.05, 0.95]) == 1, np.nan, Height)\n",
    "Weight = np.where(np.random.choice([1, 2], 200, p = [0.05, 0.95]) == 1, np.nan, Weight)\n",
    "Transfer = np.random.choice(['Y', 'N'], 200, p = [0.04, 0.96])\n",
    "Test_Time = pd.Series(np.random.choice(pd.period_range('20190902', '20200108'), 200)).astype('string')\n",
    "Time_Record = pd.Series(np.random.choice(pd.timedelta_range('210s', '330s', freq='s'), 200)).astype('string').str[-8:]\n",
    "Test_Number = np.random.choice([1, 2, 3], 200, p = [0.5, 0.35, 0.15])"
   ]
  },
  {
   "cell_type": "code",
   "execution_count": 28,
   "metadata": {},
   "outputs": [],
   "source": [
    "df = pd.DataFrame({'School': School,\n",
    "                   'Grade': Grade,\n",
    "                   'Name': Name,\n",
    "                   'Gender': Gender,\n",
    "                   'Height': Height,\n",
    "                   'Weight': Weight,\n",
    "                   'Transfer': Transfer,\n",
    "                   'Test_Number': Test_Number,\n",
    "                   'Test_Time': Test_Time,\n",
    "                   'Time_Record': Time_Record})"
   ]
  },
  {
   "cell_type": "code",
   "execution_count": 29,
   "metadata": {},
   "outputs": [
    {
     "output_type": "execute_result",
     "data": {
      "text/plain": [
       "                            School      Grade            Name  Gender  Height  \\\n",
       "0    Shanghai Jiao Tong University   Freshman    Gaopeng Yang  Female   158.9   \n",
       "1                Peking University   Freshman  Changqiang You    Male   166.5   \n",
       "2    Shanghai Jiao Tong University     Senior         Mei Sun    Male   188.9   \n",
       "3                 Fudan University  Sophomore    Xiaojuan Sun  Female     NaN   \n",
       "4                 Fudan University  Sophomore     Gaojuan You    Male   174.0   \n",
       "..                             ...        ...             ...     ...     ...   \n",
       "195               Fudan University     Junior    Xiaojuan Sun  Female   153.9   \n",
       "196            Tsinghua University     Senior         Li Zhao  Female   160.9   \n",
       "197  Shanghai Jiao Tong University     Senior  Chengqiang Chu  Female   153.9   \n",
       "198  Shanghai Jiao Tong University     Senior   Chengmei Shen    Male   175.3   \n",
       "199            Tsinghua University  Sophomore     Chunpeng Lv    Male   155.7   \n",
       "\n",
       "     Weight Transfer  Test_Number   Test_Time Time_Record  \n",
       "0      46.0        N            1  2019-10-05    00:04:34  \n",
       "1      70.0        N            1  2019-09-04    00:04:20  \n",
       "2      89.0        N            2  2019-09-12    00:05:22  \n",
       "3      41.0        N            2  2020-01-03    00:04:08  \n",
       "4      74.0        N            2  2019-11-06    00:05:22  \n",
       "..      ...      ...          ...         ...         ...  \n",
       "195    46.0        N            2  2019-10-17    00:04:31  \n",
       "196    50.0        N            3  2019-09-22    00:04:03  \n",
       "197    45.0        N            1  2020-01-05    00:04:48  \n",
       "198    71.0        N            2  2020-01-07    00:04:58  \n",
       "199    51.0        N            1  2019-11-06    00:05:05  \n",
       "\n",
       "[200 rows x 10 columns]"
      ],
      "text/html": "<div>\n<style scoped>\n    .dataframe tbody tr th:only-of-type {\n        vertical-align: middle;\n    }\n\n    .dataframe tbody tr th {\n        vertical-align: top;\n    }\n\n    .dataframe thead th {\n        text-align: right;\n    }\n</style>\n<table border=\"1\" class=\"dataframe\">\n  <thead>\n    <tr style=\"text-align: right;\">\n      <th></th>\n      <th>School</th>\n      <th>Grade</th>\n      <th>Name</th>\n      <th>Gender</th>\n      <th>Height</th>\n      <th>Weight</th>\n      <th>Transfer</th>\n      <th>Test_Number</th>\n      <th>Test_Time</th>\n      <th>Time_Record</th>\n    </tr>\n  </thead>\n  <tbody>\n    <tr>\n      <th>0</th>\n      <td>Shanghai Jiao Tong University</td>\n      <td>Freshman</td>\n      <td>Gaopeng Yang</td>\n      <td>Female</td>\n      <td>158.9</td>\n      <td>46.0</td>\n      <td>N</td>\n      <td>1</td>\n      <td>2019-10-05</td>\n      <td>00:04:34</td>\n    </tr>\n    <tr>\n      <th>1</th>\n      <td>Peking University</td>\n      <td>Freshman</td>\n      <td>Changqiang You</td>\n      <td>Male</td>\n      <td>166.5</td>\n      <td>70.0</td>\n      <td>N</td>\n      <td>1</td>\n      <td>2019-09-04</td>\n      <td>00:04:20</td>\n    </tr>\n    <tr>\n      <th>2</th>\n      <td>Shanghai Jiao Tong University</td>\n      <td>Senior</td>\n      <td>Mei Sun</td>\n      <td>Male</td>\n      <td>188.9</td>\n      <td>89.0</td>\n      <td>N</td>\n      <td>2</td>\n      <td>2019-09-12</td>\n      <td>00:05:22</td>\n    </tr>\n    <tr>\n      <th>3</th>\n      <td>Fudan University</td>\n      <td>Sophomore</td>\n      <td>Xiaojuan Sun</td>\n      <td>Female</td>\n      <td>NaN</td>\n      <td>41.0</td>\n      <td>N</td>\n      <td>2</td>\n      <td>2020-01-03</td>\n      <td>00:04:08</td>\n    </tr>\n    <tr>\n      <th>4</th>\n      <td>Fudan University</td>\n      <td>Sophomore</td>\n      <td>Gaojuan You</td>\n      <td>Male</td>\n      <td>174.0</td>\n      <td>74.0</td>\n      <td>N</td>\n      <td>2</td>\n      <td>2019-11-06</td>\n      <td>00:05:22</td>\n    </tr>\n    <tr>\n      <th>...</th>\n      <td>...</td>\n      <td>...</td>\n      <td>...</td>\n      <td>...</td>\n      <td>...</td>\n      <td>...</td>\n      <td>...</td>\n      <td>...</td>\n      <td>...</td>\n      <td>...</td>\n    </tr>\n    <tr>\n      <th>195</th>\n      <td>Fudan University</td>\n      <td>Junior</td>\n      <td>Xiaojuan Sun</td>\n      <td>Female</td>\n      <td>153.9</td>\n      <td>46.0</td>\n      <td>N</td>\n      <td>2</td>\n      <td>2019-10-17</td>\n      <td>00:04:31</td>\n    </tr>\n    <tr>\n      <th>196</th>\n      <td>Tsinghua University</td>\n      <td>Senior</td>\n      <td>Li Zhao</td>\n      <td>Female</td>\n      <td>160.9</td>\n      <td>50.0</td>\n      <td>N</td>\n      <td>3</td>\n      <td>2019-09-22</td>\n      <td>00:04:03</td>\n    </tr>\n    <tr>\n      <th>197</th>\n      <td>Shanghai Jiao Tong University</td>\n      <td>Senior</td>\n      <td>Chengqiang Chu</td>\n      <td>Female</td>\n      <td>153.9</td>\n      <td>45.0</td>\n      <td>N</td>\n      <td>1</td>\n      <td>2020-01-05</td>\n      <td>00:04:48</td>\n    </tr>\n    <tr>\n      <th>198</th>\n      <td>Shanghai Jiao Tong University</td>\n      <td>Senior</td>\n      <td>Chengmei Shen</td>\n      <td>Male</td>\n      <td>175.3</td>\n      <td>71.0</td>\n      <td>N</td>\n      <td>2</td>\n      <td>2020-01-07</td>\n      <td>00:04:58</td>\n    </tr>\n    <tr>\n      <th>199</th>\n      <td>Tsinghua University</td>\n      <td>Sophomore</td>\n      <td>Chunpeng Lv</td>\n      <td>Male</td>\n      <td>155.7</td>\n      <td>51.0</td>\n      <td>N</td>\n      <td>1</td>\n      <td>2019-11-06</td>\n      <td>00:05:05</td>\n    </tr>\n  </tbody>\n</table>\n<p>200 rows × 10 columns</p>\n</div>"
     },
     "metadata": {},
     "execution_count": 29
    }
   ],
   "source": [
    "df"
   ]
  },
  {
   "cell_type": "code",
   "execution_count": 120,
   "metadata": {},
   "outputs": [
    {
     "output_type": "execute_result",
     "data": {
      "text/plain": [
       "     School Grade Name Gender  Height  Weight Transfer  Test_Number  \\\n",
       "0      复旦大学    大一  杨高鹏      男   180.8    85.0        N            2   \n",
       "1    上海交通大学    大一   尤强      女   159.2    49.0        N            1   \n",
       "2      复旦大学    大四  孙春梅      女   161.9    54.0        N            3   \n",
       "3      同济大学    大二  孙小娟      女   162.9    56.0        N            2   \n",
       "4      同济大学    大二  尤高娟      女   162.0    50.0        N            1   \n",
       "..      ...   ...  ...    ...     ...     ...      ...          ...   \n",
       "195    同济大学    大三  孙晓娟      女   169.4    62.0        N            3   \n",
       "196  华东师范大学    大四  赵小丽      男   166.0    67.0        N            1   \n",
       "197    复旦大学    大四  褚成强      女   152.3    40.0        N            1   \n",
       "198    复旦大学    大四  沈成梅      男   171.1    76.0        N            1   \n",
       "199  华东师范大学    大二   吕鹏      女   155.8    42.0        N            1   \n",
       "\n",
       "      Test_Time Time_Record  \n",
       "0    2020-01-05    00:04:17  \n",
       "1    2019-11-27    00:04:20  \n",
       "2    2019-11-19    00:04:17  \n",
       "3    2019-12-31    00:04:33  \n",
       "4    2019-10-04    00:04:32  \n",
       "..          ...         ...  \n",
       "195  2019-12-06    00:03:43  \n",
       "196  2019-11-22    00:04:55  \n",
       "197  2020-01-06    00:04:13  \n",
       "198  2019-11-16    00:05:26  \n",
       "199  2019-10-20    00:04:49  \n",
       "\n",
       "[199 rows x 10 columns]"
      ],
      "text/html": "<div>\n<style scoped>\n    .dataframe tbody tr th:only-of-type {\n        vertical-align: middle;\n    }\n\n    .dataframe tbody tr th {\n        vertical-align: top;\n    }\n\n    .dataframe thead th {\n        text-align: right;\n    }\n</style>\n<table border=\"1\" class=\"dataframe\">\n  <thead>\n    <tr style=\"text-align: right;\">\n      <th></th>\n      <th>School</th>\n      <th>Grade</th>\n      <th>Name</th>\n      <th>Gender</th>\n      <th>Height</th>\n      <th>Weight</th>\n      <th>Transfer</th>\n      <th>Test_Number</th>\n      <th>Test_Time</th>\n      <th>Time_Record</th>\n    </tr>\n  </thead>\n  <tbody>\n    <tr>\n      <th>0</th>\n      <td>复旦大学</td>\n      <td>大一</td>\n      <td>杨高鹏</td>\n      <td>男</td>\n      <td>180.8</td>\n      <td>85.0</td>\n      <td>N</td>\n      <td>2</td>\n      <td>2020-01-05</td>\n      <td>00:04:17</td>\n    </tr>\n    <tr>\n      <th>1</th>\n      <td>上海交通大学</td>\n      <td>大一</td>\n      <td>尤强</td>\n      <td>女</td>\n      <td>159.2</td>\n      <td>49.0</td>\n      <td>N</td>\n      <td>1</td>\n      <td>2019-11-27</td>\n      <td>00:04:20</td>\n    </tr>\n    <tr>\n      <th>2</th>\n      <td>复旦大学</td>\n      <td>大四</td>\n      <td>孙春梅</td>\n      <td>女</td>\n      <td>161.9</td>\n      <td>54.0</td>\n      <td>N</td>\n      <td>3</td>\n      <td>2019-11-19</td>\n      <td>00:04:17</td>\n    </tr>\n    <tr>\n      <th>3</th>\n      <td>同济大学</td>\n      <td>大二</td>\n      <td>孙小娟</td>\n      <td>女</td>\n      <td>162.9</td>\n      <td>56.0</td>\n      <td>N</td>\n      <td>2</td>\n      <td>2019-12-31</td>\n      <td>00:04:33</td>\n    </tr>\n    <tr>\n      <th>4</th>\n      <td>同济大学</td>\n      <td>大二</td>\n      <td>尤高娟</td>\n      <td>女</td>\n      <td>162.0</td>\n      <td>50.0</td>\n      <td>N</td>\n      <td>1</td>\n      <td>2019-10-04</td>\n      <td>00:04:32</td>\n    </tr>\n    <tr>\n      <th>...</th>\n      <td>...</td>\n      <td>...</td>\n      <td>...</td>\n      <td>...</td>\n      <td>...</td>\n      <td>...</td>\n      <td>...</td>\n      <td>...</td>\n      <td>...</td>\n      <td>...</td>\n    </tr>\n    <tr>\n      <th>195</th>\n      <td>同济大学</td>\n      <td>大三</td>\n      <td>孙晓娟</td>\n      <td>女</td>\n      <td>169.4</td>\n      <td>62.0</td>\n      <td>N</td>\n      <td>3</td>\n      <td>2019-12-06</td>\n      <td>00:03:43</td>\n    </tr>\n    <tr>\n      <th>196</th>\n      <td>华东师范大学</td>\n      <td>大四</td>\n      <td>赵小丽</td>\n      <td>男</td>\n      <td>166.0</td>\n      <td>67.0</td>\n      <td>N</td>\n      <td>1</td>\n      <td>2019-11-22</td>\n      <td>00:04:55</td>\n    </tr>\n    <tr>\n      <th>197</th>\n      <td>复旦大学</td>\n      <td>大四</td>\n      <td>褚成强</td>\n      <td>女</td>\n      <td>152.3</td>\n      <td>40.0</td>\n      <td>N</td>\n      <td>1</td>\n      <td>2020-01-06</td>\n      <td>00:04:13</td>\n    </tr>\n    <tr>\n      <th>198</th>\n      <td>复旦大学</td>\n      <td>大四</td>\n      <td>沈成梅</td>\n      <td>男</td>\n      <td>171.1</td>\n      <td>76.0</td>\n      <td>N</td>\n      <td>1</td>\n      <td>2019-11-16</td>\n      <td>00:05:26</td>\n    </tr>\n    <tr>\n      <th>199</th>\n      <td>华东师范大学</td>\n      <td>大二</td>\n      <td>吕鹏</td>\n      <td>女</td>\n      <td>155.8</td>\n      <td>42.0</td>\n      <td>N</td>\n      <td>1</td>\n      <td>2019-10-20</td>\n      <td>00:04:49</td>\n    </tr>\n  </tbody>\n</table>\n<p>199 rows × 10 columns</p>\n</div>"
     },
     "metadata": {},
     "execution_count": 120
    }
   ],
   "source": [
    "df.drop_duplicates(df.columns[:4].tolist())"
   ]
  },
  {
   "cell_type": "code",
   "execution_count": 30,
   "metadata": {},
   "outputs": [],
   "source": [
    "df.to_csv('../data/learn_pandas.csv', encoding='utf-8', index=False)"
   ]
  }
 ]
}