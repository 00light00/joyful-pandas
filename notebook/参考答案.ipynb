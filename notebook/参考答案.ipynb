{
 "metadata": {
  "language_info": {
   "codemirror_mode": {
    "name": "ipython",
    "version": 3
   },
   "file_extension": ".py",
   "mimetype": "text/x-python",
   "name": "python",
   "nbconvert_exporter": "python",
   "pygments_lexer": "ipython3",
   "version": "3.7.9-final"
  },
  "orig_nbformat": 2,
  "kernelspec": {
   "name": "pycharm-f7427e7c",
   "display_name": "PyCharm (pythonProject)"
  }
 },
 "nbformat": 4,
 "nbformat_minor": 2,
 "cells": [
  {
   "source": [
    "<center><h1>参考答案</h1></center>"
   ],
   "cell_type": "markdown",
   "metadata": {}
  },
  {
   "cell_type": "code",
   "execution_count": 1,
   "metadata": {},
   "outputs": [],
   "source": [
    "import numpy as np\n",
    "import pandas as pd\n",
    "import matplotlib.pyplot as plt"
   ]
  },
  {
   "source": [
    "## 第一章 预备知识\n",
    "\n",
    "### Ex1：利用列表推导式写矩阵乘法"
   ],
   "cell_type": "markdown",
   "metadata": {}
  },
  {
   "cell_type": "code",
   "execution_count": 2,
   "metadata": {},
   "outputs": [
    {
     "output_type": "execute_result",
     "data": {
      "text/plain": [
       "True"
      ]
     },
     "metadata": {},
     "execution_count": 2
    }
   ],
   "source": [
    "M1 = np.random.rand(2,3)\n",
    "M2 = np.random.rand(3,4)\n",
    "res = [[sum([M1[i][k] * M2[k][j] for k in range(M1.shape[1])]) for j in range(M2.shape[1])] for i in range(M1.shape[0])]\n",
    "((M1@M2 - res) < 1e-15).all()"
   ]
  },
  {
   "source": [
    "### Ex2：更新矩阵"
   ],
   "cell_type": "markdown",
   "metadata": {}
  },
  {
   "cell_type": "code",
   "execution_count": 3,
   "metadata": {},
   "outputs": [
    {
     "output_type": "execute_result",
     "data": {
      "text/plain": [
       "array([[1.83333333, 3.66666667, 5.5       ],\n",
       "       [2.46666667, 3.08333333, 3.7       ],\n",
       "       [2.65277778, 3.03174603, 3.41071429]])"
      ]
     },
     "metadata": {},
     "execution_count": 3
    }
   ],
   "source": [
    "A = np.arange(1,10).reshape(3,-1)\n",
    "B = A*(1/A).sum(1).reshape(-1,1)\n",
    "B"
   ]
  },
  {
   "source": [
    "### Ex3：卡方统计量"
   ],
   "cell_type": "markdown",
   "metadata": {}
  },
  {
   "cell_type": "code",
   "execution_count": 4,
   "metadata": {},
   "outputs": [
    {
     "output_type": "execute_result",
     "data": {
      "text/plain": [
       "11.842696601945802"
      ]
     },
     "metadata": {},
     "execution_count": 4
    }
   ],
   "source": [
    "np.random.seed(0)\n",
    "A = np.random.randint(10, 20, (8, 5))\n",
    "B = A.sum(0)*A.sum(1).reshape(-1, 1)/A.sum()\n",
    "res = ((A-B)**2/B).sum()\n",
    "res"
   ]
  },
  {
   "source": [
    "### Ex4：改进矩阵计算的性能\n",
    "\n",
    "原方法："
   ],
   "cell_type": "markdown",
   "metadata": {}
  },
  {
   "cell_type": "code",
   "execution_count": 5,
   "metadata": {},
   "outputs": [
    {
     "output_type": "execute_result",
     "data": {
      "text/plain": [
       "100566"
      ]
     },
     "metadata": {},
     "execution_count": 5
    }
   ],
   "source": [
    "np.random.seed(0)\n",
    "m, n, p = 100, 80, 50\n",
    "B = np.random.randint(0, 2, (m, p))\n",
    "U = np.random.randint(0, 2, (p, n))\n",
    "Z = np.random.randint(0, 2, (m, n))\n",
    "def solution(B=B, U=U, Z=Z):\n",
    "    L_res = []\n",
    "    for i in range(m):\n",
    "        for j in range(n):\n",
    "            norm_value = ((B[i]-U[:,j])**2).sum()\n",
    "            L_res.append(norm_value*Z[i][j])\n",
    "    return sum(L_res)\n",
    "solution(B, U, Z)"
   ]
  },
  {
   "source": [
    "改进方法：\n",
    "\n",
    "令$Y_{ij} = \\|B_i-U_j\\|_2^2$，则$\\displaystyle R=\\sum_{i=1}^m\\sum_{j=1}^n Y_{ij}Z_{ij}$，这在`Numpy`中可以用逐元素的乘法后求和实现，因此问题转化为了如何构造`Y`矩阵。\n",
    "\n",
    "$$\n",
    "\\begin{split}Y_{ij} &= \\|B_i-U_j\\|_2^2\\\\\n",
    "&=\\sum_{k=1}^p(B_{ik}-U_{kj})^2\\\\\n",
    "&=\\sum_{k=1}^p B_{ik}^2+\\sum_{k=1}^p U_{kj}^2-2\\sum_{k=1}^p B_{ik}U_{kj}\\\\\\end{split}\n",
    "$$\n",
    "\n",
    "从上式可以看出，第一第二项分别为$B$的行平方和与$U$的列平方和，第三项是两倍的内积。因此，$Y$矩阵可以写为三个部分，第一个部分是$m×n$的全$1$矩阵每行乘以$B$对应行的行平方和，第二个部分是相同大小的全$1$矩阵每列乘以$U$对应列的列平方和，第三个部分恰为$B$矩阵与$U$矩阵乘积的两倍。从而结果如下："
   ],
   "cell_type": "markdown",
   "metadata": {}
  },
  {
   "cell_type": "code",
   "execution_count": 6,
   "metadata": {},
   "outputs": [
    {
     "output_type": "execute_result",
     "data": {
      "text/plain": [
       "100566"
      ]
     },
     "metadata": {},
     "execution_count": 6
    }
   ],
   "source": [
    "(((B**2).sum(1).reshape(-1,1) + (U**2).sum(0) - 2*B@U)*Z).sum()"
   ]
  },
  {
   "source": [
    "对比它们的性能："
   ],
   "cell_type": "markdown",
   "metadata": {}
  },
  {
   "cell_type": "code",
   "execution_count": 7,
   "metadata": {},
   "outputs": [
    {
     "output_type": "stream",
     "name": "stdout",
     "text": [
      "49.5 ms ± 2.08 ms per loop (mean ± std. dev. of 7 runs, 30 loops each)\n"
     ]
    }
   ],
   "source": [
    "%timeit -n 30 solution(B, U, Z)"
   ]
  },
  {
   "cell_type": "code",
   "execution_count": 8,
   "metadata": {},
   "outputs": [
    {
     "output_type": "stream",
     "name": "stdout",
     "text": [
      "766 µs ± 153 µs per loop (mean ± std. dev. of 7 runs, 30 loops each)\n"
     ]
    }
   ],
   "source": [
    "%timeit -n 30 ((np.ones((m,n))*(B**2).sum(1).reshape(-1,1) + np.ones((m,n))*(U**2).sum(0) - 2*B@U)*Z).sum()"
   ]
  },
  {
   "source": [
    "### Ex5：连续整数的最大长度"
   ],
   "cell_type": "markdown",
   "metadata": {}
  },
  {
   "cell_type": "code",
   "execution_count": 9,
   "metadata": {},
   "outputs": [
    {
     "output_type": "execute_result",
     "data": {
      "text/plain": [
       "4"
      ]
     },
     "metadata": {},
     "execution_count": 9
    }
   ],
   "source": [
    "f = lambda x:np.diff(np.nonzero(np.r_[1,np.diff(x)!=1,1])).max()\n",
    "f([1,2,5,6,7])\n",
    "f([3,2,1,2,3,4,6])"
   ]
  },
  {
   "source": [
    "## 第二章 pandas基础\n",
    "### Ex1：口袋妖怪数据集\n",
    "#### 1."
   ],
   "cell_type": "markdown",
   "metadata": {}
  },
  {
   "cell_type": "code",
   "execution_count": 10,
   "metadata": {},
   "outputs": [
    {
     "output_type": "execute_result",
     "data": {
      "text/plain": [
       "0.0"
      ]
     },
     "metadata": {},
     "execution_count": 10
    }
   ],
   "source": [
    "df = pd.read_csv('../data/pokemon.csv')\n",
    "(df[['HP', 'Attack', 'Defense', 'Sp. Atk', 'Sp. Def', 'Speed']].sum(1)!=df['Total']).mean()"
   ]
  },
  {
   "source": [
    "#### 2.\n",
    "(a)"
   ],
   "cell_type": "markdown",
   "metadata": {}
  },
  {
   "cell_type": "code",
   "execution_count": 11,
   "metadata": {},
   "outputs": [
    {
     "output_type": "execute_result",
     "data": {
      "text/plain": [
       "Index(['Water', 'Normal', 'Grass'], dtype='object')"
      ]
     },
     "metadata": {},
     "execution_count": 11
    }
   ],
   "source": [
    "dp_dup = df.drop_duplicates('#', keep='first')\n",
    "dp_dup['Type 1'].nunique()\n",
    "dp_dup['Type 1'].value_counts().index[:3]"
   ]
  },
  {
   "source": [
    "(b)"
   ],
   "cell_type": "markdown",
   "metadata": {}
  },
  {
   "cell_type": "code",
   "execution_count": 12,
   "metadata": {},
   "outputs": [
    {
     "output_type": "execute_result",
     "data": {
      "text/plain": [
       "143"
      ]
     },
     "metadata": {},
     "execution_count": 12
    }
   ],
   "source": [
    "attr_dup = dp_dup.drop_duplicates(['Type 1', 'Type 2'])\n",
    "attr_dup.shape[0]"
   ]
  },
  {
   "source": [
    "(c)"
   ],
   "cell_type": "markdown",
   "metadata": {}
  },
  {
   "cell_type": "code",
   "execution_count": 13,
   "metadata": {},
   "outputs": [
    {
     "output_type": "execute_result",
     "data": {
      "text/plain": [
       "181"
      ]
     },
     "metadata": {},
     "execution_count": 13
    }
   ],
   "source": [
    "L_full = [' '.join([i, j]) if i!=j else i for j in dp_dup['Type 1'].unique() for i in dp_dup['Type 1'].unique()]\n",
    "L_part = [' '.join([i, j]) if type(j)!=float else i for i, j in zip(attr_dup['Type 1'], attr_dup['Type 2'])]\n",
    "res = set(L_full).difference(set(L_part))\n",
    "len(res) # 太多，不打印了"
   ]
  },
  {
   "source": [
    "#### 3.\n",
    "(a)"
   ],
   "cell_type": "markdown",
   "metadata": {}
  },
  {
   "cell_type": "code",
   "execution_count": 14,
   "metadata": {},
   "outputs": [
    {
     "output_type": "execute_result",
     "data": {
      "text/plain": [
       "0    low\n",
       "1    mid\n",
       "2    mid\n",
       "3    mid\n",
       "4    mid\n",
       "Name: Attack, dtype: object"
      ]
     },
     "metadata": {},
     "execution_count": 14
    }
   ],
   "source": [
    "df['Attack'].mask(df['Attack']>120, 'high').mask(df['Attack']<50, 'low').mask((50<=df['Attack'])&(df['Attack']<=120), 'mid').head()"
   ]
  },
  {
   "source": [
    "(b)"
   ],
   "cell_type": "markdown",
   "metadata": {}
  },
  {
   "cell_type": "code",
   "execution_count": 15,
   "metadata": {},
   "outputs": [
    {
     "output_type": "execute_result",
     "data": {
      "text/plain": [
       "0    GRASS\n",
       "1    GRASS\n",
       "2    GRASS\n",
       "3    GRASS\n",
       "4     FIRE\n",
       "Name: Type 1, dtype: object"
      ]
     },
     "metadata": {},
     "execution_count": 15
    }
   ],
   "source": [
    "df['Type 1'].replace({i:str.upper(i) for i in df['Type 1'].unique()})\n",
    "df['Type 1'].apply(lambda x:str.upper(x)).head()"
   ]
  },
  {
   "source": [
    "(c)"
   ],
   "cell_type": "markdown",
   "metadata": {}
  },
  {
   "cell_type": "code",
   "execution_count": 16,
   "metadata": {},
   "outputs": [
    {
     "output_type": "execute_result",
     "data": {
      "text/plain": [
       "       #                 Name  Type 1  Type 2  Total   HP  Attack  Defense  \\\n",
       "230  213              Shuckle     Bug    Rock    505   20      10      230   \n",
       "121  113              Chansey  Normal     NaN    450  250       5        5   \n",
       "261  242              Blissey  Normal     NaN    540  255      10       10   \n",
       "333  306    AggronMega Aggron   Steel     NaN    630   70     140      230   \n",
       "224  208  SteelixMega Steelix   Steel  Ground    610   75     125      230   \n",
       "\n",
       "     Sp. Atk  Sp. Def  Speed  Deviation  \n",
       "230       10      230      5      215.0  \n",
       "121       35      105     50      207.5  \n",
       "261       75      135     55      190.0  \n",
       "333       60       80     50      155.0  \n",
       "224       55       95     30      145.0  "
      ],
      "text/html": "<div>\n<style scoped>\n    .dataframe tbody tr th:only-of-type {\n        vertical-align: middle;\n    }\n\n    .dataframe tbody tr th {\n        vertical-align: top;\n    }\n\n    .dataframe thead th {\n        text-align: right;\n    }\n</style>\n<table border=\"1\" class=\"dataframe\">\n  <thead>\n    <tr style=\"text-align: right;\">\n      <th></th>\n      <th>#</th>\n      <th>Name</th>\n      <th>Type 1</th>\n      <th>Type 2</th>\n      <th>Total</th>\n      <th>HP</th>\n      <th>Attack</th>\n      <th>Defense</th>\n      <th>Sp. Atk</th>\n      <th>Sp. Def</th>\n      <th>Speed</th>\n      <th>Deviation</th>\n    </tr>\n  </thead>\n  <tbody>\n    <tr>\n      <th>230</th>\n      <td>213</td>\n      <td>Shuckle</td>\n      <td>Bug</td>\n      <td>Rock</td>\n      <td>505</td>\n      <td>20</td>\n      <td>10</td>\n      <td>230</td>\n      <td>10</td>\n      <td>230</td>\n      <td>5</td>\n      <td>215.0</td>\n    </tr>\n    <tr>\n      <th>121</th>\n      <td>113</td>\n      <td>Chansey</td>\n      <td>Normal</td>\n      <td>NaN</td>\n      <td>450</td>\n      <td>250</td>\n      <td>5</td>\n      <td>5</td>\n      <td>35</td>\n      <td>105</td>\n      <td>50</td>\n      <td>207.5</td>\n    </tr>\n    <tr>\n      <th>261</th>\n      <td>242</td>\n      <td>Blissey</td>\n      <td>Normal</td>\n      <td>NaN</td>\n      <td>540</td>\n      <td>255</td>\n      <td>10</td>\n      <td>10</td>\n      <td>75</td>\n      <td>135</td>\n      <td>55</td>\n      <td>190.0</td>\n    </tr>\n    <tr>\n      <th>333</th>\n      <td>306</td>\n      <td>AggronMega Aggron</td>\n      <td>Steel</td>\n      <td>NaN</td>\n      <td>630</td>\n      <td>70</td>\n      <td>140</td>\n      <td>230</td>\n      <td>60</td>\n      <td>80</td>\n      <td>50</td>\n      <td>155.0</td>\n    </tr>\n    <tr>\n      <th>224</th>\n      <td>208</td>\n      <td>SteelixMega Steelix</td>\n      <td>Steel</td>\n      <td>Ground</td>\n      <td>610</td>\n      <td>75</td>\n      <td>125</td>\n      <td>230</td>\n      <td>55</td>\n      <td>95</td>\n      <td>30</td>\n      <td>145.0</td>\n    </tr>\n  </tbody>\n</table>\n</div>"
     },
     "metadata": {},
     "execution_count": 16
    }
   ],
   "source": [
    "df['Deviation'] = df[['HP', 'Attack', 'Defense', 'Sp. Atk', 'Sp. Def', 'Speed']].apply(lambda x:np.max((x-x.median()).abs()), 1)\n",
    "df.sort_values('Deviation', ascending=False).head()"
   ]
  },
  {
   "source": [
    "### Ex2：指数加权窗口\n",
    "#### 1."
   ],
   "cell_type": "markdown",
   "metadata": {}
  },
  {
   "cell_type": "code",
   "execution_count": 17,
   "metadata": {},
   "outputs": [
    {
     "output_type": "execute_result",
     "data": {
      "text/plain": [
       "0   -1.000000\n",
       "1   -1.000000\n",
       "2   -1.409836\n",
       "3   -1.609756\n",
       "4   -1.725845\n",
       "dtype: float64"
      ]
     },
     "metadata": {},
     "execution_count": 17
    }
   ],
   "source": [
    "np.random.seed(0)\n",
    "s = pd.Series(np.random.randint(-1,2,30).cumsum())\n",
    "s.ewm(alpha=0.2).mean().head()\n",
    "def ewm_func(x, alpha=0.2):\n",
    "    win = (1-alpha)**np.arange(x.shape[0])[::-1]\n",
    "    res = (win*x).sum()/win.sum()\n",
    "    return res\n",
    "s.expanding().apply(ewm_func).head()"
   ]
  },
  {
   "source": [
    "#### 2.\n",
    "\n",
    "新的权重为$w_i = (1 - \\alpha)^i, i\\in \\{0,1,...,n-1\\}$，$y_t$更新如下：\n",
    "$$\n",
    "\\begin{split}y_t &=\\frac{\\sum_{i=0}^{n-1} w_i x_{t-i}}{\\sum_{i=0}^{n-1} w_i} \\\\\n",
    "&=\\frac{x_t + (1 - \\alpha)x_{t-1} + (1 - \\alpha)^2 x_{t-2} + ...\n",
    "+ (1 - \\alpha)^{n-1} x_{t-(n-1)}}{1 + (1 - \\alpha) + (1 - \\alpha)^2 + ...\n",
    "+ (1 - \\alpha)^{n-1}}\\\\\\end{split}\n",
    "$$\n"
   ],
   "cell_type": "markdown",
   "metadata": {}
  },
  {
   "cell_type": "code",
   "execution_count": 18,
   "metadata": {},
   "outputs": [
    {
     "output_type": "execute_result",
     "data": {
      "text/plain": [
       "0         NaN\n",
       "1         NaN\n",
       "2         NaN\n",
       "3   -1.609756\n",
       "4   -1.826558\n",
       "dtype: float64"
      ]
     },
     "metadata": {},
     "execution_count": 18
    }
   ],
   "source": [
    "s.rolling(window=4).apply(ewm_func).head() # 无需对原函数改动"
   ]
  },
  {
   "source": [
    "## 第三章 索引\n",
    "### Ex1：公司员工数据集\n",
    "#### 1."
   ],
   "cell_type": "markdown",
   "metadata": {}
  },
  {
   "cell_type": "code",
   "execution_count": 19,
   "metadata": {},
   "outputs": [
    {
     "output_type": "execute_result",
     "data": {
      "text/plain": [
       "      EmployeeID birthdate_key  age city_name department     job_title gender\n",
       "3611        5791     1/14/1975   40   Kelowna      Dairy  Dairy Person      M\n",
       "3613        5793     1/22/1975   40  Richmond     Bakery         Baker      M\n",
       "3615        5795     1/30/1975   40   Nanaimo      Dairy  Dairy Person      M"
      ],
      "text/html": "<div>\n<style scoped>\n    .dataframe tbody tr th:only-of-type {\n        vertical-align: middle;\n    }\n\n    .dataframe tbody tr th {\n        vertical-align: top;\n    }\n\n    .dataframe thead th {\n        text-align: right;\n    }\n</style>\n<table border=\"1\" class=\"dataframe\">\n  <thead>\n    <tr style=\"text-align: right;\">\n      <th></th>\n      <th>EmployeeID</th>\n      <th>birthdate_key</th>\n      <th>age</th>\n      <th>city_name</th>\n      <th>department</th>\n      <th>job_title</th>\n      <th>gender</th>\n    </tr>\n  </thead>\n  <tbody>\n    <tr>\n      <th>3611</th>\n      <td>5791</td>\n      <td>1/14/1975</td>\n      <td>40</td>\n      <td>Kelowna</td>\n      <td>Dairy</td>\n      <td>Dairy Person</td>\n      <td>M</td>\n    </tr>\n    <tr>\n      <th>3613</th>\n      <td>5793</td>\n      <td>1/22/1975</td>\n      <td>40</td>\n      <td>Richmond</td>\n      <td>Bakery</td>\n      <td>Baker</td>\n      <td>M</td>\n    </tr>\n    <tr>\n      <th>3615</th>\n      <td>5795</td>\n      <td>1/30/1975</td>\n      <td>40</td>\n      <td>Nanaimo</td>\n      <td>Dairy</td>\n      <td>Dairy Person</td>\n      <td>M</td>\n    </tr>\n  </tbody>\n</table>\n</div>"
     },
     "metadata": {},
     "execution_count": 19
    }
   ],
   "source": [
    "df = pd.read_csv('../data/company.csv')\n",
    "dpt = ['Dairy', 'Bakery']\n",
    "df.query(\"(age <= 40)&(department == @dpt)&(gender=='M')\").head(3)"
   ]
  },
  {
   "cell_type": "code",
   "execution_count": 20,
   "metadata": {},
   "outputs": [
    {
     "output_type": "execute_result",
     "data": {
      "text/plain": [
       "      EmployeeID birthdate_key  age city_name department     job_title gender\n",
       "3611        5791     1/14/1975   40   Kelowna      Dairy  Dairy Person      M\n",
       "3613        5793     1/22/1975   40  Richmond     Bakery         Baker      M\n",
       "3615        5795     1/30/1975   40   Nanaimo      Dairy  Dairy Person      M"
      ],
      "text/html": "<div>\n<style scoped>\n    .dataframe tbody tr th:only-of-type {\n        vertical-align: middle;\n    }\n\n    .dataframe tbody tr th {\n        vertical-align: top;\n    }\n\n    .dataframe thead th {\n        text-align: right;\n    }\n</style>\n<table border=\"1\" class=\"dataframe\">\n  <thead>\n    <tr style=\"text-align: right;\">\n      <th></th>\n      <th>EmployeeID</th>\n      <th>birthdate_key</th>\n      <th>age</th>\n      <th>city_name</th>\n      <th>department</th>\n      <th>job_title</th>\n      <th>gender</th>\n    </tr>\n  </thead>\n  <tbody>\n    <tr>\n      <th>3611</th>\n      <td>5791</td>\n      <td>1/14/1975</td>\n      <td>40</td>\n      <td>Kelowna</td>\n      <td>Dairy</td>\n      <td>Dairy Person</td>\n      <td>M</td>\n    </tr>\n    <tr>\n      <th>3613</th>\n      <td>5793</td>\n      <td>1/22/1975</td>\n      <td>40</td>\n      <td>Richmond</td>\n      <td>Bakery</td>\n      <td>Baker</td>\n      <td>M</td>\n    </tr>\n    <tr>\n      <th>3615</th>\n      <td>5795</td>\n      <td>1/30/1975</td>\n      <td>40</td>\n      <td>Nanaimo</td>\n      <td>Dairy</td>\n      <td>Dairy Person</td>\n      <td>M</td>\n    </tr>\n  </tbody>\n</table>\n</div>"
     },
     "metadata": {},
     "execution_count": 20
    }
   ],
   "source": [
    "df.loc[(df.age<=40)&df.department.isin(dpt)&(df.gender=='M')].head(3)"
   ]
  },
  {
   "source": [
    "#### 2."
   ],
   "cell_type": "markdown",
   "metadata": {}
  },
  {
   "cell_type": "code",
   "execution_count": 21,
   "metadata": {},
   "outputs": [
    {
     "output_type": "execute_result",
     "data": {
      "text/plain": [
       "   EmployeeID  age                      job_title\n",
       "1        1319   58                      VP Stores\n",
       "3        1321   56             VP Human Resources\n",
       "5        1323   53      Exec Assistant, VP Stores\n",
       "6        1325   51  Exec Assistant, Legal Counsel\n",
       "8        1329   48                  Store Manager"
      ],
      "text/html": "<div>\n<style scoped>\n    .dataframe tbody tr th:only-of-type {\n        vertical-align: middle;\n    }\n\n    .dataframe tbody tr th {\n        vertical-align: top;\n    }\n\n    .dataframe thead th {\n        text-align: right;\n    }\n</style>\n<table border=\"1\" class=\"dataframe\">\n  <thead>\n    <tr style=\"text-align: right;\">\n      <th></th>\n      <th>EmployeeID</th>\n      <th>age</th>\n      <th>job_title</th>\n    </tr>\n  </thead>\n  <tbody>\n    <tr>\n      <th>1</th>\n      <td>1319</td>\n      <td>58</td>\n      <td>VP Stores</td>\n    </tr>\n    <tr>\n      <th>3</th>\n      <td>1321</td>\n      <td>56</td>\n      <td>VP Human Resources</td>\n    </tr>\n    <tr>\n      <th>5</th>\n      <td>1323</td>\n      <td>53</td>\n      <td>Exec Assistant, VP Stores</td>\n    </tr>\n    <tr>\n      <th>6</th>\n      <td>1325</td>\n      <td>51</td>\n      <td>Exec Assistant, Legal Counsel</td>\n    </tr>\n    <tr>\n      <th>8</th>\n      <td>1329</td>\n      <td>48</td>\n      <td>Store Manager</td>\n    </tr>\n  </tbody>\n</table>\n</div>"
     },
     "metadata": {},
     "execution_count": 21
    }
   ],
   "source": [
    "df.iloc[(df.EmployeeID%2==1).values,[0,2,-2]].head()"
   ]
  },
  {
   "source": [
    "#### 3."
   ],
   "cell_type": "markdown",
   "metadata": {}
  },
  {
   "cell_type": "code",
   "execution_count": 22,
   "metadata": {},
   "outputs": [
    {
     "output_type": "execute_result",
     "data": {
      "text/plain": [
       "True"
      ]
     },
     "metadata": {},
     "execution_count": 22
    }
   ],
   "source": [
    "df_op = df.copy()\n",
    "df_op = df_op.set_index(df_op.columns[-3:].tolist()).swaplevel(0,2,axis=0)\n",
    "df_op = df_op.reset_index(level=1)\n",
    "df_op = df_op.rename_axis(index={'gender':'Gender'})\n",
    "df_op.index = df_op.index.map(lambda x:'_'.join(x))\n",
    "df_op.index = df_op.index.map(lambda x:tuple(x.split('_')))\n",
    "df_op = df_op.rename_axis(index=['gender', 'department'])\n",
    "df_op = df_op.reset_index().reindex(df.columns, axis=1)\n",
    "df_op.equals(df)"
   ]
  },
  {
   "source": [
    "### Ex2：巧克力数据集\n",
    "#### 1."
   ],
   "cell_type": "markdown",
   "metadata": {}
  },
  {
   "cell_type": "code",
   "execution_count": 23,
   "metadata": {},
   "outputs": [
    {
     "output_type": "execute_result",
     "data": {
      "text/plain": [
       "    Company  Review Date Cocoa Percent Company Location  Rating\n",
       "0  A. Morin         2016           63%           France    3.75\n",
       "1  A. Morin         2015           70%           France    2.75\n",
       "2  A. Morin         2015           70%           France    3.00"
      ],
      "text/html": "<div>\n<style scoped>\n    .dataframe tbody tr th:only-of-type {\n        vertical-align: middle;\n    }\n\n    .dataframe tbody tr th {\n        vertical-align: top;\n    }\n\n    .dataframe thead th {\n        text-align: right;\n    }\n</style>\n<table border=\"1\" class=\"dataframe\">\n  <thead>\n    <tr style=\"text-align: right;\">\n      <th></th>\n      <th>Company</th>\n      <th>Review Date</th>\n      <th>Cocoa Percent</th>\n      <th>Company Location</th>\n      <th>Rating</th>\n    </tr>\n  </thead>\n  <tbody>\n    <tr>\n      <th>0</th>\n      <td>A. Morin</td>\n      <td>2016</td>\n      <td>63%</td>\n      <td>France</td>\n      <td>3.75</td>\n    </tr>\n    <tr>\n      <th>1</th>\n      <td>A. Morin</td>\n      <td>2015</td>\n      <td>70%</td>\n      <td>France</td>\n      <td>2.75</td>\n    </tr>\n    <tr>\n      <th>2</th>\n      <td>A. Morin</td>\n      <td>2015</td>\n      <td>70%</td>\n      <td>France</td>\n      <td>3.00</td>\n    </tr>\n  </tbody>\n</table>\n</div>"
     },
     "metadata": {},
     "execution_count": 23
    }
   ],
   "source": [
    "df = pd.read_csv('../data/chocolate.csv')\n",
    "df.columns = [' '.join(i.split('\\n')) for i in df.columns]\n",
    "df.head(3)"
   ]
  },
  {
   "source": [
    "#### 2."
   ],
   "cell_type": "markdown",
   "metadata": {}
  },
  {
   "cell_type": "code",
   "execution_count": 24,
   "metadata": {},
   "outputs": [
    {
     "output_type": "execute_result",
     "data": {
      "text/plain": [
       "               Company  Review Date  Cocoa Percent Company Location  Rating\n",
       "33  Akesson's (Pralus)         2010           0.75      Switzerland    2.75\n",
       "34  Akesson's (Pralus)         2010           0.75      Switzerland    2.75\n",
       "36       Alain Ducasse         2014           0.75           France    2.75"
      ],
      "text/html": "<div>\n<style scoped>\n    .dataframe tbody tr th:only-of-type {\n        vertical-align: middle;\n    }\n\n    .dataframe tbody tr th {\n        vertical-align: top;\n    }\n\n    .dataframe thead th {\n        text-align: right;\n    }\n</style>\n<table border=\"1\" class=\"dataframe\">\n  <thead>\n    <tr style=\"text-align: right;\">\n      <th></th>\n      <th>Company</th>\n      <th>Review Date</th>\n      <th>Cocoa Percent</th>\n      <th>Company Location</th>\n      <th>Rating</th>\n    </tr>\n  </thead>\n  <tbody>\n    <tr>\n      <th>33</th>\n      <td>Akesson's (Pralus)</td>\n      <td>2010</td>\n      <td>0.75</td>\n      <td>Switzerland</td>\n      <td>2.75</td>\n    </tr>\n    <tr>\n      <th>34</th>\n      <td>Akesson's (Pralus)</td>\n      <td>2010</td>\n      <td>0.75</td>\n      <td>Switzerland</td>\n      <td>2.75</td>\n    </tr>\n    <tr>\n      <th>36</th>\n      <td>Alain Ducasse</td>\n      <td>2014</td>\n      <td>0.75</td>\n      <td>France</td>\n      <td>2.75</td>\n    </tr>\n  </tbody>\n</table>\n</div>"
     },
     "metadata": {},
     "execution_count": 24
    }
   ],
   "source": [
    "df['Cocoa Percent'] = df['Cocoa Percent'].apply(lambda x:float(x[:-1])/100)\n",
    "df.query('(Rating<3)&(`Cocoa Percent`>`Cocoa Percent`.median())').head(3)"
   ]
  },
  {
   "source": [
    "#### 3."
   ],
   "cell_type": "markdown",
   "metadata": {}
  },
  {
   "cell_type": "code",
   "execution_count": 25,
   "metadata": {},
   "outputs": [
    {
     "output_type": "execute_result",
     "data": {
      "text/plain": [
       "                                  Company  Cocoa Percent  Rating\n",
       "Review Date Company Location                                    \n",
       "2012        Australia         Bahen & Co.            0.7     3.0\n",
       "            Australia         Bahen & Co.            0.7     2.5\n",
       "            Australia         Bahen & Co.            0.7     2.5"
      ],
      "text/html": "<div>\n<style scoped>\n    .dataframe tbody tr th:only-of-type {\n        vertical-align: middle;\n    }\n\n    .dataframe tbody tr th {\n        vertical-align: top;\n    }\n\n    .dataframe thead th {\n        text-align: right;\n    }\n</style>\n<table border=\"1\" class=\"dataframe\">\n  <thead>\n    <tr style=\"text-align: right;\">\n      <th></th>\n      <th></th>\n      <th>Company</th>\n      <th>Cocoa Percent</th>\n      <th>Rating</th>\n    </tr>\n    <tr>\n      <th>Review Date</th>\n      <th>Company Location</th>\n      <th></th>\n      <th></th>\n      <th></th>\n    </tr>\n  </thead>\n  <tbody>\n    <tr>\n      <th rowspan=\"3\" valign=\"top\">2012</th>\n      <th>Australia</th>\n      <td>Bahen &amp; Co.</td>\n      <td>0.7</td>\n      <td>3.0</td>\n    </tr>\n    <tr>\n      <th>Australia</th>\n      <td>Bahen &amp; Co.</td>\n      <td>0.7</td>\n      <td>2.5</td>\n    </tr>\n    <tr>\n      <th>Australia</th>\n      <td>Bahen &amp; Co.</td>\n      <td>0.7</td>\n      <td>2.5</td>\n    </tr>\n  </tbody>\n</table>\n</div>"
     },
     "metadata": {},
     "execution_count": 25
    }
   ],
   "source": [
    "idx = pd.IndexSlice\n",
    "exclude = ['France', 'Canada', 'Amsterdam', 'Belgium']\n",
    "res = df.set_index(['Review Date', 'Company Location']).sort_index(level=0)\n",
    "res.loc[idx[2012:,~res.index.get_level_values(1).isin(exclude)],:].head(3)"
   ]
  },
  {
   "source": [
    "## 第四章 分组\n",
    "### Ex1：汽车数据集\n",
    "#### 1."
   ],
   "cell_type": "markdown",
   "metadata": {}
  },
  {
   "cell_type": "code",
   "execution_count": 26,
   "metadata": {},
   "outputs": [
    {
     "output_type": "execute_result",
     "data": {
      "text/plain": [
       "                CoV          mean  count\n",
       "Country                                 \n",
       "Japan      0.387429  13938.052632     19\n",
       "Japan/USA  0.240040  10067.571429      7\n",
       "Korea      0.243435   7857.333333      3\n",
       "USA        0.203344  12543.269231     26"
      ],
      "text/html": "<div>\n<style scoped>\n    .dataframe tbody tr th:only-of-type {\n        vertical-align: middle;\n    }\n\n    .dataframe tbody tr th {\n        vertical-align: top;\n    }\n\n    .dataframe thead th {\n        text-align: right;\n    }\n</style>\n<table border=\"1\" class=\"dataframe\">\n  <thead>\n    <tr style=\"text-align: right;\">\n      <th></th>\n      <th>CoV</th>\n      <th>mean</th>\n      <th>count</th>\n    </tr>\n    <tr>\n      <th>Country</th>\n      <th></th>\n      <th></th>\n      <th></th>\n    </tr>\n  </thead>\n  <tbody>\n    <tr>\n      <th>Japan</th>\n      <td>0.387429</td>\n      <td>13938.052632</td>\n      <td>19</td>\n    </tr>\n    <tr>\n      <th>Japan/USA</th>\n      <td>0.240040</td>\n      <td>10067.571429</td>\n      <td>7</td>\n    </tr>\n    <tr>\n      <th>Korea</th>\n      <td>0.243435</td>\n      <td>7857.333333</td>\n      <td>3</td>\n    </tr>\n    <tr>\n      <th>USA</th>\n      <td>0.203344</td>\n      <td>12543.269231</td>\n      <td>26</td>\n    </tr>\n  </tbody>\n</table>\n</div>"
     },
     "metadata": {},
     "execution_count": 26
    }
   ],
   "source": [
    "df = pd.read_csv('../data/car.csv')\n",
    "df.groupby('Country').filter(lambda x:x.shape[0]>2).groupby('Country')['Price'].agg([('CoV', lambda x: x.std()/x.mean()), 'mean', 'count'])"
   ]
  },
  {
   "source": [
    "#### 2."
   ],
   "cell_type": "markdown",
   "metadata": {}
  },
  {
   "cell_type": "code",
   "execution_count": 27,
   "metadata": {},
   "outputs": [
    {
     "output_type": "execute_result",
     "data": {
      "text/plain": [
       "60"
      ]
     },
     "metadata": {},
     "execution_count": 27
    }
   ],
   "source": [
    "df.shape[0]"
   ]
  },
  {
   "cell_type": "code",
   "execution_count": 28,
   "metadata": {},
   "outputs": [
    {
     "output_type": "execute_result",
     "data": {
      "text/plain": [
       "Head     9069.95\n",
       "Mid     13356.40\n",
       "Tail    15420.65\n",
       "Name: Price, dtype: float64"
      ]
     },
     "metadata": {},
     "execution_count": 28
    }
   ],
   "source": [
    "condition = ['Head']*20+['Mid']*20+['Tail']*20\n",
    "df.groupby(condition)['Price'].mean()"
   ]
  },
  {
   "source": [
    "#### 3."
   ],
   "cell_type": "markdown",
   "metadata": {}
  },
  {
   "cell_type": "code",
   "execution_count": 29,
   "metadata": {},
   "outputs": [
    {
     "output_type": "execute_result",
     "data": {
      "text/plain": [
       "         Price_max  HP_min\n",
       "Type                      \n",
       "Compact      18900      95\n",
       "Large        17257     150\n",
       "Medium       24760     110\n",
       "Small         9995      63\n",
       "Sporty       13945      92\n",
       "Van          15395     106"
      ],
      "text/html": "<div>\n<style scoped>\n    .dataframe tbody tr th:only-of-type {\n        vertical-align: middle;\n    }\n\n    .dataframe tbody tr th {\n        vertical-align: top;\n    }\n\n    .dataframe thead th {\n        text-align: right;\n    }\n</style>\n<table border=\"1\" class=\"dataframe\">\n  <thead>\n    <tr style=\"text-align: right;\">\n      <th></th>\n      <th>Price_max</th>\n      <th>HP_min</th>\n    </tr>\n    <tr>\n      <th>Type</th>\n      <th></th>\n      <th></th>\n    </tr>\n  </thead>\n  <tbody>\n    <tr>\n      <th>Compact</th>\n      <td>18900</td>\n      <td>95</td>\n    </tr>\n    <tr>\n      <th>Large</th>\n      <td>17257</td>\n      <td>150</td>\n    </tr>\n    <tr>\n      <th>Medium</th>\n      <td>24760</td>\n      <td>110</td>\n    </tr>\n    <tr>\n      <th>Small</th>\n      <td>9995</td>\n      <td>63</td>\n    </tr>\n    <tr>\n      <th>Sporty</th>\n      <td>13945</td>\n      <td>92</td>\n    </tr>\n    <tr>\n      <th>Van</th>\n      <td>15395</td>\n      <td>106</td>\n    </tr>\n  </tbody>\n</table>\n</div>"
     },
     "metadata": {},
     "execution_count": 29
    }
   ],
   "source": [
    "res = df.groupby('Type').agg({'Price': ['max'], 'HP': ['min']})\n",
    "res.columns = res.columns.map(lambda x:'_'.join(x))\n",
    "res"
   ]
  },
  {
   "source": [
    "#### 4."
   ],
   "cell_type": "markdown",
   "metadata": {}
  },
  {
   "cell_type": "code",
   "execution_count": 30,
   "metadata": {},
   "outputs": [
    {
     "output_type": "execute_result",
     "data": {
      "text/plain": [
       "0    1.00\n",
       "1    0.54\n",
       "2    0.00\n",
       "3    0.58\n",
       "4    0.80\n",
       "Name: HP, dtype: float64"
      ]
     },
     "metadata": {},
     "execution_count": 30
    }
   ],
   "source": [
    "def normalize(s):\n",
    "    s_min, s_max = s.min(), s.max()\n",
    "    res = (s - s_min)/(s_max - s_min)\n",
    "    return res\n",
    "df.groupby('Type')['HP'].transform(normalize).head()"
   ]
  },
  {
   "source": [
    "#### 5."
   ],
   "cell_type": "markdown",
   "metadata": {}
  },
  {
   "cell_type": "code",
   "execution_count": 31,
   "metadata": {},
   "outputs": [
    {
     "output_type": "execute_result",
     "data": {
      "text/plain": [
       "Type\n",
       "Compact    0.586087\n",
       "Large     -0.242765\n",
       "Medium     0.370491\n",
       "Small      0.603916\n",
       "Sporty     0.871426\n",
       "Van        0.819881\n",
       "dtype: float64"
      ]
     },
     "metadata": {},
     "execution_count": 31
    }
   ],
   "source": [
    "df.groupby('Type')[['HP', 'Disp.']].apply(lambda x:np.corrcoef(x['HP'].values, x['Disp.'].values)[0,1])"
   ]
  },
  {
   "source": [
    "### Ex2：实现transform函数"
   ],
   "cell_type": "markdown",
   "metadata": {}
  },
  {
   "cell_type": "code",
   "execution_count": 32,
   "metadata": {},
   "outputs": [
    {
     "output_type": "execute_result",
     "data": {
      "text/plain": [
       "<__main__.my_groupby at 0x20e40b4e448>"
      ]
     },
     "metadata": {},
     "execution_count": 32
    }
   ],
   "source": [
    "class my_groupby:\n",
    "    def __init__(self, my_df, group_cols):\n",
    "        self.my_df = my_df.copy()\n",
    "        self.groups = my_df[group_cols].drop_duplicates()\n",
    "        if isinstance(self.groups, pd.Series):\n",
    "            self.groups = self.groups.to_frame()\n",
    "        self.group_cols = self.groups.columns.tolist()\n",
    "        self.groups = {i: self.groups[i].values.tolist() for i in self.groups.columns}\n",
    "        self.transform_col = None\n",
    "    def __getitem__(self, col):\n",
    "        self.pr_col = [col] if isinstance(col, str) else list(col)\n",
    "        return self\n",
    "    def transform(self, my_func):\n",
    "        self.num = len(self.groups[self.group_cols[0]])\n",
    "        L_order, L_value = np.array([]), np.array([])\n",
    "        for i in range(self.num):\n",
    "            group_df = self.my_df.reset_index().copy()\n",
    "            for col in self.group_cols:\n",
    "                group_df = group_df[group_df[col]==self.groups[col][i]]\n",
    "            group_df = group_df[self.pr_col]\n",
    "            if group_df.shape[1] == 1:\n",
    "                group_df = group_df.iloc[:, 0]\n",
    "            group_res = my_func(group_df)\n",
    "            if not isinstance(group_res, pd.Series):\n",
    "                group_res = pd.Series(group_res,index=group_df.index,name=group_df.name)\n",
    "            L_order = np.r_[L_order, group_res.index]\n",
    "            L_value = np.r_[L_value, group_res.values]\n",
    "        self.res = pd.Series(pd.Series(L_value, index=L_order).sort_index().values,index=self.my_df.reset_index().index, name=my_func.__name__)\n",
    "        return self.res\n",
    "\n",
    "my_groupby(df, 'Type')"
   ]
  },
  {
   "source": [
    "单列分组："
   ],
   "cell_type": "markdown",
   "metadata": {}
  },
  {
   "cell_type": "code",
   "execution_count": 33,
   "metadata": {},
   "outputs": [
    {
     "output_type": "execute_result",
     "data": {
      "text/plain": [
       "0    0.733592\n",
       "1    0.372003\n",
       "2    0.109712\n",
       "3    0.186244\n",
       "4    0.177525\n",
       "Name: f, dtype: float64"
      ]
     },
     "metadata": {},
     "execution_count": 33
    }
   ],
   "source": [
    "def f(s):\n",
    "    res = (s-s.min())/(s.max()-s.min())\n",
    "    return res\n",
    "my_groupby(df, 'Type')['Price'].transform(f).head()"
   ]
  },
  {
   "cell_type": "code",
   "execution_count": 34,
   "metadata": {},
   "outputs": [
    {
     "output_type": "execute_result",
     "data": {
      "text/plain": [
       "0    0.733592\n",
       "1    0.372003\n",
       "2    0.109712\n",
       "3    0.186244\n",
       "4    0.177525\n",
       "Name: Price, dtype: float64"
      ]
     },
     "metadata": {},
     "execution_count": 34
    }
   ],
   "source": [
    "df.groupby('Type')['Price'].transform(f).head()"
   ]
  },
  {
   "source": [
    "多列分组："
   ],
   "cell_type": "markdown",
   "metadata": {}
  },
  {
   "cell_type": "code",
   "execution_count": 35,
   "metadata": {},
   "outputs": [
    {
     "output_type": "execute_result",
     "data": {
      "text/plain": [
       "0    1.000000\n",
       "1    0.000000\n",
       "2    0.000000\n",
       "3    0.000000\n",
       "4    0.196357\n",
       "Name: f, dtype: float64"
      ]
     },
     "metadata": {},
     "execution_count": 35
    }
   ],
   "source": [
    "my_groupby(df, ['Type','Country'])['Price'].transform(f).head()"
   ]
  },
  {
   "cell_type": "code",
   "execution_count": 36,
   "metadata": {},
   "outputs": [
    {
     "output_type": "execute_result",
     "data": {
      "text/plain": [
       "0    1.000000\n",
       "1    0.000000\n",
       "2    0.000000\n",
       "3    0.000000\n",
       "4    0.196357\n",
       "Name: Price, dtype: float64"
      ]
     },
     "metadata": {},
     "execution_count": 36
    }
   ],
   "source": [
    "df.groupby(['Type','Country'])['Price'].transform(f).head()"
   ]
  },
  {
   "source": [
    "标量广播："
   ],
   "cell_type": "markdown",
   "metadata": {}
  },
  {
   "cell_type": "code",
   "execution_count": 37,
   "metadata": {},
   "outputs": [
    {
     "output_type": "execute_result",
     "data": {
      "text/plain": [
       "0    7682.384615\n",
       "1    7682.384615\n",
       "2    7682.384615\n",
       "3    7682.384615\n",
       "4    7682.384615\n",
       "Name: <lambda>, dtype: float64"
      ]
     },
     "metadata": {},
     "execution_count": 37
    }
   ],
   "source": [
    "my_groupby(df, 'Type')['Price'].transform(lambda x:x.mean()).head()"
   ]
  },
  {
   "cell_type": "code",
   "execution_count": 38,
   "metadata": {},
   "outputs": [
    {
     "output_type": "execute_result",
     "data": {
      "text/plain": [
       "0    7682.384615\n",
       "1    7682.384615\n",
       "2    7682.384615\n",
       "3    7682.384615\n",
       "4    7682.384615\n",
       "Name: Price, dtype: float64"
      ]
     },
     "metadata": {},
     "execution_count": 38
    }
   ],
   "source": [
    "df.groupby('Type')['Price'].transform(lambda x:x.mean()).head()"
   ]
  },
  {
   "source": [
    "跨列计算："
   ],
   "cell_type": "markdown",
   "metadata": {}
  },
  {
   "cell_type": "code",
   "execution_count": 39,
   "metadata": {},
   "outputs": [
    {
     "output_type": "execute_result",
     "data": {
      "text/plain": [
       "0    0.858407\n",
       "1    1.266667\n",
       "2    1.285714\n",
       "3    0.989130\n",
       "4    1.097087\n",
       "Name: <lambda>, dtype: float64"
      ]
     },
     "metadata": {},
     "execution_count": 39
    }
   ],
   "source": [
    "my_groupby(df, 'Type')['Disp.', 'HP'].transform(lambda x: x['Disp.']/x.HP).head()"
   ]
  }
 ]
}