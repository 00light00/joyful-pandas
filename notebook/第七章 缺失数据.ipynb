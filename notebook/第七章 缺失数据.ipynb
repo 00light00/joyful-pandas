{
 "cells": [
  {
   "cell_type": "code",
   "execution_count": 2,
   "metadata": {
    "ExecuteTime": {
     "end_time": "2020-10-10T01:51:26.837912Z",
     "start_time": "2020-10-10T01:51:26.216118Z"
    }
   },
   "outputs": [],
   "source": [
    "import numpy as np\n",
    "import pandas as pd"
   ]
  },
  {
   "cell_type": "code",
   "execution_count": 97,
   "metadata": {},
   "outputs": [
    {
     "output_type": "execute_result",
     "data": {
      "text/plain": [
       "      Airport name  Year  January  February  March   April     May    June  \\\n",
       "0           Abakan  2019    44.70     66.21   72.7   75.82  100.34   78.38   \n",
       "1           Aikhal  2019     0.00      0.00    0.0    0.00    0.00    0.00   \n",
       "2             Loss  2019     0.00      0.00    0.0    0.00    0.00    0.00   \n",
       "3          Amderma  2019     0.00      0.00    0.0    0.00    0.00    0.00   \n",
       "4  Anadyr (Carbon)  2019    81.63    143.01  260.9  304.36  122.00  106.87   \n",
       "\n",
       "    July  August  September  October  November  December  Whole year  \\\n",
       "0  63.88   73.06      66.74    75.44     110.5      89.8      917.57   \n",
       "1   0.00    0.00       0.00     0.00       0.0       0.0        0.00   \n",
       "2   0.00    0.00       0.00     0.00       0.0       0.0        0.00   \n",
       "3   0.00    0.00       0.00     0.00       0.0       0.0        0.00   \n",
       "4  84.99  130.00     102.00   118.00      94.0     199.0     1746.76   \n",
       "\n",
       "                             Airport coordinates  \n",
       "0   (Decimal('91.399735'), Decimal('53.751351'))  \n",
       "1  (Decimal('111.543324'), Decimal('65.957161'))  \n",
       "2  (Decimal('125.398355'), Decimal('58.602489'))  \n",
       "3   (Decimal('61.577429'), Decimal('69.759076'))  \n",
       "4  (Decimal('177.738273'), Decimal('64.713433'))  "
      ],
      "text/html": "<div>\n<style scoped>\n    .dataframe tbody tr th:only-of-type {\n        vertical-align: middle;\n    }\n\n    .dataframe tbody tr th {\n        vertical-align: top;\n    }\n\n    .dataframe thead th {\n        text-align: right;\n    }\n</style>\n<table border=\"1\" class=\"dataframe\">\n  <thead>\n    <tr style=\"text-align: right;\">\n      <th></th>\n      <th>Airport name</th>\n      <th>Year</th>\n      <th>January</th>\n      <th>February</th>\n      <th>March</th>\n      <th>April</th>\n      <th>May</th>\n      <th>June</th>\n      <th>July</th>\n      <th>August</th>\n      <th>September</th>\n      <th>October</th>\n      <th>November</th>\n      <th>December</th>\n      <th>Whole year</th>\n      <th>Airport coordinates</th>\n    </tr>\n  </thead>\n  <tbody>\n    <tr>\n      <th>0</th>\n      <td>Abakan</td>\n      <td>2019</td>\n      <td>44.70</td>\n      <td>66.21</td>\n      <td>72.7</td>\n      <td>75.82</td>\n      <td>100.34</td>\n      <td>78.38</td>\n      <td>63.88</td>\n      <td>73.06</td>\n      <td>66.74</td>\n      <td>75.44</td>\n      <td>110.5</td>\n      <td>89.8</td>\n      <td>917.57</td>\n      <td>(Decimal('91.399735'), Decimal('53.751351'))</td>\n    </tr>\n    <tr>\n      <th>1</th>\n      <td>Aikhal</td>\n      <td>2019</td>\n      <td>0.00</td>\n      <td>0.00</td>\n      <td>0.0</td>\n      <td>0.00</td>\n      <td>0.00</td>\n      <td>0.00</td>\n      <td>0.00</td>\n      <td>0.00</td>\n      <td>0.00</td>\n      <td>0.00</td>\n      <td>0.0</td>\n      <td>0.0</td>\n      <td>0.00</td>\n      <td>(Decimal('111.543324'), Decimal('65.957161'))</td>\n    </tr>\n    <tr>\n      <th>2</th>\n      <td>Loss</td>\n      <td>2019</td>\n      <td>0.00</td>\n      <td>0.00</td>\n      <td>0.0</td>\n      <td>0.00</td>\n      <td>0.00</td>\n      <td>0.00</td>\n      <td>0.00</td>\n      <td>0.00</td>\n      <td>0.00</td>\n      <td>0.00</td>\n      <td>0.0</td>\n      <td>0.0</td>\n      <td>0.00</td>\n      <td>(Decimal('125.398355'), Decimal('58.602489'))</td>\n    </tr>\n    <tr>\n      <th>3</th>\n      <td>Amderma</td>\n      <td>2019</td>\n      <td>0.00</td>\n      <td>0.00</td>\n      <td>0.0</td>\n      <td>0.00</td>\n      <td>0.00</td>\n      <td>0.00</td>\n      <td>0.00</td>\n      <td>0.00</td>\n      <td>0.00</td>\n      <td>0.00</td>\n      <td>0.0</td>\n      <td>0.0</td>\n      <td>0.00</td>\n      <td>(Decimal('61.577429'), Decimal('69.759076'))</td>\n    </tr>\n    <tr>\n      <th>4</th>\n      <td>Anadyr (Carbon)</td>\n      <td>2019</td>\n      <td>81.63</td>\n      <td>143.01</td>\n      <td>260.9</td>\n      <td>304.36</td>\n      <td>122.00</td>\n      <td>106.87</td>\n      <td>84.99</td>\n      <td>130.00</td>\n      <td>102.00</td>\n      <td>118.00</td>\n      <td>94.0</td>\n      <td>199.0</td>\n      <td>1746.76</td>\n      <td>(Decimal('177.738273'), Decimal('64.713433'))</td>\n    </tr>\n  </tbody>\n</table>\n</div>"
     },
     "metadata": {},
     "execution_count": 97
    }
   ],
   "source": [
    "df = pd.read_csv('../data/airport.csv')\n",
    "df.head()"
   ]
  },
  {
   "cell_type": "code",
   "execution_count": 113,
   "metadata": {},
   "outputs": [
    {
     "output_type": "execute_result",
     "data": {
      "text/plain": [
       "0       False\n",
       "8       False\n",
       "20      False\n",
       "26      False\n",
       "38      False\n",
       "        ...  \n",
       "3551    False\n",
       "3559    False\n",
       "3569    False\n",
       "3637    False\n",
       "3680    False\n",
       "Length: 345, dtype: bool"
      ]
     },
     "metadata": {},
     "execution_count": 113
    }
   ],
   "source": [
    "temp = df.loc[~(df.iloc[:,2:14].sum(1)==df['Whole year'])]\n",
    "temp.iloc[:,2:14].sum(1)==temp['Whole year']"
   ]
  },
  {
   "cell_type": "code",
   "execution_count": 101,
   "metadata": {},
   "outputs": [
    {
     "output_type": "execute_result",
     "data": {
      "text/plain": [
       "345"
      ]
     },
     "metadata": {},
     "execution_count": 101
    }
   ],
   "source": [
    "(df.iloc[:,2:14].sum(1)!=df['Whole year']).sum()"
   ]
  },
  {
   "cell_type": "code",
   "execution_count": 108,
   "metadata": {},
   "outputs": [
    {
     "output_type": "error",
     "ename": "TypeError",
     "evalue": "ufunc 'invert' not supported for the input types, and the inputs could not be safely coerced to any supported types according to the casting rule ''safe''",
     "traceback": [
      "\u001b[1;31m---------------------------------------------------------------------------\u001b[0m",
      "\u001b[1;31mTypeError\u001b[0m                                 Traceback (most recent call last)",
      "\u001b[1;32m<ipython-input-108-3cdcb5b3139d>\u001b[0m in \u001b[0;36m<module>\u001b[1;34m\u001b[0m\n\u001b[1;32m----> 1\u001b[1;33m \u001b[1;33m(\u001b[0m\u001b[1;33m~\u001b[0m\u001b[0mdf\u001b[0m\u001b[1;33m.\u001b[0m\u001b[0miloc\u001b[0m\u001b[1;33m[\u001b[0m\u001b[1;33m:\u001b[0m\u001b[1;33m,\u001b[0m\u001b[1;36m2\u001b[0m\u001b[1;33m:\u001b[0m\u001b[1;36m14\u001b[0m\u001b[1;33m]\u001b[0m\u001b[1;33m.\u001b[0m\u001b[0msum\u001b[0m\u001b[1;33m(\u001b[0m\u001b[1;36m1\u001b[0m\u001b[1;33m)\u001b[0m\u001b[1;33m==\u001b[0m\u001b[0mdf\u001b[0m\u001b[1;33m[\u001b[0m\u001b[1;34m'Whole year'\u001b[0m\u001b[1;33m]\u001b[0m\u001b[1;33m)\u001b[0m\u001b[1;33m\u001b[0m\u001b[1;33m\u001b[0m\u001b[0m\n\u001b[0m",
      "\u001b[1;32m~\\anaconda3\\envs\\ML\\lib\\site-packages\\pandas\\core\\generic.py\u001b[0m in \u001b[0;36m__invert__\u001b[1;34m(self)\u001b[0m\n\u001b[0;32m   1322\u001b[0m             \u001b[1;32mreturn\u001b[0m \u001b[0mself\u001b[0m\u001b[1;33m\u001b[0m\u001b[1;33m\u001b[0m\u001b[0m\n\u001b[0;32m   1323\u001b[0m \u001b[1;33m\u001b[0m\u001b[0m\n\u001b[1;32m-> 1324\u001b[1;33m         \u001b[0mnew_data\u001b[0m \u001b[1;33m=\u001b[0m \u001b[0mself\u001b[0m\u001b[1;33m.\u001b[0m\u001b[0m_mgr\u001b[0m\u001b[1;33m.\u001b[0m\u001b[0mapply\u001b[0m\u001b[1;33m(\u001b[0m\u001b[0moperator\u001b[0m\u001b[1;33m.\u001b[0m\u001b[0minvert\u001b[0m\u001b[1;33m)\u001b[0m\u001b[1;33m\u001b[0m\u001b[1;33m\u001b[0m\u001b[0m\n\u001b[0m\u001b[0;32m   1325\u001b[0m         \u001b[0mresult\u001b[0m \u001b[1;33m=\u001b[0m \u001b[0mself\u001b[0m\u001b[1;33m.\u001b[0m\u001b[0m_constructor\u001b[0m\u001b[1;33m(\u001b[0m\u001b[0mnew_data\u001b[0m\u001b[1;33m)\u001b[0m\u001b[1;33m.\u001b[0m\u001b[0m__finalize__\u001b[0m\u001b[1;33m(\u001b[0m\u001b[0mself\u001b[0m\u001b[1;33m,\u001b[0m \u001b[0mmethod\u001b[0m\u001b[1;33m=\u001b[0m\u001b[1;34m\"__invert__\"\u001b[0m\u001b[1;33m)\u001b[0m\u001b[1;33m\u001b[0m\u001b[1;33m\u001b[0m\u001b[0m\n\u001b[0;32m   1326\u001b[0m         \u001b[1;32mreturn\u001b[0m \u001b[0mresult\u001b[0m\u001b[1;33m\u001b[0m\u001b[1;33m\u001b[0m\u001b[0m\n",
      "\u001b[1;32m~\\anaconda3\\envs\\ML\\lib\\site-packages\\pandas\\core\\internals\\managers.py\u001b[0m in \u001b[0;36mapply\u001b[1;34m(self, f, align_keys, **kwargs)\u001b[0m\n\u001b[0;32m    402\u001b[0m \u001b[1;33m\u001b[0m\u001b[0m\n\u001b[0;32m    403\u001b[0m             \u001b[1;32mif\u001b[0m \u001b[0mcallable\u001b[0m\u001b[1;33m(\u001b[0m\u001b[0mf\u001b[0m\u001b[1;33m)\u001b[0m\u001b[1;33m:\u001b[0m\u001b[1;33m\u001b[0m\u001b[1;33m\u001b[0m\u001b[0m\n\u001b[1;32m--> 404\u001b[1;33m                 \u001b[0mapplied\u001b[0m \u001b[1;33m=\u001b[0m \u001b[0mb\u001b[0m\u001b[1;33m.\u001b[0m\u001b[0mapply\u001b[0m\u001b[1;33m(\u001b[0m\u001b[0mf\u001b[0m\u001b[1;33m,\u001b[0m \u001b[1;33m**\u001b[0m\u001b[0mkwargs\u001b[0m\u001b[1;33m)\u001b[0m\u001b[1;33m\u001b[0m\u001b[1;33m\u001b[0m\u001b[0m\n\u001b[0m\u001b[0;32m    405\u001b[0m             \u001b[1;32melse\u001b[0m\u001b[1;33m:\u001b[0m\u001b[1;33m\u001b[0m\u001b[1;33m\u001b[0m\u001b[0m\n\u001b[0;32m    406\u001b[0m                 \u001b[0mapplied\u001b[0m \u001b[1;33m=\u001b[0m \u001b[0mgetattr\u001b[0m\u001b[1;33m(\u001b[0m\u001b[0mb\u001b[0m\u001b[1;33m,\u001b[0m \u001b[0mf\u001b[0m\u001b[1;33m)\u001b[0m\u001b[1;33m(\u001b[0m\u001b[1;33m**\u001b[0m\u001b[0mkwargs\u001b[0m\u001b[1;33m)\u001b[0m\u001b[1;33m\u001b[0m\u001b[1;33m\u001b[0m\u001b[0m\n",
      "\u001b[1;32m~\\anaconda3\\envs\\ML\\lib\\site-packages\\pandas\\core\\internals\\blocks.py\u001b[0m in \u001b[0;36mapply\u001b[1;34m(self, func, **kwargs)\u001b[0m\n\u001b[0;32m    344\u001b[0m         \"\"\"\n\u001b[0;32m    345\u001b[0m         \u001b[1;32mwith\u001b[0m \u001b[0mnp\u001b[0m\u001b[1;33m.\u001b[0m\u001b[0merrstate\u001b[0m\u001b[1;33m(\u001b[0m\u001b[0mall\u001b[0m\u001b[1;33m=\u001b[0m\u001b[1;34m\"ignore\"\u001b[0m\u001b[1;33m)\u001b[0m\u001b[1;33m:\u001b[0m\u001b[1;33m\u001b[0m\u001b[1;33m\u001b[0m\u001b[0m\n\u001b[1;32m--> 346\u001b[1;33m             \u001b[0mresult\u001b[0m \u001b[1;33m=\u001b[0m \u001b[0mfunc\u001b[0m\u001b[1;33m(\u001b[0m\u001b[0mself\u001b[0m\u001b[1;33m.\u001b[0m\u001b[0mvalues\u001b[0m\u001b[1;33m,\u001b[0m \u001b[1;33m**\u001b[0m\u001b[0mkwargs\u001b[0m\u001b[1;33m)\u001b[0m\u001b[1;33m\u001b[0m\u001b[1;33m\u001b[0m\u001b[0m\n\u001b[0m\u001b[0;32m    347\u001b[0m \u001b[1;33m\u001b[0m\u001b[0m\n\u001b[0;32m    348\u001b[0m         \u001b[1;32mreturn\u001b[0m \u001b[0mself\u001b[0m\u001b[1;33m.\u001b[0m\u001b[0m_split_op_result\u001b[0m\u001b[1;33m(\u001b[0m\u001b[0mresult\u001b[0m\u001b[1;33m)\u001b[0m\u001b[1;33m\u001b[0m\u001b[1;33m\u001b[0m\u001b[0m\n",
      "\u001b[1;31mTypeError\u001b[0m: ufunc 'invert' not supported for the input types, and the inputs could not be safely coerced to any supported types according to the casting rule ''safe''"
     ]
    }
   ],
   "source": [
    "(~df.iloc[:,2:14].sum(1)==df['Whole year'])"
   ]
  },
  {
   "cell_type": "code",
   "execution_count": 42,
   "metadata": {},
   "outputs": [
    {
     "output_type": "execute_result",
     "data": {
      "text/plain": [
       "ID            0\n",
       "Age           0\n",
       "Employment    0\n",
       "Marital       0\n",
       "Income        0\n",
       "Gender        0\n",
       "Hours         0\n",
       "dtype: int64"
      ]
     },
     "metadata": {},
     "execution_count": 42
    }
   ],
   "source": [
    "from sklearn.neighbors import KNeighborsClassifier, KNeighborsRegressor\n",
    "df = pd.read_csv('../data/audit.csv')\n",
    "res_df = df.copy()\n",
    "df = pd.concat([pd.get_dummies(df[['Marital', 'Gender']]),\n",
    "     df[['Age','Income','Hours']].apply(\n",
    "     lambda x:(x-x.min())/(x.max()-x.min())), df.Employment],1)\n",
    "X_train = df.query('Employment.notna()')\n",
    "X_test = df.query('Employment.isna()')\n",
    "df_dummies = pd.get_dummies(X_train.Employment)\n",
    "stack_list = []\n",
    "for col in df_dummies.columns:\n",
    "    clf = KNeighborsRegressor(n_neighbors=6)\n",
    "    clf.fit(X_train.iloc[:,:-1], df_dummies[col])\n",
    "    res = clf.predict(X_test.iloc[:,:-1]).reshape(-1,1)\n",
    "    stack_list.append(res)\n",
    "code_res = pd.Series(np.hstack(stack_list).argmax(1))\n",
    "cat_res = code_res.replace(dict(zip(list(range(df_dummies.shape[0])),\n",
    "                                               df_dummies.columns)))\n",
    "res_df.loc[res_df.Employment.isna(), 'Employment'] = cat_res.values\n",
    "res_df.isna().sum()"
   ]
  },
  {
   "cell_type": "code",
   "execution_count": 160,
   "metadata": {},
   "outputs": [
    {
     "output_type": "execute_result",
     "data": {
      "text/plain": [
       "X_1    855\n",
       "X_2    894\n",
       "y        0\n",
       "dtype: int64"
      ]
     },
     "metadata": {},
     "execution_count": 160
    }
   ],
   "source": [
    "clf = KNeighborsClassifier(n_neighbors=6)\n",
    "clf.fit(df.iloc[:,:2], df.Color)\n",
    "clf.predict([[0.8, -0.2]])\n",
    "\n",
    "df_dummies = pd.get_dummies(df.Color)\n",
    "stack_list = []\n",
    "for col in df_dummies.columns:\n",
    "    clf = KNeighborsRegressor(n_neighbors=6)\n",
    "    clf.fit(df.iloc[:,:2], df_dummies[col])\n",
    "    res = clf.predict([[0.8, -0.2]]).reshape(-1,1)\n",
    "    stack_list.append(res)\n",
    "code_res = pd.Series(np.hstack(stack_list).argmax(1))\n",
    "df_dummies.columns[code_res[0]]"
   ]
  },
  {
   "cell_type": "code",
   "execution_count": 183,
   "metadata": {},
   "outputs": [
    {
     "output_type": "execute_result",
     "data": {
      "text/plain": [
       "y         0   1   All\n",
       "X_1                  \n",
       "NaN     785  70   855\n",
       "NotNaN  133  12   145\n",
       "All     918  82  1000"
      ],
      "text/html": "<div>\n<style scoped>\n    .dataframe tbody tr th:only-of-type {\n        vertical-align: middle;\n    }\n\n    .dataframe tbody tr th {\n        vertical-align: top;\n    }\n\n    .dataframe thead th {\n        text-align: right;\n    }\n</style>\n<table border=\"1\" class=\"dataframe\">\n  <thead>\n    <tr style=\"text-align: right;\">\n      <th>y</th>\n      <th>0</th>\n      <th>1</th>\n      <th>All</th>\n    </tr>\n    <tr>\n      <th>X_1</th>\n      <th></th>\n      <th></th>\n      <th></th>\n    </tr>\n  </thead>\n  <tbody>\n    <tr>\n      <th>NaN</th>\n      <td>785</td>\n      <td>70</td>\n      <td>855</td>\n    </tr>\n    <tr>\n      <th>NotNaN</th>\n      <td>133</td>\n      <td>12</td>\n      <td>145</td>\n    </tr>\n    <tr>\n      <th>All</th>\n      <td>918</td>\n      <td>82</td>\n      <td>1000</td>\n    </tr>\n  </tbody>\n</table>\n</div>"
     },
     "metadata": {},
     "execution_count": 183
    }
   ],
   "source": [
    "cat_1 = df.X_1.fillna('NaN').mask(df.X_1.notna()).fillna(\"NotNaN\")\n",
    "cat_2 = df.X_2.fillna('NaN').mask(df.X_2.notna()).fillna(\"NotNaN\")\n",
    "pd.crosstab(cat_1, df.y, margins=True)"
   ]
  },
  {
   "cell_type": "code",
   "execution_count": 212,
   "metadata": {},
   "outputs": [
    {
     "output_type": "stream",
     "name": "stdout",
     "text": [
      "784.89\n70.11\n133.11\n11.89\n"
     ]
    },
    {
     "output_type": "execute_result",
     "data": {
      "text/plain": [
       "0.0012965662713972017"
      ]
     },
     "metadata": {},
     "execution_count": 212
    }
   ],
   "source": [
    "def compute_S(my_df):\n",
    "    S = []\n",
    "    for i in range(2):\n",
    "        for j in range(2):\n",
    "            E = my_df.iat[i, j]\n",
    "            F = my_df.iat[i, 2]*my_df.iat[2, j]/my_df.iat[2,2]\n",
    "            S.append((E-F)**2/F)\n",
    "            print(F)\n",
    "    return sum(S)\n",
    "compute_S(pd.crosstab(cat_1, df.y, margins=True))"
   ]
  },
  {
   "cell_type": "code",
   "execution_count": 213,
   "metadata": {},
   "outputs": [
    {
     "output_type": "execute_result",
     "data": {
      "text/plain": [
       "(0.0012965662713972017,\n",
       " 0.9712760884395901,\n",
       " 1,\n",
       " array([[784.89,  70.11],\n",
       "        [133.11,  11.89]]))"
      ]
     },
     "metadata": {},
     "execution_count": 213
    }
   ],
   "source": [
    "chi2_contingency(pd.crosstab(cat_1, df.y), correction=False)"
   ]
  },
  {
   "cell_type": "code",
   "execution_count": 209,
   "metadata": {},
   "outputs": [
    {
     "output_type": "execute_result",
     "data": {
      "text/plain": [
       "0.8979906053616155"
      ]
     },
     "metadata": {},
     "execution_count": 209
    }
   ],
   "source": [
    "from scipy.stats import chi2\n",
    "chi2.sf(0.016435270685762227, 1)"
   ]
  },
  {
   "cell_type": "code",
   "execution_count": null,
   "metadata": {},
   "outputs": [],
   "source": []
  },
  {
   "cell_type": "code",
   "execution_count": 158,
   "metadata": {},
   "outputs": [
    {
     "output_type": "execute_result",
     "data": {
      "text/plain": [
       "((0.016298159494174517,\n",
       "  0.8984146867233628,\n",
       "  1,\n",
       "  array([[133.11,  11.89],\n",
       "         [784.89,  70.11]])),\n",
       " (743.1188624676493,\n",
       "  1.257817888424288e-163,\n",
       "  1,\n",
       "  array([[ 97.308,   8.692],\n",
       "         [820.692,  73.308]])))"
      ]
     },
     "metadata": {},
     "execution_count": 158
    }
   ],
   "source": [
    "df = pd.DataFrame({'X_1':np.random.choice([np.nan,1],1000,p=[0.85,0.15]),\n",
    "                   'y':np.random.choice([0,1],1000,p=[0.9,0.1])})\n",
    "df['X_2'] = [np.random.choice([np.nan,1],p=[0.025,0.975]) if i == 1 else np.random.choice([np.nan,1],p=[0.975,0.025]) for i in df.y]\n",
    "res1 = pd.crosstab(df.X_1.fillna('NaN'), df.y)\n",
    "res2 = pd.crosstab(df.X_2.fillna('NaN'), df.y)\n",
    "chi2_contingency(res1.values), chi2_contingency(res2.values)"
   ]
  },
  {
   "cell_type": "code",
   "execution_count": 159,
   "metadata": {},
   "outputs": [],
   "source": [
    "df.X_1 = (df.X_1 + np.random.rand(1000)*50).round()\n",
    "df.X_2 = (df.X_2 + np.random.rand(1000)*500).round()\n",
    "df[['X_1','X_2','y']].to_csv('../data/missing_chi.csv', index=False)"
   ]
  },
  {
   "cell_type": "code",
   "execution_count": 59,
   "metadata": {},
   "outputs": [
    {
     "output_type": "execute_result",
     "data": {
      "text/plain": [
       "nan"
      ]
     },
     "metadata": {},
     "execution_count": 59
    }
   ],
   "source": [
    "np.random.choice([np.nan,1],p=[0.9,0.1])"
   ]
  },
  {
   "cell_type": "code",
   "execution_count": 14,
   "metadata": {},
   "outputs": [
    {
     "output_type": "execute_result",
     "data": {
      "text/plain": [
       "Datetime\n",
       "2016-09-01 00:00:08     2.58\n",
       "2016-09-01 00:00:08     2.58\n",
       "2016-09-01 00:00:08     2.58\n",
       "2016-09-01 00:00:08     2.58\n",
       "2016-09-01 00:00:08     2.58\n",
       "                       ...  \n",
       "2016-12-31 17:35:01    15.96\n",
       "2016-12-31 17:40:06    11.98\n",
       "2016-12-31 17:45:02     9.33\n",
       "2016-12-31 17:50:01     8.49\n",
       "2016-12-31 17:55:02     5.84\n",
       "Name: Radiation, Length: 32686, dtype: float64"
      ]
     },
     "metadata": {},
     "execution_count": 14
    }
   ],
   "source": [
    "my_dt = df.index.shift(freq='-6H')\n",
    "int_loc = [df.index.get_loc(i, method='nearest') for i in my_dt]\n",
    "res = df.Radiation.iloc[int_loc]\n",
    "res.tail()"
   ]
  },
  {
   "cell_type": "code",
   "execution_count": 286,
   "metadata": {},
   "outputs": [
    {
     "output_type": "execute_result",
     "data": {
      "text/plain": [
       "                        Data      Time  Radiation  Temperature  Pressure  \\\n",
       "0      9/29/2016 12:00:00 AM  23:55:26       1.21           48     30.46   \n",
       "1      9/29/2016 12:00:00 AM  23:50:23       1.21           48     30.46   \n",
       "2      9/29/2016 12:00:00 AM  23:45:26       1.23           48     30.46   \n",
       "3      9/29/2016 12:00:00 AM  23:40:21       1.21           48     30.46   \n",
       "4      9/29/2016 12:00:00 AM  23:35:24       1.17           48     30.46   \n",
       "...                      ...       ...        ...          ...       ...   \n",
       "32681  12/1/2016 12:00:00 AM  00:20:04       1.22           44     30.43   \n",
       "32682  12/1/2016 12:00:00 AM  00:15:01       1.17           44     30.42   \n",
       "32683  12/1/2016 12:00:00 AM  00:10:01       1.20           44     30.42   \n",
       "32684  12/1/2016 12:00:00 AM  00:05:02       1.23           44     30.42   \n",
       "32685  12/1/2016 12:00:00 AM  00:00:02       1.20           44     30.43   \n",
       "\n",
       "       Humidity  WindDirection(Degrees)  Speed TimeSunRise TimeSunSet  \n",
       "0            59                  177.39   5.62    06:13:00   18:13:00  \n",
       "1            58                  176.78   3.37    06:13:00   18:13:00  \n",
       "2            57                  158.75   3.37    06:13:00   18:13:00  \n",
       "3            60                  137.71   3.37    06:13:00   18:13:00  \n",
       "4            62                  104.95   5.62    06:13:00   18:13:00  \n",
       "...         ...                     ...    ...         ...        ...  \n",
       "32681       102                  145.42   6.75    06:41:00   17:42:00  \n",
       "32682       102                  117.78   6.75    06:41:00   17:42:00  \n",
       "32683       102                  145.19   9.00    06:41:00   17:42:00  \n",
       "32684       101                  164.19   7.87    06:41:00   17:42:00  \n",
       "32685       101                   83.59   3.37    06:41:00   17:42:00  \n",
       "\n",
       "[32686 rows x 10 columns]"
      ],
      "text/html": "<div>\n<style scoped>\n    .dataframe tbody tr th:only-of-type {\n        vertical-align: middle;\n    }\n\n    .dataframe tbody tr th {\n        vertical-align: top;\n    }\n\n    .dataframe thead th {\n        text-align: right;\n    }\n</style>\n<table border=\"1\" class=\"dataframe\">\n  <thead>\n    <tr style=\"text-align: right;\">\n      <th></th>\n      <th>Data</th>\n      <th>Time</th>\n      <th>Radiation</th>\n      <th>Temperature</th>\n      <th>Pressure</th>\n      <th>Humidity</th>\n      <th>WindDirection(Degrees)</th>\n      <th>Speed</th>\n      <th>TimeSunRise</th>\n      <th>TimeSunSet</th>\n    </tr>\n  </thead>\n  <tbody>\n    <tr>\n      <th>0</th>\n      <td>9/29/2016 12:00:00 AM</td>\n      <td>23:55:26</td>\n      <td>1.21</td>\n      <td>48</td>\n      <td>30.46</td>\n      <td>59</td>\n      <td>177.39</td>\n      <td>5.62</td>\n      <td>06:13:00</td>\n      <td>18:13:00</td>\n    </tr>\n    <tr>\n      <th>1</th>\n      <td>9/29/2016 12:00:00 AM</td>\n      <td>23:50:23</td>\n      <td>1.21</td>\n      <td>48</td>\n      <td>30.46</td>\n      <td>58</td>\n      <td>176.78</td>\n      <td>3.37</td>\n      <td>06:13:00</td>\n      <td>18:13:00</td>\n    </tr>\n    <tr>\n      <th>2</th>\n      <td>9/29/2016 12:00:00 AM</td>\n      <td>23:45:26</td>\n      <td>1.23</td>\n      <td>48</td>\n      <td>30.46</td>\n      <td>57</td>\n      <td>158.75</td>\n      <td>3.37</td>\n      <td>06:13:00</td>\n      <td>18:13:00</td>\n    </tr>\n    <tr>\n      <th>3</th>\n      <td>9/29/2016 12:00:00 AM</td>\n      <td>23:40:21</td>\n      <td>1.21</td>\n      <td>48</td>\n      <td>30.46</td>\n      <td>60</td>\n      <td>137.71</td>\n      <td>3.37</td>\n      <td>06:13:00</td>\n      <td>18:13:00</td>\n    </tr>\n    <tr>\n      <th>4</th>\n      <td>9/29/2016 12:00:00 AM</td>\n      <td>23:35:24</td>\n      <td>1.17</td>\n      <td>48</td>\n      <td>30.46</td>\n      <td>62</td>\n      <td>104.95</td>\n      <td>5.62</td>\n      <td>06:13:00</td>\n      <td>18:13:00</td>\n    </tr>\n    <tr>\n      <th>...</th>\n      <td>...</td>\n      <td>...</td>\n      <td>...</td>\n      <td>...</td>\n      <td>...</td>\n      <td>...</td>\n      <td>...</td>\n      <td>...</td>\n      <td>...</td>\n      <td>...</td>\n    </tr>\n    <tr>\n      <th>32681</th>\n      <td>12/1/2016 12:00:00 AM</td>\n      <td>00:20:04</td>\n      <td>1.22</td>\n      <td>44</td>\n      <td>30.43</td>\n      <td>102</td>\n      <td>145.42</td>\n      <td>6.75</td>\n      <td>06:41:00</td>\n      <td>17:42:00</td>\n    </tr>\n    <tr>\n      <th>32682</th>\n      <td>12/1/2016 12:00:00 AM</td>\n      <td>00:15:01</td>\n      <td>1.17</td>\n      <td>44</td>\n      <td>30.42</td>\n      <td>102</td>\n      <td>117.78</td>\n      <td>6.75</td>\n      <td>06:41:00</td>\n      <td>17:42:00</td>\n    </tr>\n    <tr>\n      <th>32683</th>\n      <td>12/1/2016 12:00:00 AM</td>\n      <td>00:10:01</td>\n      <td>1.20</td>\n      <td>44</td>\n      <td>30.42</td>\n      <td>102</td>\n      <td>145.19</td>\n      <td>9.00</td>\n      <td>06:41:00</td>\n      <td>17:42:00</td>\n    </tr>\n    <tr>\n      <th>32684</th>\n      <td>12/1/2016 12:00:00 AM</td>\n      <td>00:05:02</td>\n      <td>1.23</td>\n      <td>44</td>\n      <td>30.42</td>\n      <td>101</td>\n      <td>164.19</td>\n      <td>7.87</td>\n      <td>06:41:00</td>\n      <td>17:42:00</td>\n    </tr>\n    <tr>\n      <th>32685</th>\n      <td>12/1/2016 12:00:00 AM</td>\n      <td>00:00:02</td>\n      <td>1.20</td>\n      <td>44</td>\n      <td>30.43</td>\n      <td>101</td>\n      <td>83.59</td>\n      <td>3.37</td>\n      <td>06:41:00</td>\n      <td>17:42:00</td>\n    </tr>\n  </tbody>\n</table>\n<p>32686 rows × 10 columns</p>\n</div>"
     },
     "metadata": {},
     "execution_count": 286
    }
   ],
   "source": [
    "df"
   ]
  },
  {
   "cell_type": "code",
   "execution_count": 282,
   "metadata": {},
   "outputs": [
    {
     "output_type": "execute_result",
     "data": {
      "text/plain": [
       "     B_col0    B_col1    B_col2\n",
       "0  0.533980  0.254652  0.027310\n",
       "1  0.901979  0.245290  0.653917\n",
       "2  0.554849  0.606316  0.717009\n",
       "3  1.010615  0.071547  0.542605\n",
       "4  0.495863  0.330761 -0.093141\n",
       "5  0.809030  0.167784  0.253094\n",
       "6  0.492364  0.493630  0.009426\n",
       "7  0.254669 -0.024399  0.739520\n",
       "8  0.556635  0.845837  0.549250\n",
       "9  0.674067  0.323271  0.736828"
      ],
      "text/html": "<div>\n<style scoped>\n    .dataframe tbody tr th:only-of-type {\n        vertical-align: middle;\n    }\n\n    .dataframe tbody tr th {\n        vertical-align: top;\n    }\n\n    .dataframe thead th {\n        text-align: right;\n    }\n</style>\n<table border=\"1\" class=\"dataframe\">\n  <thead>\n    <tr style=\"text-align: right;\">\n      <th></th>\n      <th>B_col0</th>\n      <th>B_col1</th>\n      <th>B_col2</th>\n    </tr>\n  </thead>\n  <tbody>\n    <tr>\n      <th>0</th>\n      <td>0.533980</td>\n      <td>0.254652</td>\n      <td>0.027310</td>\n    </tr>\n    <tr>\n      <th>1</th>\n      <td>0.901979</td>\n      <td>0.245290</td>\n      <td>0.653917</td>\n    </tr>\n    <tr>\n      <th>2</th>\n      <td>0.554849</td>\n      <td>0.606316</td>\n      <td>0.717009</td>\n    </tr>\n    <tr>\n      <th>3</th>\n      <td>1.010615</td>\n      <td>0.071547</td>\n      <td>0.542605</td>\n    </tr>\n    <tr>\n      <th>4</th>\n      <td>0.495863</td>\n      <td>0.330761</td>\n      <td>-0.093141</td>\n    </tr>\n    <tr>\n      <th>5</th>\n      <td>0.809030</td>\n      <td>0.167784</td>\n      <td>0.253094</td>\n    </tr>\n    <tr>\n      <th>6</th>\n      <td>0.492364</td>\n      <td>0.493630</td>\n      <td>0.009426</td>\n    </tr>\n    <tr>\n      <th>7</th>\n      <td>0.254669</td>\n      <td>-0.024399</td>\n      <td>0.739520</td>\n    </tr>\n    <tr>\n      <th>8</th>\n      <td>0.556635</td>\n      <td>0.845837</td>\n      <td>0.549250</td>\n    </tr>\n    <tr>\n      <th>9</th>\n      <td>0.674067</td>\n      <td>0.323271</td>\n      <td>0.736828</td>\n    </tr>\n  </tbody>\n</table>\n</div>"
     },
     "metadata": {},
     "execution_count": 282
    }
   ],
   "source": [
    "df_A = pd.DataFrame(np.random.rand(10,3), columns=['A_col%d'%i for i in range(3)])\n",
    "df_B = pd.DataFrame(np.random.rand(10,3), columns=['B_col%d'%i for i in range(3)])\n",
    "res = df_A.apply(lambda x:(x.max(), x.min()))\n",
    "dict1 = dict(zip(df_A.columns,res.T.values))\n",
    "dict2 = dict(zip(df_B.columns, df_A.columns))\n",
    "def change(s):\n",
    "    max_v, min_v = dict1[dict2[s.name]]\n",
    "    ans = (s - min_v) / (max_v - min_v)\n",
    "    return ans\n",
    "df_B.apply(change)"
   ]
  },
  {
   "cell_type": "code",
   "execution_count": 174,
   "metadata": {},
   "outputs": [
    {
     "output_type": "execute_result",
     "data": {
      "text/plain": [
       "Month\n",
       "1    59.266667\n",
       "2    56.461538\n",
       "3    54.911111\n",
       "4    56.157895\n",
       "5    55.917808\n",
       "Name: Sale, dtype: float64"
      ]
     },
     "metadata": {},
     "execution_count": 174
    }
   ],
   "source": [
    "target_dt = df.drop_duplicates().groupby(df.Date.drop_duplicates().dt.month)['Date'].nlargest(5).reset_index(drop=True)\n",
    "res = df.set_index('Date').loc[target_dt].reset_index().query(\"Fruit == 'Pear'\")\n",
    "res = res.groupby(res.Date.dt.month)['Sale'].mean().rename_axis('Month')\n",
    "res.head()"
   ]
  },
  {
   "cell_type": "code",
   "execution_count": 183,
   "metadata": {},
   "outputs": [
    {
     "output_type": "execute_result",
     "data": {
      "text/plain": [
       "Date\n",
       "2019-01-31    60.500000\n",
       "2019-02-28    59.538462\n",
       "2019-03-29    56.666667\n",
       "2019-04-30    64.800000\n",
       "2019-05-31    61.600000\n",
       "2019-06-28    67.222222\n",
       "2019-07-31    63.083333\n",
       "2019-08-30    71.714286\n",
       "2019-09-30    78.000000\n",
       "2019-10-31    62.750000\n",
       "2019-11-29    62.789474\n",
       "Name: Sale, dtype: float64"
      ]
     },
     "metadata": {},
     "execution_count": 183
    }
   ],
   "source": [
    "df[df.Date.isin(pd.date_range('20190101', '20191231', freq='BM'))].query(\"Fruit == 'Pear'\").groupby('Date').Sale.mean()"
   ]
  },
  {
   "cell_type": "code",
   "execution_count": 215,
   "metadata": {},
   "outputs": [
    {
     "output_type": "execute_result",
     "data": {
      "text/plain": [
       "Month\n",
       "1    1.174998\n",
       "2    0.968890\n",
       "3    0.951351\n",
       "4    1.020797\n",
       "5    0.931061\n",
       "dtype: float64"
      ]
     },
     "metadata": {},
     "execution_count": 215
    }
   ],
   "source": [
    "df_grape = df.query(\"Fruit == 'Grape'\")\n",
    "res = df_grape.groupby([np.where(df_grape.Date.dt.day<=15,\n",
    "                            'First', 'Second'),df_grape.Date.dt.month]\n",
    "                            )['Sale'].mean().to_frame().unstack(0\n",
    "                            ).droplevel(0,axis=1)\n",
    "res = (res.First/res.Second).rename_axis('Month')\n",
    "res.head()"
   ]
  },
  {
   "cell_type": "code",
   "execution_count": 72,
   "metadata": {},
   "outputs": [
    {
     "output_type": "execute_result",
     "data": {
      "text/plain": [
       "                    Data      Time  Radiation  WindDirection(Degrees)  Speed  \\\n",
       "0  9/29/2016 12:00:00 AM  23:55:26       1.21                  177.39   5.62   \n",
       "1  9/29/2016 12:00:00 AM  23:50:23       1.21                  176.78   3.37   \n",
       "2  9/29/2016 12:00:00 AM  23:45:26       1.23                  158.75   3.37   \n",
       "\n",
       "  TimeSunRise TimeSunSet  \n",
       "0    06:13:00   18:13:00  \n",
       "1    06:13:00   18:13:00  \n",
       "2    06:13:00   18:13:00  "
      ],
      "text/html": "<div>\n<style scoped>\n    .dataframe tbody tr th:only-of-type {\n        vertical-align: middle;\n    }\n\n    .dataframe tbody tr th {\n        vertical-align: top;\n    }\n\n    .dataframe thead th {\n        text-align: right;\n    }\n</style>\n<table border=\"1\" class=\"dataframe\">\n  <thead>\n    <tr style=\"text-align: right;\">\n      <th></th>\n      <th>Data</th>\n      <th>Time</th>\n      <th>Radiation</th>\n      <th>WindDirection(Degrees)</th>\n      <th>Speed</th>\n      <th>TimeSunRise</th>\n      <th>TimeSunSet</th>\n    </tr>\n  </thead>\n  <tbody>\n    <tr>\n      <th>0</th>\n      <td>9/29/2016 12:00:00 AM</td>\n      <td>23:55:26</td>\n      <td>1.21</td>\n      <td>177.39</td>\n      <td>5.62</td>\n      <td>06:13:00</td>\n      <td>18:13:00</td>\n    </tr>\n    <tr>\n      <th>1</th>\n      <td>9/29/2016 12:00:00 AM</td>\n      <td>23:50:23</td>\n      <td>1.21</td>\n      <td>176.78</td>\n      <td>3.37</td>\n      <td>06:13:00</td>\n      <td>18:13:00</td>\n    </tr>\n    <tr>\n      <th>2</th>\n      <td>9/29/2016 12:00:00 AM</td>\n      <td>23:45:26</td>\n      <td>1.23</td>\n      <td>158.75</td>\n      <td>3.37</td>\n      <td>06:13:00</td>\n      <td>18:13:00</td>\n    </tr>\n  </tbody>\n</table>\n</div>"
     },
     "metadata": {},
     "execution_count": 72
    }
   ],
   "source": [
    "df = pd.read_csv('../data/solar.csv', usecols=['Data','Time',\n",
    "                     'Radiation','WindDirection(Degrees)',\n",
    "                     'Speed','TimeSunRise','TimeSunSet'])\n",
    "df.head(3)"
   ]
  },
  {
   "cell_type": "code",
   "execution_count": 74,
   "metadata": {},
   "outputs": [
    {
     "output_type": "execute_result",
     "data": {
      "text/plain": [
       "                     Radiation  WindDirection(Degrees)  Speed  \\\n",
       "Datetime                                                        \n",
       "2016-09-01 00:00:08       2.58                   77.27  11.25   \n",
       "2016-09-01 00:05:10       2.83                  153.44   9.00   \n",
       "2016-09-01 00:20:06       2.16                  142.04   7.87   \n",
       "\n",
       "                            TimeSunRise          TimeSunSet  \n",
       "Datetime                                                     \n",
       "2016-09-01 00:00:08 2016-09-01 06:07:00 2016-09-01 18:38:00  \n",
       "2016-09-01 00:05:10 2016-09-01 06:07:00 2016-09-01 18:38:00  \n",
       "2016-09-01 00:20:06 2016-09-01 06:07:00 2016-09-01 18:38:00  "
      ],
      "text/html": "<div>\n<style scoped>\n    .dataframe tbody tr th:only-of-type {\n        vertical-align: middle;\n    }\n\n    .dataframe tbody tr th {\n        vertical-align: top;\n    }\n\n    .dataframe thead th {\n        text-align: right;\n    }\n</style>\n<table border=\"1\" class=\"dataframe\">\n  <thead>\n    <tr style=\"text-align: right;\">\n      <th></th>\n      <th>Radiation</th>\n      <th>WindDirection(Degrees)</th>\n      <th>Speed</th>\n      <th>TimeSunRise</th>\n      <th>TimeSunSet</th>\n    </tr>\n    <tr>\n      <th>Datetime</th>\n      <th></th>\n      <th></th>\n      <th></th>\n      <th></th>\n      <th></th>\n    </tr>\n  </thead>\n  <tbody>\n    <tr>\n      <th>2016-09-01 00:00:08</th>\n      <td>2.58</td>\n      <td>77.27</td>\n      <td>11.25</td>\n      <td>2016-09-01 06:07:00</td>\n      <td>2016-09-01 18:38:00</td>\n    </tr>\n    <tr>\n      <th>2016-09-01 00:05:10</th>\n      <td>2.83</td>\n      <td>153.44</td>\n      <td>9.00</td>\n      <td>2016-09-01 06:07:00</td>\n      <td>2016-09-01 18:38:00</td>\n    </tr>\n    <tr>\n      <th>2016-09-01 00:20:06</th>\n      <td>2.16</td>\n      <td>142.04</td>\n      <td>7.87</td>\n      <td>2016-09-01 06:07:00</td>\n      <td>2016-09-01 18:38:00</td>\n    </tr>\n  </tbody>\n</table>\n</div>"
     },
     "metadata": {},
     "execution_count": 74
    }
   ],
   "source": [
    "solar_date = df.Data.str.extract('([/|\\w]+\\s).+')[0]\n",
    "df['Data'] = pd.to_datetime(solar_date + df.Time)\n",
    "df['TimeSunRise'] = pd.to_datetime(solar_date + df.TimeSunRise)\n",
    "df['TimeSunSet'] = pd.to_datetime(solar_date + df.TimeSunSet)\n",
    "df = df.drop(columns='Time').rename(columns={'Data':'Datetime'}\n",
    "            ).set_index('Datetime').sort_index()\n",
    "df.head(3)"
   ]
  },
  {
   "cell_type": "code",
   "execution_count": 70,
   "metadata": {},
   "outputs": [
    {
     "output_type": "display_data",
     "data": {
      "text/plain": "<Figure size 432x288 with 1 Axes>",
      "image/svg+xml": "<?xml version=\"1.0\" encoding=\"utf-8\" standalone=\"no\"?>\r\n<!DOCTYPE svg PUBLIC \"-//W3C//DTD SVG 1.1//EN\"\r\n  \"http://www.w3.org/Graphics/SVG/1.1/DTD/svg11.dtd\">\r\n<!-- Created with matplotlib (https://matplotlib.org/) -->\r\n<svg height=\"248.518125pt\" version=\"1.1\" viewBox=\"0 0 381.65 248.518125\" width=\"381.65pt\" xmlns=\"http://www.w3.org/2000/svg\" xmlns:xlink=\"http://www.w3.org/1999/xlink\">\r\n <metadata>\r\n  <rdf:RDF xmlns:cc=\"http://creativecommons.org/ns#\" xmlns:dc=\"http://purl.org/dc/elements/1.1/\" xmlns:rdf=\"http://www.w3.org/1999/02/22-rdf-syntax-ns#\">\r\n   <cc:Work>\r\n    <dc:type rdf:resource=\"http://purl.org/dc/dcmitype/StillImage\"/>\r\n    <dc:date>2020-11-16T11:09:11.963784</dc:date>\r\n    <dc:format>image/svg+xml</dc:format>\r\n    <dc:creator>\r\n     <cc:Agent>\r\n      <dc:title>Matplotlib v3.3.2, https://matplotlib.org/</dc:title>\r\n     </cc:Agent>\r\n    </dc:creator>\r\n   </cc:Work>\r\n  </rdf:RDF>\r\n </metadata>\r\n <defs>\r\n  <style type=\"text/css\">*{stroke-linecap:butt;stroke-linejoin:round;}</style>\r\n </defs>\r\n <g id=\"figure_1\">\r\n  <g id=\"patch_1\">\r\n   <path d=\"M -0 248.518125 \r\nL 381.65 248.518125 \r\nL 381.65 0 \r\nL -0 0 \r\nz\r\n\" style=\"fill:none;\"/>\r\n  </g>\r\n  <g id=\"axes_1\">\r\n   <g id=\"patch_2\">\r\n    <path d=\"M 39.65 224.64 \r\nL 374.45 224.64 \r\nL 374.45 7.2 \r\nL 39.65 7.2 \r\nz\r\n\" style=\"fill:#ffffff;\"/>\r\n   </g>\r\n   <g id=\"patch_3\">\r\n    <path clip-path=\"url(#p30d4f40fa0)\" d=\"M 54.868182 224.64 \r\nL 57.942562 224.64 \r\nL 57.942562 221.464642 \r\nL 54.868182 221.464642 \r\nz\r\n\" style=\"fill:#1f77b4;\"/>\r\n   </g>\r\n   <g id=\"patch_4\">\r\n    <path clip-path=\"url(#p30d4f40fa0)\" d=\"M 61.016942 224.64 \r\nL 64.091322 224.64 \r\nL 64.091322 221.62832 \r\nL 61.016942 221.62832 \r\nz\r\n\" style=\"fill:#1f77b4;\"/>\r\n   </g>\r\n   <g id=\"patch_5\">\r\n    <path clip-path=\"url(#p30d4f40fa0)\" d=\"M 67.165702 224.64 \r\nL 70.240083 224.64 \r\nL 70.240083 220.940872 \r\nL 67.165702 220.940872 \r\nz\r\n\" style=\"fill:#1f77b4;\"/>\r\n   </g>\r\n   <g id=\"patch_6\">\r\n    <path clip-path=\"url(#p30d4f40fa0)\" d=\"M 73.314463 224.64 \r\nL 76.388843 224.64 \r\nL 76.388843 217.012594 \r\nL 73.314463 217.012594 \r\nz\r\n\" style=\"fill:#1f77b4;\"/>\r\n   </g>\r\n   <g id=\"patch_7\">\r\n    <path clip-path=\"url(#p30d4f40fa0)\" d=\"M 79.463223 224.64 \r\nL 82.537603 224.64 \r\nL 82.537603 211.283855 \r\nL 79.463223 211.283855 \r\nz\r\n\" style=\"fill:#1f77b4;\"/>\r\n   </g>\r\n   <g id=\"patch_8\">\r\n    <path clip-path=\"url(#p30d4f40fa0)\" d=\"M 85.611983 224.64 \r\nL 88.686364 224.64 \r\nL 88.686364 216.81618 \r\nL 85.611983 216.81618 \r\nz\r\n\" style=\"fill:#1f77b4;\"/>\r\n   </g>\r\n   <g id=\"patch_9\">\r\n    <path clip-path=\"url(#p30d4f40fa0)\" d=\"M 91.760744 224.64 \r\nL 94.835124 224.64 \r\nL 94.835124 219.205882 \r\nL 91.760744 219.205882 \r\nz\r\n\" style=\"fill:#1f77b4;\"/>\r\n   </g>\r\n   <g id=\"patch_10\">\r\n    <path clip-path=\"url(#p30d4f40fa0)\" d=\"M 97.909504 224.64 \r\nL 100.983884 224.64 \r\nL 100.983884 217.503629 \r\nL 97.909504 217.503629 \r\nz\r\n\" style=\"fill:#1f77b4;\"/>\r\n   </g>\r\n   <g id=\"patch_11\">\r\n    <path clip-path=\"url(#p30d4f40fa0)\" d=\"M 104.058264 224.64 \r\nL 107.132645 224.64 \r\nL 107.132645 211.087441 \r\nL 104.058264 211.087441 \r\nz\r\n\" style=\"fill:#1f77b4;\"/>\r\n   </g>\r\n   <g id=\"patch_12\">\r\n    <path clip-path=\"url(#p30d4f40fa0)\" d=\"M 110.207025 224.64 \r\nL 113.281405 224.64 \r\nL 113.281405 205.096818 \r\nL 110.207025 205.096818 \r\nz\r\n\" style=\"fill:#1f77b4;\"/>\r\n   </g>\r\n   <g id=\"patch_13\">\r\n    <path clip-path=\"url(#p30d4f40fa0)\" d=\"M 116.355785 224.64 \r\nL 119.430165 224.64 \r\nL 119.430165 188.8272 \r\nL 116.355785 188.8272 \r\nz\r\n\" style=\"fill:#1f77b4;\"/>\r\n   </g>\r\n   <g id=\"patch_14\">\r\n    <path clip-path=\"url(#p30d4f40fa0)\" d=\"M 122.504545 224.64 \r\nL 125.578926 224.64 \r\nL 125.578926 155.50231 \r\nL 122.504545 155.50231 \r\nz\r\n\" style=\"fill:#1f77b4;\"/>\r\n   </g>\r\n   <g id=\"patch_15\">\r\n    <path clip-path=\"url(#p30d4f40fa0)\" d=\"M 128.653306 224.64 \r\nL 131.727686 224.64 \r\nL 131.727686 137.072139 \r\nL 128.653306 137.072139 \r\nz\r\n\" style=\"fill:#1f77b4;\"/>\r\n   </g>\r\n   <g id=\"patch_16\">\r\n    <path clip-path=\"url(#p30d4f40fa0)\" d=\"M 134.802066 224.64 \r\nL 137.876446 224.64 \r\nL 137.876446 83.320204 \r\nL 134.802066 83.320204 \r\nz\r\n\" style=\"fill:#1f77b4;\"/>\r\n   </g>\r\n   <g id=\"patch_17\">\r\n    <path clip-path=\"url(#p30d4f40fa0)\" d=\"M 140.950826 224.64 \r\nL 144.025207 224.64 \r\nL 144.025207 17.554286 \r\nL 140.950826 17.554286 \r\nz\r\n\" style=\"fill:#1f77b4;\"/>\r\n   </g>\r\n   <g id=\"patch_18\">\r\n    <path clip-path=\"url(#p30d4f40fa0)\" d=\"M 147.099587 224.64 \r\nL 150.173967 224.64 \r\nL 150.173967 85.120665 \r\nL 147.099587 85.120665 \r\nz\r\n\" style=\"fill:#1f77b4;\"/>\r\n   </g>\r\n   <g id=\"patch_19\">\r\n    <path clip-path=\"url(#p30d4f40fa0)\" d=\"M 153.248347 224.64 \r\nL 156.322727 224.64 \r\nL 156.322727 138.414301 \r\nL 153.248347 138.414301 \r\nz\r\n\" style=\"fill:#1f77b4;\"/>\r\n   </g>\r\n   <g id=\"patch_20\">\r\n    <path clip-path=\"url(#p30d4f40fa0)\" d=\"M 159.397107 224.64 \r\nL 162.471488 224.64 \r\nL 162.471488 156.386172 \r\nL 159.397107 156.386172 \r\nz\r\n\" style=\"fill:#1f77b4;\"/>\r\n   </g>\r\n   <g id=\"patch_21\">\r\n    <path clip-path=\"url(#p30d4f40fa0)\" d=\"M 165.545868 224.64 \r\nL 168.620248 224.64 \r\nL 168.620248 189.383706 \r\nL 165.545868 189.383706 \r\nz\r\n\" style=\"fill:#1f77b4;\"/>\r\n   </g>\r\n   <g id=\"patch_22\">\r\n    <path clip-path=\"url(#p30d4f40fa0)\" d=\"M 171.694628 224.64 \r\nL 174.769008 224.64 \r\nL 174.769008 203.918334 \r\nL 171.694628 203.918334 \r\nz\r\n\" style=\"fill:#1f77b4;\"/>\r\n   </g>\r\n   <g id=\"patch_23\">\r\n    <path clip-path=\"url(#p30d4f40fa0)\" d=\"M 177.843388 224.64 \r\nL 180.917769 224.64 \r\nL 180.917769 210.923763 \r\nL 177.843388 210.923763 \r\nz\r\n\" style=\"fill:#1f77b4;\"/>\r\n   </g>\r\n   <g id=\"patch_24\">\r\n    <path clip-path=\"url(#p30d4f40fa0)\" d=\"M 183.992149 224.64 \r\nL 187.066529 224.64 \r\nL 187.066529 215.83411 \r\nL 183.992149 215.83411 \r\nz\r\n\" style=\"fill:#1f77b4;\"/>\r\n   </g>\r\n   <g id=\"patch_25\">\r\n    <path clip-path=\"url(#p30d4f40fa0)\" d=\"M 190.140909 224.64 \r\nL 193.215289 224.64 \r\nL 193.215289 219.500503 \r\nL 190.140909 219.500503 \r\nz\r\n\" style=\"fill:#1f77b4;\"/>\r\n   </g>\r\n   <g id=\"patch_26\">\r\n    <path clip-path=\"url(#p30d4f40fa0)\" d=\"M 196.289669 224.64 \r\nL 199.36405 224.64 \r\nL 199.36405 216.979858 \r\nL 196.289669 216.979858 \r\nz\r\n\" style=\"fill:#1f77b4;\"/>\r\n   </g>\r\n   <g id=\"patch_27\">\r\n    <path clip-path=\"url(#p30d4f40fa0)\" d=\"M 202.43843 224.64 \r\nL 205.51281 224.64 \r\nL 205.51281 213.084316 \r\nL 202.43843 213.084316 \r\nz\r\n\" style=\"fill:#1f77b4;\"/>\r\n   </g>\r\n   <g id=\"patch_28\">\r\n    <path clip-path=\"url(#p30d4f40fa0)\" d=\"M 208.58719 224.64 \r\nL 211.66157 224.64 \r\nL 211.66157 213.477144 \r\nL 208.58719 213.477144 \r\nz\r\n\" style=\"fill:#1f77b4;\"/>\r\n   </g>\r\n   <g id=\"patch_29\">\r\n    <path clip-path=\"url(#p30d4f40fa0)\" d=\"M 214.73595 224.64 \r\nL 217.810331 224.64 \r\nL 217.810331 221.824734 \r\nL 214.73595 221.824734 \r\nz\r\n\" style=\"fill:#1f77b4;\"/>\r\n   </g>\r\n   <g id=\"patch_30\">\r\n    <path clip-path=\"url(#p30d4f40fa0)\" d=\"M 220.884711 224.64 \r\nL 223.959091 224.64 \r\nL 223.959091 223.068689 \r\nL 220.884711 223.068689 \r\nz\r\n\" style=\"fill:#1f77b4;\"/>\r\n   </g>\r\n   <g id=\"patch_31\">\r\n    <path clip-path=\"url(#p30d4f40fa0)\" d=\"M 227.033471 224.64 \r\nL 230.107851 224.64 \r\nL 230.107851 223.232367 \r\nL 227.033471 223.232367 \r\nz\r\n\" style=\"fill:#1f77b4;\"/>\r\n   </g>\r\n   <g id=\"patch_32\">\r\n    <path clip-path=\"url(#p30d4f40fa0)\" d=\"M 233.182231 224.64 \r\nL 236.256612 224.64 \r\nL 236.256612 222.61039 \r\nL 233.182231 222.61039 \r\nz\r\n\" style=\"fill:#1f77b4;\"/>\r\n   </g>\r\n   <g id=\"patch_33\">\r\n    <path clip-path=\"url(#p30d4f40fa0)\" d=\"M 239.330992 224.64 \r\nL 242.405372 224.64 \r\nL 242.405372 223.494252 \r\nL 239.330992 223.494252 \r\nz\r\n\" style=\"fill:#1f77b4;\"/>\r\n   </g>\r\n   <g id=\"patch_34\">\r\n    <path clip-path=\"url(#p30d4f40fa0)\" d=\"M 245.479752 224.64 \r\nL 248.554132 224.64 \r\nL 248.554132 223.330574 \r\nL 245.479752 223.330574 \r\nz\r\n\" style=\"fill:#1f77b4;\"/>\r\n   </g>\r\n   <g id=\"patch_35\">\r\n    <path clip-path=\"url(#p30d4f40fa0)\" d=\"M 251.628512 224.64 \r\nL 254.702893 224.64 \r\nL 254.702893 223.625195 \r\nL 251.628512 223.625195 \r\nz\r\n\" style=\"fill:#1f77b4;\"/>\r\n   </g>\r\n   <g id=\"patch_36\">\r\n    <path clip-path=\"url(#p30d4f40fa0)\" d=\"M 257.777273 224.64 \r\nL 260.851653 224.64 \r\nL 260.851653 224.050758 \r\nL 257.777273 224.050758 \r\nz\r\n\" style=\"fill:#1f77b4;\"/>\r\n   </g>\r\n   <g id=\"patch_37\">\r\n    <path clip-path=\"url(#p30d4f40fa0)\" d=\"M 263.926033 224.64 \r\nL 267.000413 224.64 \r\nL 267.000413 224.018023 \r\nL 263.926033 224.018023 \r\nz\r\n\" style=\"fill:#1f77b4;\"/>\r\n   </g>\r\n   <g id=\"patch_38\">\r\n    <path clip-path=\"url(#p30d4f40fa0)\" d=\"M 270.074793 224.64 \r\nL 273.149174 224.64 \r\nL 273.149174 224.148965 \r\nL 270.074793 224.148965 \r\nz\r\n\" style=\"fill:#1f77b4;\"/>\r\n   </g>\r\n   <g id=\"patch_39\">\r\n    <path clip-path=\"url(#p30d4f40fa0)\" d=\"M 276.223554 224.64 \r\nL 279.297934 224.64 \r\nL 279.297934 224.214437 \r\nL 276.223554 224.214437 \r\nz\r\n\" style=\"fill:#1f77b4;\"/>\r\n   </g>\r\n   <g id=\"patch_40\">\r\n    <path clip-path=\"url(#p30d4f40fa0)\" d=\"M 282.372314 224.64 \r\nL 285.446694 224.64 \r\nL 285.446694 224.345379 \r\nL 282.372314 224.345379 \r\nz\r\n\" style=\"fill:#1f77b4;\"/>\r\n   </g>\r\n   <g id=\"patch_41\">\r\n    <path clip-path=\"url(#p30d4f40fa0)\" d=\"M 288.521074 224.64 \r\nL 291.595455 224.64 \r\nL 291.595455 224.247172 \r\nL 288.521074 224.247172 \r\nz\r\n\" style=\"fill:#1f77b4;\"/>\r\n   </g>\r\n   <g id=\"patch_42\">\r\n    <path clip-path=\"url(#p30d4f40fa0)\" d=\"M 294.669835 224.64 \r\nL 297.744215 224.64 \r\nL 297.744215 224.378115 \r\nL 294.669835 224.378115 \r\nz\r\n\" style=\"fill:#1f77b4;\"/>\r\n   </g>\r\n   <g id=\"patch_43\">\r\n    <path clip-path=\"url(#p30d4f40fa0)\" d=\"M 300.818595 224.64 \r\nL 303.892975 224.64 \r\nL 303.892975 224.41085 \r\nL 300.818595 224.41085 \r\nz\r\n\" style=\"fill:#1f77b4;\"/>\r\n   </g>\r\n   <g id=\"patch_44\">\r\n    <path clip-path=\"url(#p30d4f40fa0)\" d=\"M 306.967355 224.64 \r\nL 310.041736 224.64 \r\nL 310.041736 224.509057 \r\nL 306.967355 224.509057 \r\nz\r\n\" style=\"fill:#1f77b4;\"/>\r\n   </g>\r\n   <g id=\"patch_45\">\r\n    <path clip-path=\"url(#p30d4f40fa0)\" d=\"M 313.116116 224.64 \r\nL 316.190496 224.64 \r\nL 316.190496 224.541793 \r\nL 313.116116 224.541793 \r\nz\r\n\" style=\"fill:#1f77b4;\"/>\r\n   </g>\r\n   <g id=\"patch_46\">\r\n    <path clip-path=\"url(#p30d4f40fa0)\" d=\"M 319.264876 224.64 \r\nL 322.339256 224.64 \r\nL 322.339256 224.214437 \r\nL 319.264876 224.214437 \r\nz\r\n\" style=\"fill:#1f77b4;\"/>\r\n   </g>\r\n   <g id=\"patch_47\">\r\n    <path clip-path=\"url(#p30d4f40fa0)\" d=\"M 325.413636 224.64 \r\nL 328.488017 224.64 \r\nL 328.488017 224.214437 \r\nL 325.413636 224.214437 \r\nz\r\n\" style=\"fill:#1f77b4;\"/>\r\n   </g>\r\n   <g id=\"patch_48\">\r\n    <path clip-path=\"url(#p30d4f40fa0)\" d=\"M 331.562397 224.64 \r\nL 334.636777 224.64 \r\nL 334.636777 224.574529 \r\nL 331.562397 224.574529 \r\nz\r\n\" style=\"fill:#1f77b4;\"/>\r\n   </g>\r\n   <g id=\"patch_49\">\r\n    <path clip-path=\"url(#p30d4f40fa0)\" d=\"M 337.711157 224.64 \r\nL 340.785537 224.64 \r\nL 340.785537 224.64 \r\nL 337.711157 224.64 \r\nz\r\n\" style=\"fill:#1f77b4;\"/>\r\n   </g>\r\n   <g id=\"patch_50\">\r\n    <path clip-path=\"url(#p30d4f40fa0)\" d=\"M 343.859917 224.64 \r\nL 346.934298 224.64 \r\nL 346.934298 224.607264 \r\nL 343.859917 224.607264 \r\nz\r\n\" style=\"fill:#1f77b4;\"/>\r\n   </g>\r\n   <g id=\"patch_51\">\r\n    <path clip-path=\"url(#p30d4f40fa0)\" d=\"M 350.008678 224.64 \r\nL 353.083058 224.64 \r\nL 353.083058 224.607264 \r\nL 350.008678 224.607264 \r\nz\r\n\" style=\"fill:#1f77b4;\"/>\r\n   </g>\r\n   <g id=\"patch_52\">\r\n    <path clip-path=\"url(#p30d4f40fa0)\" d=\"M 356.157438 224.64 \r\nL 359.231818 224.64 \r\nL 359.231818 224.509057 \r\nL 356.157438 224.509057 \r\nz\r\n\" style=\"fill:#1f77b4;\"/>\r\n   </g>\r\n   <g id=\"matplotlib.axis_1\">\r\n    <g id=\"xtick_1\">\r\n     <g id=\"line2d_1\">\r\n      <path clip-path=\"url(#p30d4f40fa0)\" d=\"M 82.892339 224.64 \r\nL 82.892339 7.2 \r\n\" style=\"fill:none;stroke:#b0b0b0;stroke-linecap:square;stroke-width:0.8;\"/>\r\n     </g>\r\n     <g id=\"line2d_2\">\r\n      <defs>\r\n       <path d=\"M 0 0 \r\nL 0 3.5 \r\n\" id=\"mf5e5c413ad\" style=\"stroke:#000000;stroke-width:0.8;\"/>\r\n      </defs>\r\n      <g>\r\n       <use style=\"stroke:#000000;stroke-width:0.8;\" x=\"82.892339\" xlink:href=\"#mf5e5c413ad\" y=\"224.64\"/>\r\n      </g>\r\n     </g>\r\n     <g id=\"text_1\">\r\n      <!-- 290 -->\r\n      <g transform=\"translate(73.348589 239.238437)scale(0.1 -0.1)\">\r\n       <defs>\r\n        <path d=\"M 19.1875 8.296875 \r\nL 53.609375 8.296875 \r\nL 53.609375 0 \r\nL 7.328125 0 \r\nL 7.328125 8.296875 \r\nQ 12.9375 14.109375 22.625 23.890625 \r\nQ 32.328125 33.6875 34.8125 36.53125 \r\nQ 39.546875 41.84375 41.421875 45.53125 \r\nQ 43.3125 49.21875 43.3125 52.78125 \r\nQ 43.3125 58.59375 39.234375 62.25 \r\nQ 35.15625 65.921875 28.609375 65.921875 \r\nQ 23.96875 65.921875 18.8125 64.3125 \r\nQ 13.671875 62.703125 7.8125 59.421875 \r\nL 7.8125 69.390625 \r\nQ 13.765625 71.78125 18.9375 73 \r\nQ 24.125 74.21875 28.421875 74.21875 \r\nQ 39.75 74.21875 46.484375 68.546875 \r\nQ 53.21875 62.890625 53.21875 53.421875 \r\nQ 53.21875 48.921875 51.53125 44.890625 \r\nQ 49.859375 40.875 45.40625 35.40625 \r\nQ 44.1875 33.984375 37.640625 27.21875 \r\nQ 31.109375 20.453125 19.1875 8.296875 \r\nz\r\n\" id=\"DejaVuSans-50\"/>\r\n        <path d=\"M 10.984375 1.515625 \r\nL 10.984375 10.5 \r\nQ 14.703125 8.734375 18.5 7.8125 \r\nQ 22.3125 6.890625 25.984375 6.890625 \r\nQ 35.75 6.890625 40.890625 13.453125 \r\nQ 46.046875 20.015625 46.78125 33.40625 \r\nQ 43.953125 29.203125 39.59375 26.953125 \r\nQ 35.25 24.703125 29.984375 24.703125 \r\nQ 19.046875 24.703125 12.671875 31.3125 \r\nQ 6.296875 37.9375 6.296875 49.421875 \r\nQ 6.296875 60.640625 12.9375 67.421875 \r\nQ 19.578125 74.21875 30.609375 74.21875 \r\nQ 43.265625 74.21875 49.921875 64.515625 \r\nQ 56.59375 54.828125 56.59375 36.375 \r\nQ 56.59375 19.140625 48.40625 8.859375 \r\nQ 40.234375 -1.421875 26.421875 -1.421875 \r\nQ 22.703125 -1.421875 18.890625 -0.6875 \r\nQ 15.09375 0.046875 10.984375 1.515625 \r\nz\r\nM 30.609375 32.421875 \r\nQ 37.25 32.421875 41.125 36.953125 \r\nQ 45.015625 41.5 45.015625 49.421875 \r\nQ 45.015625 57.28125 41.125 61.84375 \r\nQ 37.25 66.40625 30.609375 66.40625 \r\nQ 23.96875 66.40625 20.09375 61.84375 \r\nQ 16.21875 57.28125 16.21875 49.421875 \r\nQ 16.21875 41.5 20.09375 36.953125 \r\nQ 23.96875 32.421875 30.609375 32.421875 \r\nz\r\n\" id=\"DejaVuSans-57\"/>\r\n        <path d=\"M 31.78125 66.40625 \r\nQ 24.171875 66.40625 20.328125 58.90625 \r\nQ 16.5 51.421875 16.5 36.375 \r\nQ 16.5 21.390625 20.328125 13.890625 \r\nQ 24.171875 6.390625 31.78125 6.390625 \r\nQ 39.453125 6.390625 43.28125 13.890625 \r\nQ 47.125 21.390625 47.125 36.375 \r\nQ 47.125 51.421875 43.28125 58.90625 \r\nQ 39.453125 66.40625 31.78125 66.40625 \r\nz\r\nM 31.78125 74.21875 \r\nQ 44.046875 74.21875 50.515625 64.515625 \r\nQ 56.984375 54.828125 56.984375 36.375 \r\nQ 56.984375 17.96875 50.515625 8.265625 \r\nQ 44.046875 -1.421875 31.78125 -1.421875 \r\nQ 19.53125 -1.421875 13.0625 8.265625 \r\nQ 6.59375 17.96875 6.59375 36.375 \r\nQ 6.59375 54.828125 13.0625 64.515625 \r\nQ 19.53125 74.21875 31.78125 74.21875 \r\nz\r\n\" id=\"DejaVuSans-48\"/>\r\n       </defs>\r\n       <use xlink:href=\"#DejaVuSans-50\"/>\r\n       <use x=\"63.623047\" xlink:href=\"#DejaVuSans-57\"/>\r\n       <use x=\"127.246094\" xlink:href=\"#DejaVuSans-48\"/>\r\n      </g>\r\n     </g>\r\n    </g>\r\n    <g id=\"xtick_2\">\r\n     <g id=\"line2d_3\">\r\n      <path clip-path=\"url(#p30d4f40fa0)\" d=\"M 142.015035 224.64 \r\nL 142.015035 7.2 \r\n\" style=\"fill:none;stroke:#b0b0b0;stroke-linecap:square;stroke-width:0.8;\"/>\r\n     </g>\r\n     <g id=\"line2d_4\">\r\n      <g>\r\n       <use style=\"stroke:#000000;stroke-width:0.8;\" x=\"142.015035\" xlink:href=\"#mf5e5c413ad\" y=\"224.64\"/>\r\n      </g>\r\n     </g>\r\n     <g id=\"text_2\">\r\n      <!-- 300 -->\r\n      <g transform=\"translate(132.471285 239.238437)scale(0.1 -0.1)\">\r\n       <defs>\r\n        <path d=\"M 40.578125 39.3125 \r\nQ 47.65625 37.796875 51.625 33 \r\nQ 55.609375 28.21875 55.609375 21.1875 \r\nQ 55.609375 10.40625 48.1875 4.484375 \r\nQ 40.765625 -1.421875 27.09375 -1.421875 \r\nQ 22.515625 -1.421875 17.65625 -0.515625 \r\nQ 12.796875 0.390625 7.625 2.203125 \r\nL 7.625 11.71875 \r\nQ 11.71875 9.328125 16.59375 8.109375 \r\nQ 21.484375 6.890625 26.8125 6.890625 \r\nQ 36.078125 6.890625 40.9375 10.546875 \r\nQ 45.796875 14.203125 45.796875 21.1875 \r\nQ 45.796875 27.640625 41.28125 31.265625 \r\nQ 36.765625 34.90625 28.71875 34.90625 \r\nL 20.21875 34.90625 \r\nL 20.21875 43.015625 \r\nL 29.109375 43.015625 \r\nQ 36.375 43.015625 40.234375 45.921875 \r\nQ 44.09375 48.828125 44.09375 54.296875 \r\nQ 44.09375 59.90625 40.109375 62.90625 \r\nQ 36.140625 65.921875 28.71875 65.921875 \r\nQ 24.65625 65.921875 20.015625 65.03125 \r\nQ 15.375 64.15625 9.8125 62.3125 \r\nL 9.8125 71.09375 \r\nQ 15.4375 72.65625 20.34375 73.4375 \r\nQ 25.25 74.21875 29.59375 74.21875 \r\nQ 40.828125 74.21875 47.359375 69.109375 \r\nQ 53.90625 64.015625 53.90625 55.328125 \r\nQ 53.90625 49.265625 50.4375 45.09375 \r\nQ 46.96875 40.921875 40.578125 39.3125 \r\nz\r\n\" id=\"DejaVuSans-51\"/>\r\n       </defs>\r\n       <use xlink:href=\"#DejaVuSans-51\"/>\r\n       <use x=\"63.623047\" xlink:href=\"#DejaVuSans-48\"/>\r\n       <use x=\"127.246094\" xlink:href=\"#DejaVuSans-48\"/>\r\n      </g>\r\n     </g>\r\n    </g>\r\n    <g id=\"xtick_3\">\r\n     <g id=\"line2d_5\">\r\n      <path clip-path=\"url(#p30d4f40fa0)\" d=\"M 201.13773 224.64 \r\nL 201.13773 7.2 \r\n\" style=\"fill:none;stroke:#b0b0b0;stroke-linecap:square;stroke-width:0.8;\"/>\r\n     </g>\r\n     <g id=\"line2d_6\">\r\n      <g>\r\n       <use style=\"stroke:#000000;stroke-width:0.8;\" x=\"201.13773\" xlink:href=\"#mf5e5c413ad\" y=\"224.64\"/>\r\n      </g>\r\n     </g>\r\n     <g id=\"text_3\">\r\n      <!-- 310 -->\r\n      <g transform=\"translate(191.59398 239.238437)scale(0.1 -0.1)\">\r\n       <defs>\r\n        <path d=\"M 12.40625 8.296875 \r\nL 28.515625 8.296875 \r\nL 28.515625 63.921875 \r\nL 10.984375 60.40625 \r\nL 10.984375 69.390625 \r\nL 28.421875 72.90625 \r\nL 38.28125 72.90625 \r\nL 38.28125 8.296875 \r\nL 54.390625 8.296875 \r\nL 54.390625 0 \r\nL 12.40625 0 \r\nz\r\n\" id=\"DejaVuSans-49\"/>\r\n       </defs>\r\n       <use xlink:href=\"#DejaVuSans-51\"/>\r\n       <use x=\"63.623047\" xlink:href=\"#DejaVuSans-49\"/>\r\n       <use x=\"127.246094\" xlink:href=\"#DejaVuSans-48\"/>\r\n      </g>\r\n     </g>\r\n    </g>\r\n    <g id=\"xtick_4\">\r\n     <g id=\"line2d_7\">\r\n      <path clip-path=\"url(#p30d4f40fa0)\" d=\"M 260.260426 224.64 \r\nL 260.260426 7.2 \r\n\" style=\"fill:none;stroke:#b0b0b0;stroke-linecap:square;stroke-width:0.8;\"/>\r\n     </g>\r\n     <g id=\"line2d_8\">\r\n      <g>\r\n       <use style=\"stroke:#000000;stroke-width:0.8;\" x=\"260.260426\" xlink:href=\"#mf5e5c413ad\" y=\"224.64\"/>\r\n      </g>\r\n     </g>\r\n     <g id=\"text_4\">\r\n      <!-- 320 -->\r\n      <g transform=\"translate(250.716676 239.238437)scale(0.1 -0.1)\">\r\n       <use xlink:href=\"#DejaVuSans-51\"/>\r\n       <use x=\"63.623047\" xlink:href=\"#DejaVuSans-50\"/>\r\n       <use x=\"127.246094\" xlink:href=\"#DejaVuSans-48\"/>\r\n      </g>\r\n     </g>\r\n    </g>\r\n    <g id=\"xtick_5\">\r\n     <g id=\"line2d_9\">\r\n      <path clip-path=\"url(#p30d4f40fa0)\" d=\"M 319.383121 224.64 \r\nL 319.383121 7.2 \r\n\" style=\"fill:none;stroke:#b0b0b0;stroke-linecap:square;stroke-width:0.8;\"/>\r\n     </g>\r\n     <g id=\"line2d_10\">\r\n      <g>\r\n       <use style=\"stroke:#000000;stroke-width:0.8;\" x=\"319.383121\" xlink:href=\"#mf5e5c413ad\" y=\"224.64\"/>\r\n      </g>\r\n     </g>\r\n     <g id=\"text_5\">\r\n      <!-- 330 -->\r\n      <g transform=\"translate(309.839371 239.238437)scale(0.1 -0.1)\">\r\n       <use xlink:href=\"#DejaVuSans-51\"/>\r\n       <use x=\"63.623047\" xlink:href=\"#DejaVuSans-51\"/>\r\n       <use x=\"127.246094\" xlink:href=\"#DejaVuSans-48\"/>\r\n      </g>\r\n     </g>\r\n    </g>\r\n   </g>\r\n   <g id=\"matplotlib.axis_2\">\r\n    <g id=\"ytick_1\">\r\n     <g id=\"line2d_11\">\r\n      <path clip-path=\"url(#p30d4f40fa0)\" d=\"M 39.65 224.64 \r\nL 374.45 224.64 \r\n\" style=\"fill:none;stroke:#b0b0b0;stroke-linecap:square;stroke-width:0.8;\"/>\r\n     </g>\r\n     <g id=\"line2d_12\">\r\n      <defs>\r\n       <path d=\"M 0 0 \r\nL -3.5 0 \r\n\" id=\"m4199f5924e\" style=\"stroke:#000000;stroke-width:0.8;\"/>\r\n      </defs>\r\n      <g>\r\n       <use style=\"stroke:#000000;stroke-width:0.8;\" x=\"39.65\" xlink:href=\"#m4199f5924e\" y=\"224.64\"/>\r\n      </g>\r\n     </g>\r\n     <g id=\"text_6\">\r\n      <!-- 0 -->\r\n      <g transform=\"translate(26.2875 228.439219)scale(0.1 -0.1)\">\r\n       <use xlink:href=\"#DejaVuSans-48\"/>\r\n      </g>\r\n     </g>\r\n    </g>\r\n    <g id=\"ytick_2\">\r\n     <g id=\"line2d_13\">\r\n      <path clip-path=\"url(#p30d4f40fa0)\" d=\"M 39.65 191.904351 \r\nL 374.45 191.904351 \r\n\" style=\"fill:none;stroke:#b0b0b0;stroke-linecap:square;stroke-width:0.8;\"/>\r\n     </g>\r\n     <g id=\"line2d_14\">\r\n      <g>\r\n       <use style=\"stroke:#000000;stroke-width:0.8;\" x=\"39.65\" xlink:href=\"#m4199f5924e\" y=\"191.904351\"/>\r\n      </g>\r\n     </g>\r\n     <g id=\"text_7\">\r\n      <!-- 1000 -->\r\n      <g transform=\"translate(7.2 195.70357)scale(0.1 -0.1)\">\r\n       <use xlink:href=\"#DejaVuSans-49\"/>\r\n       <use x=\"63.623047\" xlink:href=\"#DejaVuSans-48\"/>\r\n       <use x=\"127.246094\" xlink:href=\"#DejaVuSans-48\"/>\r\n       <use x=\"190.869141\" xlink:href=\"#DejaVuSans-48\"/>\r\n      </g>\r\n     </g>\r\n    </g>\r\n    <g id=\"ytick_3\">\r\n     <g id=\"line2d_15\">\r\n      <path clip-path=\"url(#p30d4f40fa0)\" d=\"M 39.65 159.168702 \r\nL 374.45 159.168702 \r\n\" style=\"fill:none;stroke:#b0b0b0;stroke-linecap:square;stroke-width:0.8;\"/>\r\n     </g>\r\n     <g id=\"line2d_16\">\r\n      <g>\r\n       <use style=\"stroke:#000000;stroke-width:0.8;\" x=\"39.65\" xlink:href=\"#m4199f5924e\" y=\"159.168702\"/>\r\n      </g>\r\n     </g>\r\n     <g id=\"text_8\">\r\n      <!-- 2000 -->\r\n      <g transform=\"translate(7.2 162.967921)scale(0.1 -0.1)\">\r\n       <use xlink:href=\"#DejaVuSans-50\"/>\r\n       <use x=\"63.623047\" xlink:href=\"#DejaVuSans-48\"/>\r\n       <use x=\"127.246094\" xlink:href=\"#DejaVuSans-48\"/>\r\n       <use x=\"190.869141\" xlink:href=\"#DejaVuSans-48\"/>\r\n      </g>\r\n     </g>\r\n    </g>\r\n    <g id=\"ytick_4\">\r\n     <g id=\"line2d_17\">\r\n      <path clip-path=\"url(#p30d4f40fa0)\" d=\"M 39.65 126.433054 \r\nL 374.45 126.433054 \r\n\" style=\"fill:none;stroke:#b0b0b0;stroke-linecap:square;stroke-width:0.8;\"/>\r\n     </g>\r\n     <g id=\"line2d_18\">\r\n      <g>\r\n       <use style=\"stroke:#000000;stroke-width:0.8;\" x=\"39.65\" xlink:href=\"#m4199f5924e\" y=\"126.433054\"/>\r\n      </g>\r\n     </g>\r\n     <g id=\"text_9\">\r\n      <!-- 3000 -->\r\n      <g transform=\"translate(7.2 130.232272)scale(0.1 -0.1)\">\r\n       <use xlink:href=\"#DejaVuSans-51\"/>\r\n       <use x=\"63.623047\" xlink:href=\"#DejaVuSans-48\"/>\r\n       <use x=\"127.246094\" xlink:href=\"#DejaVuSans-48\"/>\r\n       <use x=\"190.869141\" xlink:href=\"#DejaVuSans-48\"/>\r\n      </g>\r\n     </g>\r\n    </g>\r\n    <g id=\"ytick_5\">\r\n     <g id=\"line2d_19\">\r\n      <path clip-path=\"url(#p30d4f40fa0)\" d=\"M 39.65 93.697405 \r\nL 374.45 93.697405 \r\n\" style=\"fill:none;stroke:#b0b0b0;stroke-linecap:square;stroke-width:0.8;\"/>\r\n     </g>\r\n     <g id=\"line2d_20\">\r\n      <g>\r\n       <use style=\"stroke:#000000;stroke-width:0.8;\" x=\"39.65\" xlink:href=\"#m4199f5924e\" y=\"93.697405\"/>\r\n      </g>\r\n     </g>\r\n     <g id=\"text_10\">\r\n      <!-- 4000 -->\r\n      <g transform=\"translate(7.2 97.496624)scale(0.1 -0.1)\">\r\n       <defs>\r\n        <path d=\"M 37.796875 64.3125 \r\nL 12.890625 25.390625 \r\nL 37.796875 25.390625 \r\nz\r\nM 35.203125 72.90625 \r\nL 47.609375 72.90625 \r\nL 47.609375 25.390625 \r\nL 58.015625 25.390625 \r\nL 58.015625 17.1875 \r\nL 47.609375 17.1875 \r\nL 47.609375 0 \r\nL 37.796875 0 \r\nL 37.796875 17.1875 \r\nL 4.890625 17.1875 \r\nL 4.890625 26.703125 \r\nz\r\n\" id=\"DejaVuSans-52\"/>\r\n       </defs>\r\n       <use xlink:href=\"#DejaVuSans-52\"/>\r\n       <use x=\"63.623047\" xlink:href=\"#DejaVuSans-48\"/>\r\n       <use x=\"127.246094\" xlink:href=\"#DejaVuSans-48\"/>\r\n       <use x=\"190.869141\" xlink:href=\"#DejaVuSans-48\"/>\r\n      </g>\r\n     </g>\r\n    </g>\r\n    <g id=\"ytick_6\">\r\n     <g id=\"line2d_21\">\r\n      <path clip-path=\"url(#p30d4f40fa0)\" d=\"M 39.65 60.961756 \r\nL 374.45 60.961756 \r\n\" style=\"fill:none;stroke:#b0b0b0;stroke-linecap:square;stroke-width:0.8;\"/>\r\n     </g>\r\n     <g id=\"line2d_22\">\r\n      <g>\r\n       <use style=\"stroke:#000000;stroke-width:0.8;\" x=\"39.65\" xlink:href=\"#m4199f5924e\" y=\"60.961756\"/>\r\n      </g>\r\n     </g>\r\n     <g id=\"text_11\">\r\n      <!-- 5000 -->\r\n      <g transform=\"translate(7.2 64.760975)scale(0.1 -0.1)\">\r\n       <defs>\r\n        <path d=\"M 10.796875 72.90625 \r\nL 49.515625 72.90625 \r\nL 49.515625 64.59375 \r\nL 19.828125 64.59375 \r\nL 19.828125 46.734375 \r\nQ 21.96875 47.46875 24.109375 47.828125 \r\nQ 26.265625 48.1875 28.421875 48.1875 \r\nQ 40.625 48.1875 47.75 41.5 \r\nQ 54.890625 34.8125 54.890625 23.390625 \r\nQ 54.890625 11.625 47.5625 5.09375 \r\nQ 40.234375 -1.421875 26.90625 -1.421875 \r\nQ 22.3125 -1.421875 17.546875 -0.640625 \r\nQ 12.796875 0.140625 7.71875 1.703125 \r\nL 7.71875 11.625 \r\nQ 12.109375 9.234375 16.796875 8.0625 \r\nQ 21.484375 6.890625 26.703125 6.890625 \r\nQ 35.15625 6.890625 40.078125 11.328125 \r\nQ 45.015625 15.765625 45.015625 23.390625 \r\nQ 45.015625 31 40.078125 35.4375 \r\nQ 35.15625 39.890625 26.703125 39.890625 \r\nQ 22.75 39.890625 18.8125 39.015625 \r\nQ 14.890625 38.140625 10.796875 36.28125 \r\nz\r\n\" id=\"DejaVuSans-53\"/>\r\n       </defs>\r\n       <use xlink:href=\"#DejaVuSans-53\"/>\r\n       <use x=\"63.623047\" xlink:href=\"#DejaVuSans-48\"/>\r\n       <use x=\"127.246094\" xlink:href=\"#DejaVuSans-48\"/>\r\n       <use x=\"190.869141\" xlink:href=\"#DejaVuSans-48\"/>\r\n      </g>\r\n     </g>\r\n    </g>\r\n    <g id=\"ytick_7\">\r\n     <g id=\"line2d_23\">\r\n      <path clip-path=\"url(#p30d4f40fa0)\" d=\"M 39.65 28.226107 \r\nL 374.45 28.226107 \r\n\" style=\"fill:none;stroke:#b0b0b0;stroke-linecap:square;stroke-width:0.8;\"/>\r\n     </g>\r\n     <g id=\"line2d_24\">\r\n      <g>\r\n       <use style=\"stroke:#000000;stroke-width:0.8;\" x=\"39.65\" xlink:href=\"#m4199f5924e\" y=\"28.226107\"/>\r\n      </g>\r\n     </g>\r\n     <g id=\"text_12\">\r\n      <!-- 6000 -->\r\n      <g transform=\"translate(7.2 32.025326)scale(0.1 -0.1)\">\r\n       <defs>\r\n        <path d=\"M 33.015625 40.375 \r\nQ 26.375 40.375 22.484375 35.828125 \r\nQ 18.609375 31.296875 18.609375 23.390625 \r\nQ 18.609375 15.53125 22.484375 10.953125 \r\nQ 26.375 6.390625 33.015625 6.390625 \r\nQ 39.65625 6.390625 43.53125 10.953125 \r\nQ 47.40625 15.53125 47.40625 23.390625 \r\nQ 47.40625 31.296875 43.53125 35.828125 \r\nQ 39.65625 40.375 33.015625 40.375 \r\nz\r\nM 52.59375 71.296875 \r\nL 52.59375 62.3125 \r\nQ 48.875 64.0625 45.09375 64.984375 \r\nQ 41.3125 65.921875 37.59375 65.921875 \r\nQ 27.828125 65.921875 22.671875 59.328125 \r\nQ 17.53125 52.734375 16.796875 39.40625 \r\nQ 19.671875 43.65625 24.015625 45.921875 \r\nQ 28.375 48.1875 33.59375 48.1875 \r\nQ 44.578125 48.1875 50.953125 41.515625 \r\nQ 57.328125 34.859375 57.328125 23.390625 \r\nQ 57.328125 12.15625 50.6875 5.359375 \r\nQ 44.046875 -1.421875 33.015625 -1.421875 \r\nQ 20.359375 -1.421875 13.671875 8.265625 \r\nQ 6.984375 17.96875 6.984375 36.375 \r\nQ 6.984375 53.65625 15.1875 63.9375 \r\nQ 23.390625 74.21875 37.203125 74.21875 \r\nQ 40.921875 74.21875 44.703125 73.484375 \r\nQ 48.484375 72.75 52.59375 71.296875 \r\nz\r\n\" id=\"DejaVuSans-54\"/>\r\n       </defs>\r\n       <use xlink:href=\"#DejaVuSans-54\"/>\r\n       <use x=\"63.623047\" xlink:href=\"#DejaVuSans-48\"/>\r\n       <use x=\"127.246094\" xlink:href=\"#DejaVuSans-48\"/>\r\n       <use x=\"190.869141\" xlink:href=\"#DejaVuSans-48\"/>\r\n      </g>\r\n     </g>\r\n    </g>\r\n   </g>\r\n   <g id=\"patch_53\">\r\n    <path d=\"M 39.65 224.64 \r\nL 39.65 7.2 \r\n\" style=\"fill:none;stroke:#000000;stroke-linecap:square;stroke-linejoin:miter;stroke-width:0.8;\"/>\r\n   </g>\r\n   <g id=\"patch_54\">\r\n    <path d=\"M 374.45 224.64 \r\nL 374.45 7.2 \r\n\" style=\"fill:none;stroke:#000000;stroke-linecap:square;stroke-linejoin:miter;stroke-width:0.8;\"/>\r\n   </g>\r\n   <g id=\"patch_55\">\r\n    <path d=\"M 39.65 224.64 \r\nL 374.45 224.64 \r\n\" style=\"fill:none;stroke:#000000;stroke-linecap:square;stroke-linejoin:miter;stroke-width:0.8;\"/>\r\n   </g>\r\n   <g id=\"patch_56\">\r\n    <path d=\"M 39.65 7.2 \r\nL 374.45 7.2 \r\n\" style=\"fill:none;stroke:#000000;stroke-linecap:square;stroke-linejoin:miter;stroke-width:0.8;\"/>\r\n   </g>\r\n  </g>\r\n </g>\r\n <defs>\r\n  <clipPath id=\"p30d4f40fa0\">\r\n   <rect height=\"217.44\" width=\"334.8\" x=\"39.65\" y=\"7.2\"/>\r\n  </clipPath>\r\n </defs>\r\n</svg>\r\n",
      "image/png": "[encoded data removed]"
     },
     "metadata": {
      "needs_background": "light"
     }
    }
   ],
   "source": [
    "s = df.index.to_series().reset_index(drop=True).diff().dt.total_seconds()\n",
    "res = s.mask((s>s.quantile(0.99))|(s<s.quantile(0.01))).hist(bins=50, rwidth=0.5)"
   ]
  },
  {
   "cell_type": "code",
   "execution_count": 81,
   "metadata": {},
   "outputs": [
    {
     "output_type": "execute_result",
     "data": {
      "text/plain": [
       "Datetime\n",
       "2016-09-01 00:00:08    2.609767\n",
       "2016-09-01 00:05:10    2.609767\n",
       "2016-09-01 00:20:06    2.609767\n",
       "2016-09-01 00:25:05    2.609767\n",
       "2016-09-01 00:30:09    2.609767\n",
       "                         ...   \n",
       "2016-12-31 23:35:02    1.213542\n",
       "2016-12-31 23:40:01    1.213542\n",
       "2016-12-31 23:45:04    1.213542\n",
       "2016-12-31 23:50:03    1.213542\n",
       "2016-12-31 23:55:01    1.213542\n",
       "Name: Radiation, Length: 32686, dtype: float64"
      ]
     },
     "metadata": {},
     "execution_count": 81
    }
   ],
   "source": [
    "df.Radiation.resample('4H').transform('mean')"
   ]
  },
  {
   "cell_type": "code",
   "execution_count": 85,
   "metadata": {},
   "outputs": [
    {
     "output_type": "execute_result",
     "data": {
      "text/plain": [
       "Datetime\n",
       "2016-09-01 00:00:08    2.580000\n",
       "2016-09-01 00:05:10    2.705000\n",
       "2016-09-01 00:20:06    2.523333\n",
       "2016-09-01 00:25:05    2.445000\n",
       "2016-09-01 00:30:09    2.406000\n",
       "                         ...   \n",
       "2016-12-31 23:35:02    1.214167\n",
       "2016-12-31 23:40:01    1.213958\n",
       "2016-12-31 23:45:04    1.213750\n",
       "2016-12-31 23:50:03    1.213542\n",
       "2016-12-31 23:55:01    1.213469\n",
       "Name: Radiation, Length: 32686, dtype: float64"
      ]
     },
     "metadata": {},
     "execution_count": 85
    }
   ],
   "source": [
    "df.Radiation.rolling('4H').mean()"
   ]
  },
  {
   "cell_type": "code",
   "execution_count": 89,
   "metadata": {},
   "outputs": [
    {
     "output_type": "execute_result",
     "data": {
      "text/plain": [
       "Datetime\n",
       "2016-09-01 00:00:08    2.681500\n",
       "2016-09-01 00:05:10    2.681500\n",
       "2016-09-01 00:20:06    2.681500\n",
       "2016-09-01 00:25:05    2.681500\n",
       "2016-09-01 00:30:09    2.681500\n",
       "                         ...   \n",
       "2016-12-31 23:35:02    1.205833\n",
       "2016-12-31 23:40:01    1.205833\n",
       "2016-12-31 23:45:04    1.205833\n",
       "2016-12-31 23:50:03    1.205833\n",
       "2016-12-31 23:55:01    1.205833\n",
       "Name: Radiation, Length: 32686, dtype: float64"
      ]
     },
     "metadata": {},
     "execution_count": 89
    }
   ],
   "source": [
    "df.Radiation.resample('4H', origin='02:00:00').transform('mean')"
   ]
  },
  {
   "cell_type": "code",
   "execution_count": 104,
   "metadata": {},
   "outputs": [
    {
     "output_type": "execute_result",
     "data": {
      "text/plain": [
       "Datetime\n",
       "2016-09-01 00:00:08    2.58\n",
       "2016-09-01 00:05:10    2.58\n",
       "2016-09-01 00:20:06    2.58\n",
       "2016-09-01 00:25:05    2.58\n",
       "2016-09-01 00:30:09    2.58\n",
       "                       ... \n",
       "2016-12-31 23:35:02    1.22\n",
       "2016-12-31 23:40:01    1.22\n",
       "2016-12-31 23:45:04    1.20\n",
       "2016-12-31 23:50:03    1.21\n",
       "2016-12-31 23:55:01    1.21\n",
       "Name: Radiation, Length: 32686, dtype: float64"
      ]
     },
     "metadata": {},
     "execution_count": 104
    }
   ],
   "source": [
    "df.Radiation.rolling('4H').agg(lambda x:x[0])"
   ]
  },
  {
   "cell_type": "code",
   "execution_count": 115,
   "metadata": {},
   "outputs": [
    {
     "output_type": "execute_result",
     "data": {
      "text/plain": [
       "0"
      ]
     },
     "metadata": {},
     "execution_count": 115
    }
   ],
   "source": [
    "idx = pd.Index([1,2,3])\n",
    "pd.Index([4,5,6]).get_loc(idx[0], method='nearest')"
   ]
  }
 ],
 "metadata": {
  "kernelspec": {
   "name": "python3",
   "display_name": "Python 3.7.9 64-bit ('ML': conda)",
   "metadata": {
    "interpreter": {
     "hash": "539eeca01c4a82e9e0248c7d96d3e95516d644c0bbc096dd3e480eeded1964cf"
    }
   }
  },
  "language_info": {
   "codemirror_mode": {
    "name": "ipython",
    "version": 3
   },
   "file_extension": ".py",
   "mimetype": "text/x-python",
   "name": "python",
   "nbconvert_exporter": "python",
   "pygments_lexer": "ipython3",
   "version": "3.7.9-final"
  }
 },
 "nbformat": 4,
 "nbformat_minor": 4
}