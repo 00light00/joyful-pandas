{
 "cells": [
  {
   "cell_type": "code",
   "execution_count": 1,
   "metadata": {},
   "outputs": [],
   "source": [
    "import pandas as pd\n",
    "import numpy as np"
   ]
  },
  {
   "cell_type": "markdown",
   "metadata": {},
   "source": [
    "三种方式\n",
    ".loc\n",
    "①单个label\n",
    "②列表索引\n",
    "③切片\n",
    "④布尔数组\n",
    "⑤以①～④为返回值的单参数函数\n",
    ".iloc\n",
    "①整数(0到行数-1)\n",
    "②整数列表索引\n",
    "③整数切片\n",
    "④布尔数组\n",
    "⑤以①～④为返回值的单参数函数\n",
    "[]\n",
    "①对于序列，label/元素位置索引元素\n",
    "②对于数据框，column/column列表索引列，用切片索引行，同时索引可使用[..][..]"
   ]
  },
  {
   "cell_type": "code",
   "execution_count": 2,
   "metadata": {},
   "outputs": [],
   "source": [
    "df = pd.DataFrame({'A':['A0','A1','A2','A3'],'B':['B0','B1','B2','B3']})\n",
    "s = pd.Series([5,2,7,8],index=list('abcd'),name='S')\n",
    "\n",
    "s[[1,3]]\n",
    "s[['b','d']]\n",
    "\n",
    "df.loc[:,['B','A']] = df[['A','B']]\n",
    "df.loc[:,['B','A']] = df[['A','B']].to_numpy()\n",
    "df[['B','A']] = df[['A','B']]"
   ]
  },
  {
   "cell_type": "code",
   "execution_count": 3,
   "metadata": {},
   "outputs": [],
   "source": [
    "# 利用属性方法访问列\n",
    "s.b\n",
    "df.B\n",
    "# 利用属性方法修改/添加元素\n",
    "s.b = 6\n",
    "#s.e = 1 # 操作无效，但不会报错\n",
    "df.A = list('WXYZ')\n",
    "df['C'] = [0,1,2,3]\n",
    "#df.C = [0,1,2,3] # 0.21.0后的版本，这样写是非法的"
   ]
  },
  {
   "cell_type": "code",
   "execution_count": 4,
   "metadata": {},
   "outputs": [
    {
     "data": {
      "text/html": [
       "<div>\n",
       "<style scoped>\n",
       "    .dataframe tbody tr th:only-of-type {\n",
       "        vertical-align: middle;\n",
       "    }\n",
       "\n",
       "    .dataframe tbody tr th {\n",
       "        vertical-align: top;\n",
       "    }\n",
       "\n",
       "    .dataframe thead th {\n",
       "        text-align: right;\n",
       "    }\n",
       "</style>\n",
       "<table border=\"1\" class=\"dataframe\">\n",
       "  <thead>\n",
       "    <tr style=\"text-align: right;\">\n",
       "      <th></th>\n",
       "      <th>A</th>\n",
       "      <th>C</th>\n",
       "    </tr>\n",
       "    <tr>\n",
       "      <th>B</th>\n",
       "      <th></th>\n",
       "      <th></th>\n",
       "    </tr>\n",
       "  </thead>\n",
       "  <tbody>\n",
       "    <tr>\n",
       "      <th>B2</th>\n",
       "      <td>A2</td>\n",
       "      <td>C2</td>\n",
       "    </tr>\n",
       "    <tr>\n",
       "      <th>B3</th>\n",
       "      <td>A3</td>\n",
       "      <td>C3</td>\n",
       "    </tr>\n",
       "  </tbody>\n",
       "</table>\n",
       "</div>"
      ],
      "text/plain": [
       "     A   C\n",
       "B         \n",
       "B2  A2  C2\n",
       "B3  A3  C3"
      ]
     },
     "execution_count": 4,
     "metadata": {},
     "output_type": "execute_result"
    }
   ],
   "source": [
    "#[]的切片\n",
    "s[1] #s['b']\n",
    "s[-1] \n",
    "s[1:] #s['b':]\n",
    "s[:1] #s[:'b']\n",
    "s[::-1]\n",
    "s[2::-1] #s['c'::-1]\n",
    "s[2::-2] #s['c'::-2]\n",
    "s[::] = list('WXYZ')\n",
    "df = pd.DataFrame({'A':['A0','A1','A2','A3']\n",
    "                  ,'B':['B0','B1','B2','B3']\n",
    "                  ,'C':['C0','C1','C2','C3']})\n",
    "df = df.set_index('B')\n",
    "df[2:]\n",
    "df['B2':]\n",
    "df[['A','C']][2:]\n",
    "df[2:][['A','C']]\n",
    "#df[[0],['A']] #报错，格式不规范，这是类似于loc方法的格式"
   ]
  },
  {
   "cell_type": "code",
   "execution_count": 5,
   "metadata": {},
   "outputs": [
    {
     "data": {
      "text/html": [
       "<div>\n",
       "<style scoped>\n",
       "    .dataframe tbody tr th:only-of-type {\n",
       "        vertical-align: middle;\n",
       "    }\n",
       "\n",
       "    .dataframe tbody tr th {\n",
       "        vertical-align: top;\n",
       "    }\n",
       "\n",
       "    .dataframe thead th {\n",
       "        text-align: right;\n",
       "    }\n",
       "</style>\n",
       "<table border=\"1\" class=\"dataframe\">\n",
       "  <thead>\n",
       "    <tr style=\"text-align: right;\">\n",
       "      <th></th>\n",
       "      <th>A</th>\n",
       "    </tr>\n",
       "    <tr>\n",
       "      <th>B</th>\n",
       "      <th></th>\n",
       "    </tr>\n",
       "  </thead>\n",
       "  <tbody>\n",
       "    <tr>\n",
       "      <th>B0</th>\n",
       "      <td>A0</td>\n",
       "    </tr>\n",
       "    <tr>\n",
       "      <th>B1</th>\n",
       "      <td>A1</td>\n",
       "    </tr>\n",
       "  </tbody>\n",
       "</table>\n",
       "</div>"
      ],
      "text/plain": [
       "     A\n",
       "B     \n",
       "B0  A0\n",
       "B1  A1"
      ]
     },
     "execution_count": 5,
     "metadata": {},
     "output_type": "execute_result"
    }
   ],
   "source": [
    "#剩下两个区别在于，loc是值索引，iloc是位置索引\n",
    "#使用loc\n",
    "s.loc['b']\n",
    "s.loc['b':]\n",
    "s.loc['b':] = 0\n",
    "df.loc[['B0','B1'],:]\n",
    "df.loc[::-1,::-1]\n",
    "#使用iloc(全是整数切片，不可能出现'...'这种)\n",
    "s = pd.Series([5,6,7,8],index=list('abcd'),name='S')\n",
    "s.iloc[:2]\n",
    "s.iloc[2]\n",
    "s.iloc[2] = 'a'\n",
    "df.iloc[:2,:1]\n",
    "df.iloc[:2,:1]"
   ]
  },
  {
   "cell_type": "code",
   "execution_count": 6,
   "metadata": {},
   "outputs": [
    {
     "data": {
      "text/plain": [
       "B\n",
       "B1    A1\n",
       "B2    A2\n",
       "B3    A3\n",
       "Name: A, dtype: object"
      ]
     },
     "execution_count": 6,
     "metadata": {},
     "output_type": "execute_result"
    }
   ],
   "source": [
    "#用函数方法索引(返回内容必须是上述四者之一)\n",
    "df.loc[lambda df:df.A != 'A1']\n",
    "df.iloc[lambda x:[1,2]]\n",
    "df.loc[lambda x:['B0','B3']] \n",
    "#df.iloc[lambda x:['B0','B3']] #报错，因为使用的是iloc\n",
    "df[lambda df: df.columns[0]] #用[]方法\n",
    "df.A.loc[lambda s:s!='A0'] #注意，传入的是loc前面的东西\n",
    "#df.A.iloc[lambda s:s!='A0'] #报错，因为使用的是iloc"
   ]
  },
  {
   "cell_type": "code",
   "execution_count": 7,
   "metadata": {},
   "outputs": [],
   "source": [
    "#s.index[1] = 'a1' #报错，索引不能直接修改，正确方法如下(df.columns[1] = 'a'报错也是同样的原理)\n",
    "new_index = s.index.tolist()\n",
    "new_index[1] = 'a1'\n",
    "s.index = new_index\n",
    "#缺失型索引\n",
    "#s.loc[['d','e']] #产生警告，对于不存在的索引，应当用reindex()方法：\n",
    "s.reindex(['d','e'])\n",
    "#如果想要把超出索引的剔除，可以使用intersection\n",
    "s.loc[s.index.intersection(['d','e'])]\n",
    "#下面更改行索引，产生重复项\n",
    "new_index = s.index.tolist()\n",
    "new_index[1] = 'a'\n",
    "s.index = new_index\n",
    "#s.reindex(['d','e']) #报错，重复项不能使用reindex"
   ]
  },
  {
   "cell_type": "code",
   "execution_count": 14,
   "metadata": {},
   "outputs": [
    {
     "data": {
      "text/html": [
       "<div>\n",
       "<style scoped>\n",
       "    .dataframe tbody tr th:only-of-type {\n",
       "        vertical-align: middle;\n",
       "    }\n",
       "\n",
       "    .dataframe tbody tr th {\n",
       "        vertical-align: top;\n",
       "    }\n",
       "\n",
       "    .dataframe thead th {\n",
       "        text-align: right;\n",
       "    }\n",
       "</style>\n",
       "<table border=\"1\" class=\"dataframe\">\n",
       "  <thead>\n",
       "    <tr style=\"text-align: right;\">\n",
       "      <th></th>\n",
       "      <th>A</th>\n",
       "      <th>C</th>\n",
       "    </tr>\n",
       "  </thead>\n",
       "  <tbody>\n",
       "    <tr>\n",
       "      <th>0</th>\n",
       "      <td>A0</td>\n",
       "      <td>C0</td>\n",
       "    </tr>\n",
       "    <tr>\n",
       "      <th>1</th>\n",
       "      <td>A1</td>\n",
       "      <td>C1</td>\n",
       "    </tr>\n",
       "    <tr>\n",
       "      <th>2</th>\n",
       "      <td>A2</td>\n",
       "      <td>C2</td>\n",
       "    </tr>\n",
       "    <tr>\n",
       "      <th>3</th>\n",
       "      <td>A3</td>\n",
       "      <td>C3</td>\n",
       "    </tr>\n",
       "  </tbody>\n",
       "</table>\n",
       "</div>"
      ],
      "text/plain": [
       "    A   C\n",
       "0  A0  C0\n",
       "1  A1  C1\n",
       "2  A2  C2\n",
       "3  A3  C3"
      ]
     },
     "execution_count": 14,
     "metadata": {},
     "output_type": "execute_result"
    }
   ],
   "source": [
    "#抽样\n",
    "s = pd.Series(list('abcdefghijklmnopqrstuvwxyz'))\n",
    "s.sample() #默认抽一个\n",
    "s.sample(n=10)\n",
    "s.sample(frac=0.3) #抽30%的样本\n",
    "#默认不放回抽样，如果放回抽样则设置replace参数\n",
    "s.sample(n=5, replace=True) #可能有重复项\n",
    "#不等概率抽样\n",
    "pro = [0.1,0.3,0.4,0.2]\n",
    "s = pd.Series(list('abcd'))\n",
    "s.sample(n=2,weights=pro)\n",
    "#如果权重不是sum为1，那么会归一化处理\n",
    "pro = [3,5,2,4]\n",
    "s.sample(n=2,weights=pro)\n",
    "#抽列\n",
    "df = pd.DataFrame({'A':['A0','A1','A2','A3']\n",
    "                  ,'B':['B0','B1','B2','B3']\n",
    "                  ,'C':['C0','C1','C2','C3']})\n",
    "df.sample(n=2, axis=1)\n",
    "#用random_state设置随机数种子\n",
    "df.sample(n=2,axis=1,random_state=1)"
   ]
  },
  {
   "cell_type": "code",
   "execution_count": 20,
   "metadata": {},
   "outputs": [
    {
     "data": {
      "text/html": [
       "<div>\n",
       "<style scoped>\n",
       "    .dataframe tbody tr th:only-of-type {\n",
       "        vertical-align: middle;\n",
       "    }\n",
       "\n",
       "    .dataframe tbody tr th {\n",
       "        vertical-align: top;\n",
       "    }\n",
       "\n",
       "    .dataframe thead th {\n",
       "        text-align: right;\n",
       "    }\n",
       "</style>\n",
       "<table border=\"1\" class=\"dataframe\">\n",
       "  <thead>\n",
       "    <tr style=\"text-align: right;\">\n",
       "      <th></th>\n",
       "      <th>A</th>\n",
       "      <th>B</th>\n",
       "      <th>C</th>\n",
       "      <th>D</th>\n",
       "    </tr>\n",
       "  </thead>\n",
       "  <tbody>\n",
       "    <tr>\n",
       "      <th>0</th>\n",
       "      <td>A0</td>\n",
       "      <td>B0</td>\n",
       "      <td>C0</td>\n",
       "      <td>A0</td>\n",
       "    </tr>\n",
       "    <tr>\n",
       "      <th>1</th>\n",
       "      <td>A1</td>\n",
       "      <td>B1</td>\n",
       "      <td>C1</td>\n",
       "      <td>A1</td>\n",
       "    </tr>\n",
       "    <tr>\n",
       "      <th>2</th>\n",
       "      <td>A2</td>\n",
       "      <td>B2</td>\n",
       "      <td>C2</td>\n",
       "      <td>A2</td>\n",
       "    </tr>\n",
       "    <tr>\n",
       "      <th>3</th>\n",
       "      <td>A3</td>\n",
       "      <td>B3</td>\n",
       "      <td>C3</td>\n",
       "      <td>A3</td>\n",
       "    </tr>\n",
       "  </tbody>\n",
       "</table>\n",
       "</div>"
      ],
      "text/plain": [
       "    A   B   C   D\n",
       "0  A0  B0  C0  A0\n",
       "1  A1  B1  C1  A1\n",
       "2  A2  B2  C2  A2\n",
       "3  A3  B3  C3  A3"
      ]
     },
     "execution_count": 20,
     "metadata": {},
     "output_type": "execute_result"
    }
   ],
   "source": [
    "#利用loc和[]增加新行/列\n",
    "s[4] = 'e'\n",
    "df.loc[:,'D'] = df['A']\n",
    "df"
   ]
  },
  {
   "cell_type": "code",
   "execution_count": 22,
   "metadata": {},
   "outputs": [
    {
     "name": "stdout",
     "output_type": "stream",
     "text": [
      "9.45 µs ± 68.7 ns per loop (mean ± std. dev. of 7 runs, 100000 loops each)\n",
      "210 µs ± 1.33 µs per loop (mean ± std. dev. of 7 runs, 1000 loops each)\n",
      "10.6 µs ± 63.9 ns per loop (mean ± std. dev. of 7 runs, 100000 loops each)\n",
      "205 µs ± 1.02 µs per loop (mean ± std. dev. of 7 runs, 1000 loops each)\n"
     ]
    }
   ],
   "source": [
    "#单元素索引的高效实现:at,iat\n",
    "%timeit df.at[0,'A'] = 0\n",
    "%timeit df.loc[0,'A'] = 0\n",
    "%timeit df.iat[0,0] = 0\n",
    "%timeit df.iloc[0,0] = 0"
   ]
  },
  {
   "cell_type": "code",
   "execution_count": 38,
   "metadata": {},
   "outputs": [
    {
     "name": "stdout",
     "output_type": "stream",
     "text": [
      "one\n",
      "one\n",
      "two\n",
      "three\n",
      "two\n",
      "one\n",
      "six\n"
     ]
    },
    {
     "data": {
      "text/plain": [
       "0    good\n",
       "1    good\n",
       "2    good\n",
       "3    good\n",
       "4    good\n",
       "5    good\n",
       "6    good\n",
       "Name: a, dtype: object"
      ]
     },
     "execution_count": 38,
     "metadata": {},
     "output_type": "execute_result"
    }
   ],
   "source": [
    "#布尔索引，其中“|”代表or操作，“&”代表and操作，“~”代表not操作\n",
    "s = pd.Series(range(-5, 5))\n",
    "s[s>0]\n",
    "s[(s < -1) | (s > 0.5)]\n",
    "s[~(s < 0)]\n",
    "df = pd.DataFrame({'a': ['one', 'one', 'two', 'three', 'two', 'one', 'six'],\n",
    "                    'b': ['x', 'y', 'y', 'x', 'y', 'x', 'x'],\n",
    "                    'c': np.random.randn(7)})\n",
    "df[[x.startswith('t') for x in df['a']]]\n",
    "#上面更高效的写法，利用map函数：\n",
    "df[df['a'].map(lambda x: x.startswith('t'))]\n",
    "#现在布尔索引结合loc索引可以做许多事情\n",
    "df.loc[df['a'].map(lambda x: x.startswith('t')) & (df['b'] == 'x'),'c'::-2]\n",
    "#关于map函数的补充：\n",
    "df['a'].map(lambda x:print(x)) #从打印内容看出如果用是对每一个元素的循环\n",
    "df['a'].map(lambda x:'good') #直接输出内容，只不过上面使用了输出的是布尔值"
   ]
  },
  {
   "cell_type": "code",
   "execution_count": 52,
   "metadata": {},
   "outputs": [
    {
     "data": {
      "text/html": [
       "<div>\n",
       "<style scoped>\n",
       "    .dataframe tbody tr th:only-of-type {\n",
       "        vertical-align: middle;\n",
       "    }\n",
       "\n",
       "    .dataframe tbody tr th {\n",
       "        vertical-align: top;\n",
       "    }\n",
       "\n",
       "    .dataframe thead th {\n",
       "        text-align: right;\n",
       "    }\n",
       "</style>\n",
       "<table border=\"1\" class=\"dataframe\">\n",
       "  <thead>\n",
       "    <tr style=\"text-align: right;\">\n",
       "      <th></th>\n",
       "      <th>vals</th>\n",
       "      <th>ids</th>\n",
       "      <th>ids2</th>\n",
       "    </tr>\n",
       "  </thead>\n",
       "  <tbody>\n",
       "    <tr>\n",
       "      <th>0</th>\n",
       "      <td>1</td>\n",
       "      <td>a</td>\n",
       "      <td>a</td>\n",
       "    </tr>\n",
       "  </tbody>\n",
       "</table>\n",
       "</div>"
      ],
      "text/plain": [
       "   vals ids ids2\n",
       "0     1   a    a"
      ]
     },
     "execution_count": 52,
     "metadata": {},
     "output_type": "execute_result"
    }
   ],
   "source": [
    "#isin方法\n",
    "#(1)针对Series\n",
    "s.isin([2, 4, 6]) #返回布尔值\n",
    "s[s.isin([-10,-5,0,5,10])]\n",
    "s.index.isin([0,3,6,10])\n",
    "s[s.index.isin([0,3,6,10])]\n",
    "#多级索引的isin，可以设置level\n",
    "s_mi = pd.Series(np.arange(6),\n",
    "                 index=pd.MultiIndex.from_product([[0, 1], ['a', 'b', 'c']]))\n",
    "s_mi.iloc[s_mi.index.isin([(1, 'a'), (2, 'b'), (0, 'c')])]\n",
    "s_mi.iloc[s_mi.index.isin(['a', 'c', 'e'], level=1)]\n",
    "#(2)针对DataFrame\n",
    "df = pd.DataFrame({'vals': [1, 2, 3, 4], 'ids': ['a', 'b', 'f', 'n'],\n",
    "                   'ids2': ['a', 'n', 'c', 'n']})\n",
    "values = {'ids': ['a', 'b'], 'vals': [1, 3]}\n",
    "df.isin(values)\n",
    "#(3)与any或all方法的结合，能够完成许多筛选\n",
    "values = {'ids': ['a', 'b'], 'ids2': ['a', 'c'], 'vals': [1, 3]}\n",
    "df[df.isin(values).all(1)] #1代表横向/跨列判断"
   ]
  },
  {
   "cell_type": "code",
   "execution_count": null,
   "metadata": {},
   "outputs": [],
   "source": [
    "#where方法和query方法\n"
   ]
  }
 ],
 "metadata": {
  "kernelspec": {
   "display_name": "Python 3",
   "language": "python",
   "name": "python3"
  },
  "language_info": {
   "codemirror_mode": {
    "name": "ipython",
    "version": 3
   },
   "file_extension": ".py",
   "mimetype": "text/x-python",
   "name": "python",
   "nbconvert_exporter": "python",
   "pygments_lexer": "ipython3",
   "version": "3.7.6"
  }
 },
 "nbformat": 4,
 "nbformat_minor": 2
}
